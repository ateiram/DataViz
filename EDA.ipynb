{
 "cells": [
  {
   "cell_type": "code",
   "execution_count": 130,
   "id": "48e2565c",
   "metadata": {},
   "outputs": [],
   "source": [
    "import pandas as pd\n",
    "import numpy as np\n",
    "import matplotlib.pyplot as plt\n",
    "import seaborn as sns\n",
    "from datetime import datetime"
   ]
  },
  {
   "cell_type": "code",
   "execution_count": 301,
   "id": "2539b8da",
   "metadata": {},
   "outputs": [],
   "source": [
    "df19 = pd.read_csv('data/bluebikes_tripdata_2019_small.csv',\n",
    "                  parse_dates=['starttime','stoptime']\n",
    "                 )\n"
   ]
  },
  {
   "cell_type": "code",
   "execution_count": 302,
   "id": "5260a62b",
   "metadata": {},
   "outputs": [],
   "source": [
    "df19sample = df19.sample(300000)"
   ]
  },
  {
   "cell_type": "code",
   "execution_count": 303,
   "id": "5a5b0ea8",
   "metadata": {},
   "outputs": [],
   "source": [
    "df19sample.to_csv('data/bluebikes_tripdata_2019_small.csv', index=False)  "
   ]
  },
  {
   "cell_type": "code",
   "execution_count": 304,
   "id": "4d8ad6d9",
   "metadata": {},
   "outputs": [],
   "source": [
    "df20 = pd.read_csv('data/bluebikes_tripdata_2020_small.csv',\n",
    "                  parse_dates=['starttime','stoptime']\n",
    "                 )"
   ]
  },
  {
   "cell_type": "code",
   "execution_count": null,
   "id": "62b433d7",
   "metadata": {},
   "outputs": [],
   "source": [
    "df19.sample()"
   ]
  },
  {
   "cell_type": "code",
   "execution_count": 305,
   "id": "1e8f03f5",
   "metadata": {},
   "outputs": [
    {
     "data": {
      "text/plain": [
       "0        2019-10-15 21:18:56\n",
       "1        2019-03-08 13:51:21\n",
       "2        2019-09-28 13:09:11\n",
       "3        2019-07-09 19:07:43\n",
       "4        2019-11-09 15:36:13\n",
       "                 ...        \n",
       "299995   2019-09-30 17:13:39\n",
       "299996   2019-12-18 17:11:32\n",
       "299997   2019-10-10 09:25:42\n",
       "299998   2019-10-25 23:00:58\n",
       "299999   2019-09-09 18:05:06\n",
       "Name: starttime, Length: 300000, dtype: datetime64[ns]"
      ]
     },
     "execution_count": 305,
     "metadata": {},
     "output_type": "execute_result"
    }
   ],
   "source": [
    "df19['starttime']"
   ]
  },
  {
   "cell_type": "code",
   "execution_count": 306,
   "id": "88d33b3c",
   "metadata": {},
   "outputs": [],
   "source": [
    "df = pd.concat([df19,df20])\n"
   ]
  },
  {
   "cell_type": "code",
   "execution_count": null,
   "id": "879d64f7",
   "metadata": {
    "scrolled": true
   },
   "outputs": [],
   "source": [
    "\n"
   ]
  },
  {
   "cell_type": "code",
   "execution_count": 307,
   "id": "b67ec87b",
   "metadata": {},
   "outputs": [],
   "source": [
    "df.columns = ['duration', 'start_time', 'stop_time', 'start_id',\n",
    "               'start_name', 'start_lat', 'start_long', 'end_id', 'end_name',\n",
    "               'end_lat', 'end_long', 'bike_id', 'user_type',\n",
    "               'birth_year','gender','year', 'month','postal_code']"
   ]
  },
  {
   "cell_type": "code",
   "execution_count": 308,
   "id": "a0bdb9f1",
   "metadata": {},
   "outputs": [
    {
     "name": "stdout",
     "output_type": "stream",
     "text": [
      "There are 600,000 rows of data.\n"
     ]
    }
   ],
   "source": [
    "print(f\"There are {df.shape[0]:,} rows of data.\")"
   ]
  },
  {
   "cell_type": "code",
   "execution_count": 309,
   "id": "2e5b5f2e",
   "metadata": {},
   "outputs": [
    {
     "name": "stdout",
     "output_type": "stream",
     "text": [
      "There are 923,354 missing values.\n"
     ]
    }
   ],
   "source": [
    "print(f\"There are {df.isna().sum().sum():,} missing values.\")"
   ]
  },
  {
   "cell_type": "code",
   "execution_count": 310,
   "id": "a3636269",
   "metadata": {},
   "outputs": [
    {
     "data": {
      "text/plain": [
       "birth_year      50.0%\n",
       "gender          50.0%\n",
       "postal_code    53.89%\n",
       "Name: Missing value percentage, dtype: object"
      ]
     },
     "execution_count": 310,
     "metadata": {},
     "output_type": "execute_result"
    }
   ],
   "source": [
    "(df.isna().sum()[df.isna().sum() > 0] / df.shape[0] * 100).apply(lambda x: (str(round(x, 2))+'%').rjust(5)).rename('Missing value percentage')"
   ]
  },
  {
   "cell_type": "code",
   "execution_count": 311,
   "id": "d617f112",
   "metadata": {},
   "outputs": [],
   "source": [
    "df = df.drop(columns=['birth_year','gender','postal_code'])"
   ]
  },
  {
   "cell_type": "code",
   "execution_count": 286,
   "id": "09e8708c",
   "metadata": {},
   "outputs": [],
   "source": [
    "import dash\n",
    "import dash_core_components as dcc\n",
    "import dash_html_components as html\n",
    "import plotly.graph_objects as go\n",
    "from dash.dependencies import Input, Output, State\n",
    "import pandas as pd\n",
    "import matplotlib.pyplot as plt\n",
    "import seaborn as sns\n",
    "from datetime import datetime\n"
   ]
  },
  {
   "cell_type": "code",
   "execution_count": 287,
   "id": "f670ee3c",
   "metadata": {},
   "outputs": [
    {
     "data": {
      "image/png": "[encoded data removed]",
      "text/plain": [
       "<Figure size 720x432 with 1 Axes>"
      ]
     },
     "metadata": {
      "needs_background": "light"
     },
     "output_type": "display_data"
    }
   ],
   "source": [
    "counts = df.groupby(by=\"year\")['bike_id'].nunique()\n",
    "\n",
    "fig = plt.figure(figsize=(10,6))\n",
    "ax = fig.add_subplot(1,1,1)\n",
    "ax.bar(['2019','2020'],counts.values)\n",
    "\n",
    "ax.title.set_text('Number of bikes used by year')"
   ]
  },
  {
   "cell_type": "code",
   "execution_count": 288,
   "id": "155c08d6",
   "metadata": {},
   "outputs": [],
   "source": [
    "import plotly.express as px"
   ]
  },
  {
   "cell_type": "code",
   "execution_count": 289,
   "id": "63ee1844",
   "metadata": {},
   "outputs": [
    {
     "ename": "ValueError",
     "evalue": "Invalid property specified for object of type plotly.graph_objs.Layout: 'config'\n\nDid you mean \"font\"?\n\n    Valid properties:\n        activeshape\n            :class:`plotly.graph_objects.layout.Activeshape`\n            instance or dict with compatible properties\n        angularaxis\n            :class:`plotly.graph_objects.layout.AngularAxis`\n            instance or dict with compatible properties\n        annotations\n            A tuple of\n            :class:`plotly.graph_objects.layout.Annotation`\n            instances or dicts with compatible properties\n        annotationdefaults\n            When used in a template (as\n            layout.template.layout.annotationdefaults), sets the\n            default property values to use for elements of\n            layout.annotations\n        autosize\n            Determines whether or not a layout width or height that\n            has been left undefined by the user is initialized on\n            each relayout. Note that, regardless of this attribute,\n            an undefined layout width or height is always\n            initialized on the first call to plot.\n        autotypenumbers\n            Using \"strict\" a numeric string in trace data is not\n            converted to a number. Using *convert types* a numeric\n            string in trace data may be treated as a number during\n            automatic axis `type` detection. This is the default\n            value; however it could be overridden for individual\n            axes.\n        bargap\n            Sets the gap (in plot fraction) between bars of\n            adjacent location coordinates.\n        bargroupgap\n            Sets the gap (in plot fraction) between bars of the\n            same location coordinate.\n        barmode\n            Determines how bars at the same location coordinate are\n            displayed on the graph. With \"stack\", the bars are\n            stacked on top of one another With \"relative\", the bars\n            are stacked on top of one another, with negative values\n            below the axis, positive values above With \"group\", the\n            bars are plotted next to one another centered around\n            the shared location. With \"overlay\", the bars are\n            plotted over one another, you might need to an\n            \"opacity\" to see multiple bars.\n        barnorm\n            Sets the normalization for bar traces on the graph.\n            With \"fraction\", the value of each bar is divided by\n            the sum of all values at that location coordinate.\n            \"percent\" is the same but multiplied by 100 to show\n            percentages.\n        boxgap\n            Sets the gap (in plot fraction) between boxes of\n            adjacent location coordinates. Has no effect on traces\n            that have \"width\" set.\n        boxgroupgap\n            Sets the gap (in plot fraction) between boxes of the\n            same location coordinate. Has no effect on traces that\n            have \"width\" set.\n        boxmode\n            Determines how boxes at the same location coordinate\n            are displayed on the graph. If \"group\", the boxes are\n            plotted next to one another centered around the shared\n            location. If \"overlay\", the boxes are plotted over one\n            another, you might need to set \"opacity\" to see them\n            multiple boxes. Has no effect on traces that have\n            \"width\" set.\n        calendar\n            Sets the default calendar system to use for\n            interpreting and displaying dates throughout the plot.\n        clickmode\n            Determines the mode of single click interactions.\n            \"event\" is the default value and emits the\n            `plotly_click` event. In addition this mode emits the\n            `plotly_selected` event in drag modes \"lasso\" and\n            \"select\", but with no event data attached (kept for\n            compatibility reasons). The \"select\" flag enables\n            selecting single data points via click. This mode also\n            supports persistent selections, meaning that pressing\n            Shift while clicking, adds to / subtracts from an\n            existing selection. \"select\" with `hovermode`: \"x\" can\n            be confusing, consider explicitly setting `hovermode`:\n            \"closest\" when using this feature. Selection events are\n            sent accordingly as long as \"event\" flag is set as\n            well. When the \"event\" flag is missing, `plotly_click`\n            and `plotly_selected` events are not fired.\n        coloraxis\n            :class:`plotly.graph_objects.layout.Coloraxis` instance\n            or dict with compatible properties\n        colorscale\n            :class:`plotly.graph_objects.layout.Colorscale`\n            instance or dict with compatible properties\n        colorway\n            Sets the default trace colors.\n        computed\n            Placeholder for exporting automargin-impacting values\n            namely `margin.t`, `margin.b`, `margin.l` and\n            `margin.r` in \"full-json\" mode.\n        datarevision\n            If provided, a changed value tells `Plotly.react` that\n            one or more data arrays has changed. This way you can\n            modify arrays in-place rather than making a complete\n            new copy for an incremental change. If NOT provided,\n            `Plotly.react` assumes that data arrays are being\n            treated as immutable, thus any data array with a\n            different identity from its predecessor contains new\n            data.\n        direction\n            Legacy polar charts are deprecated! Please switch to\n            \"polar\" subplots. Sets the direction corresponding to\n            positive angles in legacy polar charts.\n        dragmode\n            Determines the mode of drag interactions. \"select\" and\n            \"lasso\" apply only to scatter traces with markers or\n            text. \"orbit\" and \"turntable\" apply only to 3D scenes.\n        editrevision\n            Controls persistence of user-driven changes in\n            `editable: true` configuration, other than trace names\n            and axis titles. Defaults to `layout.uirevision`.\n        extendfunnelareacolors\n            If `true`, the funnelarea slice colors (whether given\n            by `funnelareacolorway` or inherited from `colorway`)\n            will be extended to three times its original length by\n            first repeating every color 20% lighter then each color\n            20% darker. This is intended to reduce the likelihood\n            of reusing the same color when you have many slices,\n            but you can set `false` to disable. Colors provided in\n            the trace, using `marker.colors`, are never extended.\n        extendpiecolors\n            If `true`, the pie slice colors (whether given by\n            `piecolorway` or inherited from `colorway`) will be\n            extended to three times its original length by first\n            repeating every color 20% lighter then each color 20%\n            darker. This is intended to reduce the likelihood of\n            reusing the same color when you have many slices, but\n            you can set `false` to disable. Colors provided in the\n            trace, using `marker.colors`, are never extended.\n        extendsunburstcolors\n            If `true`, the sunburst slice colors (whether given by\n            `sunburstcolorway` or inherited from `colorway`) will\n            be extended to three times its original length by first\n            repeating every color 20% lighter then each color 20%\n            darker. This is intended to reduce the likelihood of\n            reusing the same color when you have many slices, but\n            you can set `false` to disable. Colors provided in the\n            trace, using `marker.colors`, are never extended.\n        extendtreemapcolors\n            If `true`, the treemap slice colors (whether given by\n            `treemapcolorway` or inherited from `colorway`) will be\n            extended to three times its original length by first\n            repeating every color 20% lighter then each color 20%\n            darker. This is intended to reduce the likelihood of\n            reusing the same color when you have many slices, but\n            you can set `false` to disable. Colors provided in the\n            trace, using `marker.colors`, are never extended.\n        font\n            Sets the global font. Note that fonts used in traces\n            and other layout components inherit from the global\n            font.\n        funnelareacolorway\n            Sets the default funnelarea slice colors. Defaults to\n            the main `colorway` used for trace colors. If you\n            specify a new list here it can still be extended with\n            lighter and darker colors, see\n            `extendfunnelareacolors`.\n        funnelgap\n            Sets the gap (in plot fraction) between bars of\n            adjacent location coordinates.\n        funnelgroupgap\n            Sets the gap (in plot fraction) between bars of the\n            same location coordinate.\n        funnelmode\n            Determines how bars at the same location coordinate are\n            displayed on the graph. With \"stack\", the bars are\n            stacked on top of one another With \"group\", the bars\n            are plotted next to one another centered around the\n            shared location. With \"overlay\", the bars are plotted\n            over one another, you might need to an \"opacity\" to see\n            multiple bars.\n        geo\n            :class:`plotly.graph_objects.layout.Geo` instance or\n            dict with compatible properties\n        grid\n            :class:`plotly.graph_objects.layout.Grid` instance or\n            dict with compatible properties\n        height\n            Sets the plot's height (in px).\n        hiddenlabels\n            hiddenlabels is the funnelarea & pie chart analog of\n            visible:'legendonly' but it can contain many labels,\n            and can simultaneously hide slices from several\n            pies/funnelarea charts\n        hiddenlabelssrc\n            Sets the source reference on Chart Studio Cloud for\n            hiddenlabels .\n        hidesources\n            Determines whether or not a text link citing the data\n            source is placed at the bottom-right cored of the\n            figure. Has only an effect only on graphs that have\n            been generated via forked graphs from the Chart Studio\n            Cloud (at https://chart-studio.plotly.com or on-\n            premise).\n        hoverdistance\n            Sets the default distance (in pixels) to look for data\n            to add hover labels (-1 means no cutoff, 0 means no\n            looking for data). This is only a real distance for\n            hovering on point-like objects, like scatter points.\n            For area-like objects (bars, scatter fills, etc)\n            hovering is on inside the area and off outside, but\n            these objects will not supersede hover on point-like\n            objects in case of conflict.\n        hoverlabel\n            :class:`plotly.graph_objects.layout.Hoverlabel`\n            instance or dict with compatible properties\n        hovermode\n            Determines the mode of hover interactions. If\n            \"closest\", a single hoverlabel will appear for the\n            \"closest\" point within the `hoverdistance`. If \"x\" (or\n            \"y\"), multiple hoverlabels will appear for multiple\n            points at the \"closest\" x- (or y-) coordinate within\n            the `hoverdistance`, with the caveat that no more than\n            one hoverlabel will appear per trace. If *x unified*\n            (or *y unified*), a single hoverlabel will appear\n            multiple points at the closest x- (or y-) coordinate\n            within the `hoverdistance` with the caveat that no more\n            than one hoverlabel will appear per trace. In this\n            mode, spikelines are enabled by default perpendicular\n            to the specified axis. If false, hover interactions are\n            disabled. If `clickmode` includes the \"select\" flag,\n            `hovermode` defaults to \"closest\". If `clickmode` lacks\n            the \"select\" flag, it defaults to \"x\" or \"y\" (depending\n            on the trace's `orientation` value) for plots based on\n            cartesian coordinates. For anything else the default\n            value is \"closest\".\n        images\n            A tuple of :class:`plotly.graph_objects.layout.Image`\n            instances or dicts with compatible properties\n        imagedefaults\n            When used in a template (as\n            layout.template.layout.imagedefaults), sets the default\n            property values to use for elements of layout.images\n        legend\n            :class:`plotly.graph_objects.layout.Legend` instance or\n            dict with compatible properties\n        mapbox\n            :class:`plotly.graph_objects.layout.Mapbox` instance or\n            dict with compatible properties\n        margin\n            :class:`plotly.graph_objects.layout.Margin` instance or\n            dict with compatible properties\n        meta\n            Assigns extra meta information that can be used in\n            various `text` attributes. Attributes such as the\n            graph, axis and colorbar `title.text`, annotation\n            `text` `trace.name` in legend items, `rangeselector`,\n            `updatemenus` and `sliders` `label` text all support\n            `meta`. One can access `meta` fields using template\n            strings: `%{meta[i]}` where `i` is the index of the\n            `meta` item in question. `meta` can also be an object\n            for example `{key: value}` which can be accessed\n            %{meta[key]}.\n        metasrc\n            Sets the source reference on Chart Studio Cloud for\n            meta .\n        modebar\n            :class:`plotly.graph_objects.layout.Modebar` instance\n            or dict with compatible properties\n        newshape\n            :class:`plotly.graph_objects.layout.Newshape` instance\n            or dict with compatible properties\n        orientation\n            Legacy polar charts are deprecated! Please switch to\n            \"polar\" subplots. Rotates the entire polar by the given\n            angle in legacy polar charts.\n        paper_bgcolor\n            Sets the background color of the paper where the graph\n            is drawn.\n        piecolorway\n            Sets the default pie slice colors. Defaults to the main\n            `colorway` used for trace colors. If you specify a new\n            list here it can still be extended with lighter and\n            darker colors, see `extendpiecolors`.\n        plot_bgcolor\n            Sets the background color of the plotting area in-\n            between x and y axes.\n        polar\n            :class:`plotly.graph_objects.layout.Polar` instance or\n            dict with compatible properties\n        radialaxis\n            :class:`plotly.graph_objects.layout.RadialAxis`\n            instance or dict with compatible properties\n        scene\n            :class:`plotly.graph_objects.layout.Scene` instance or\n            dict with compatible properties\n        selectdirection\n            When `dragmode` is set to \"select\", this limits the\n            selection of the drag to horizontal, vertical or\n            diagonal. \"h\" only allows horizontal selection, \"v\"\n            only vertical, \"d\" only diagonal and \"any\" sets no\n            limit.\n        selectionrevision\n            Controls persistence of user-driven changes in selected\n            points from all traces.\n        separators\n            Sets the decimal and thousand separators. For example,\n            *. * puts a '.' before decimals and a space between\n            thousands. In English locales, dflt is \".,\" but other\n            locales may alter this default.\n        shapes\n            A tuple of :class:`plotly.graph_objects.layout.Shape`\n            instances or dicts with compatible properties\n        shapedefaults\n            When used in a template (as\n            layout.template.layout.shapedefaults), sets the default\n            property values to use for elements of layout.shapes\n        showlegend\n            Determines whether or not a legend is drawn. Default is\n            `true` if there is a trace to show and any of these: a)\n            Two or more traces would by default be shown in the\n            legend. b) One pie trace is shown in the legend. c) One\n            trace is explicitly given with `showlegend: true`.\n        sliders\n            A tuple of :class:`plotly.graph_objects.layout.Slider`\n            instances or dicts with compatible properties\n        sliderdefaults\n            When used in a template (as\n            layout.template.layout.sliderdefaults), sets the\n            default property values to use for elements of\n            layout.sliders\n        spikedistance\n            Sets the default distance (in pixels) to look for data\n            to draw spikelines to (-1 means no cutoff, 0 means no\n            looking for data). As with hoverdistance, distance does\n            not apply to area-like objects. In addition, some\n            objects can be hovered on but will not generate\n            spikelines, such as scatter fills.\n        sunburstcolorway\n            Sets the default sunburst slice colors. Defaults to the\n            main `colorway` used for trace colors. If you specify a\n            new list here it can still be extended with lighter and\n            darker colors, see `extendsunburstcolors`.\n        template\n            Default attributes to be applied to the plot. This\n            should be a dict with format: `{'layout':\n            layoutTemplate, 'data': {trace_type: [traceTemplate,\n            ...], ...}}` where `layoutTemplate` is a dict matching\n            the structure of `figure.layout` and `traceTemplate` is\n            a dict matching the structure of the trace with type\n            `trace_type` (e.g. 'scatter'). Alternatively, this may\n            be specified as an instance of\n            plotly.graph_objs.layout.Template.  Trace templates are\n            applied cyclically to traces of each type. Container\n            arrays (eg `annotations`) have special handling: An\n            object ending in `defaults` (eg `annotationdefaults`)\n            is applied to each array item. But if an item has a\n            `templateitemname` key we look in the template array\n            for an item with matching `name` and apply that\n            instead. If no matching `name` is found we mark the\n            item invisible. Any named template item not referenced\n            is appended to the end of the array, so this can be\n            used to add a watermark annotation or a logo image, for\n            example. To omit one of these items on the plot, make\n            an item with matching `templateitemname` and `visible:\n            false`.\n        ternary\n            :class:`plotly.graph_objects.layout.Ternary` instance\n            or dict with compatible properties\n        title\n            :class:`plotly.graph_objects.layout.Title` instance or\n            dict with compatible properties\n        titlefont\n            Deprecated: Please use layout.title.font instead. Sets\n            the title font. Note that the title's font used to be\n            customized by the now deprecated `titlefont` attribute.\n        transition\n            Sets transition options used during Plotly.react\n            updates.\n        treemapcolorway\n            Sets the default treemap slice colors. Defaults to the\n            main `colorway` used for trace colors. If you specify a\n            new list here it can still be extended with lighter and\n            darker colors, see `extendtreemapcolors`.\n        uirevision\n            Used to allow user interactions with the plot to\n            persist after `Plotly.react` calls that are unaware of\n            these interactions. If `uirevision` is omitted, or if\n            it is given and it changed from the previous\n            `Plotly.react` call, the exact new figure is used. If\n            `uirevision` is truthy and did NOT change, any\n            attribute that has been affected by user interactions\n            and did not receive a different value in the new figure\n            will keep the interaction value. `layout.uirevision`\n            attribute serves as the default for `uirevision`\n            attributes in various sub-containers. For finer control\n            you can set these sub-attributes directly. For example,\n            if your app separately controls the data on the x and y\n            axes you might set `xaxis.uirevision=*time*` and\n            `yaxis.uirevision=*cost*`. Then if only the y data is\n            changed, you can update `yaxis.uirevision=*quantity*`\n            and the y axis range will reset but the x axis range\n            will retain any user-driven zoom.\n        uniformtext\n            :class:`plotly.graph_objects.layout.Uniformtext`\n            instance or dict with compatible properties\n        updatemenus\n            A tuple of\n            :class:`plotly.graph_objects.layout.Updatemenu`\n            instances or dicts with compatible properties\n        updatemenudefaults\n            When used in a template (as\n            layout.template.layout.updatemenudefaults), sets the\n            default property values to use for elements of\n            layout.updatemenus\n        violingap\n            Sets the gap (in plot fraction) between violins of\n            adjacent location coordinates. Has no effect on traces\n            that have \"width\" set.\n        violingroupgap\n            Sets the gap (in plot fraction) between violins of the\n            same location coordinate. Has no effect on traces that\n            have \"width\" set.\n        violinmode\n            Determines how violins at the same location coordinate\n            are displayed on the graph. If \"group\", the violins are\n            plotted next to one another centered around the shared\n            location. If \"overlay\", the violins are plotted over\n            one another, you might need to set \"opacity\" to see\n            them multiple violins. Has no effect on traces that\n            have \"width\" set.\n        waterfallgap\n            Sets the gap (in plot fraction) between bars of\n            adjacent location coordinates.\n        waterfallgroupgap\n            Sets the gap (in plot fraction) between bars of the\n            same location coordinate.\n        waterfallmode\n            Determines how bars at the same location coordinate are\n            displayed on the graph. With \"group\", the bars are\n            plotted next to one another centered around the shared\n            location. With \"overlay\", the bars are plotted over one\n            another, you might need to an \"opacity\" to see multiple\n            bars.\n        width\n            Sets the plot's width (in px).\n        xaxis\n            :class:`plotly.graph_objects.layout.XAxis` instance or\n            dict with compatible properties\n        yaxis\n            :class:`plotly.graph_objects.layout.YAxis` instance or\n            dict with compatible properties\n        \nDid you mean \"font\"?\n\nBad property path:\nconfig\n^^^^^^",
     "output_type": "error",
     "traceback": [
      "\u001b[1;31m---------------------------------------------------------------------------\u001b[0m",
      "\u001b[1;31mValueError\u001b[0m                                Traceback (most recent call last)",
      "\u001b[1;32m<ipython-input-289-59e11ddd3f7a>\u001b[0m in \u001b[0;36m<module>\u001b[1;34m\u001b[0m\n\u001b[0;32m      1\u001b[0m \u001b[0mcolors\u001b[0m \u001b[1;33m=\u001b[0m \u001b[1;33m[\u001b[0m \u001b[1;34m'#8fc0a9'\u001b[0m\u001b[1;33m,\u001b[0m \u001b[1;34m'#68b0ab'\u001b[0m\u001b[1;33m,\u001b[0m\u001b[1;34m'#c8d5b9'\u001b[0m\u001b[1;33m]\u001b[0m\u001b[1;33m\u001b[0m\u001b[1;33m\u001b[0m\u001b[0m\n\u001b[1;32m----> 2\u001b[1;33m layout = go.Layout(autosize=False,\n\u001b[0m\u001b[0;32m      3\u001b[0m     \u001b[0mwidth\u001b[0m\u001b[1;33m=\u001b[0m\u001b[1;36m1000\u001b[0m\u001b[1;33m,\u001b[0m\u001b[1;33m\u001b[0m\u001b[1;33m\u001b[0m\u001b[0m\n\u001b[0;32m      4\u001b[0m     \u001b[0mheight\u001b[0m\u001b[1;33m=\u001b[0m\u001b[1;36m1000\u001b[0m\u001b[1;33m,\u001b[0m\u001b[1;33m\u001b[0m\u001b[1;33m\u001b[0m\u001b[0m\n\u001b[0;32m      5\u001b[0m     \u001b[0myaxis\u001b[0m\u001b[1;33m=\u001b[0m\u001b[0mdict\u001b[0m\u001b[1;33m(\u001b[0m\u001b[0mtype\u001b[0m\u001b[1;33m=\u001b[0m\u001b[1;34m'category'\u001b[0m\u001b[1;33m)\u001b[0m\u001b[1;33m,\u001b[0m\u001b[1;33m\u001b[0m\u001b[1;33m\u001b[0m\u001b[0m\n",
      "\u001b[1;32m~\\anaconda3\\lib\\site-packages\\plotly\\graph_objs\\_layout.py\u001b[0m in \u001b[0;36m__init__\u001b[1;34m(self, arg, activeshape, angularaxis, annotations, annotationdefaults, autosize, autotypenumbers, bargap, bargroupgap, barmode, barnorm, boxgap, boxgroupgap, boxmode, calendar, clickmode, coloraxis, colorscale, colorway, computed, datarevision, direction, dragmode, editrevision, extendfunnelareacolors, extendpiecolors, extendsunburstcolors, extendtreemapcolors, font, funnelareacolorway, funnelgap, funnelgroupgap, funnelmode, geo, grid, height, hiddenlabels, hiddenlabelssrc, hidesources, hoverdistance, hoverlabel, hovermode, images, imagedefaults, legend, mapbox, margin, meta, metasrc, modebar, newshape, orientation, paper_bgcolor, piecolorway, plot_bgcolor, polar, radialaxis, scene, selectdirection, selectionrevision, separators, shapes, shapedefaults, showlegend, sliders, sliderdefaults, spikedistance, sunburstcolorway, template, ternary, title, titlefont, transition, treemapcolorway, uirevision, uniformtext, updatemenus, updatemenudefaults, violingap, violingroupgap, violinmode, waterfallgap, waterfallgroupgap, waterfallmode, width, xaxis, yaxis, **kwargs)\u001b[0m\n\u001b[0;32m   6316\u001b[0m         \u001b[1;31m# Process unknown kwargs\u001b[0m\u001b[1;33m\u001b[0m\u001b[1;33m\u001b[0m\u001b[1;33m\u001b[0m\u001b[0m\n\u001b[0;32m   6317\u001b[0m         \u001b[1;31m# ----------------------\u001b[0m\u001b[1;33m\u001b[0m\u001b[1;33m\u001b[0m\u001b[1;33m\u001b[0m\u001b[0m\n\u001b[1;32m-> 6318\u001b[1;33m         \u001b[0mself\u001b[0m\u001b[1;33m.\u001b[0m\u001b[0m_process_kwargs\u001b[0m\u001b[1;33m(\u001b[0m\u001b[1;33m**\u001b[0m\u001b[0mdict\u001b[0m\u001b[1;33m(\u001b[0m\u001b[0marg\u001b[0m\u001b[1;33m,\u001b[0m \u001b[1;33m**\u001b[0m\u001b[0mkwargs\u001b[0m\u001b[1;33m)\u001b[0m\u001b[1;33m)\u001b[0m\u001b[1;33m\u001b[0m\u001b[1;33m\u001b[0m\u001b[0m\n\u001b[0m\u001b[0;32m   6319\u001b[0m \u001b[1;33m\u001b[0m\u001b[0m\n\u001b[0;32m   6320\u001b[0m         \u001b[1;31m# Reset skip_invalid\u001b[0m\u001b[1;33m\u001b[0m\u001b[1;33m\u001b[0m\u001b[1;33m\u001b[0m\u001b[0m\n",
      "\u001b[1;32m~\\anaconda3\\lib\\site-packages\\plotly\\basedatatypes.py\u001b[0m in \u001b[0;36m_process_kwargs\u001b[1;34m(self, **kwargs)\u001b[0m\n\u001b[0;32m   5661\u001b[0m             \u001b[0mk\u001b[0m\u001b[1;33m:\u001b[0m \u001b[0mv\u001b[0m \u001b[1;32mfor\u001b[0m \u001b[0mk\u001b[0m\u001b[1;33m,\u001b[0m \u001b[0mv\u001b[0m \u001b[1;32min\u001b[0m \u001b[0mkwargs\u001b[0m\u001b[1;33m.\u001b[0m\u001b[0mitems\u001b[0m\u001b[1;33m(\u001b[0m\u001b[1;33m)\u001b[0m \u001b[1;32mif\u001b[0m \u001b[1;32mnot\u001b[0m \u001b[0mself\u001b[0m\u001b[1;33m.\u001b[0m\u001b[0m_subplot_re_match\u001b[0m\u001b[1;33m(\u001b[0m\u001b[0mk\u001b[0m\u001b[1;33m)\u001b[0m\u001b[1;33m\u001b[0m\u001b[1;33m\u001b[0m\u001b[0m\n\u001b[0;32m   5662\u001b[0m         }\n\u001b[1;32m-> 5663\u001b[1;33m         \u001b[0msuper\u001b[0m\u001b[1;33m(\u001b[0m\u001b[0mBaseLayoutHierarchyType\u001b[0m\u001b[1;33m,\u001b[0m \u001b[0mself\u001b[0m\u001b[1;33m)\u001b[0m\u001b[1;33m.\u001b[0m\u001b[0m_process_kwargs\u001b[0m\u001b[1;33m(\u001b[0m\u001b[1;33m**\u001b[0m\u001b[0munknown_kwargs\u001b[0m\u001b[1;33m)\u001b[0m\u001b[1;33m\u001b[0m\u001b[1;33m\u001b[0m\u001b[0m\n\u001b[0m\u001b[0;32m   5664\u001b[0m \u001b[1;33m\u001b[0m\u001b[0m\n\u001b[0;32m   5665\u001b[0m         \u001b[0msubplot_kwargs\u001b[0m \u001b[1;33m=\u001b[0m \u001b[1;33m{\u001b[0m\u001b[0mk\u001b[0m\u001b[1;33m:\u001b[0m \u001b[0mv\u001b[0m \u001b[1;32mfor\u001b[0m \u001b[0mk\u001b[0m\u001b[1;33m,\u001b[0m \u001b[0mv\u001b[0m \u001b[1;32min\u001b[0m \u001b[0mkwargs\u001b[0m\u001b[1;33m.\u001b[0m\u001b[0mitems\u001b[0m\u001b[1;33m(\u001b[0m\u001b[1;33m)\u001b[0m \u001b[1;32mif\u001b[0m \u001b[0mself\u001b[0m\u001b[1;33m.\u001b[0m\u001b[0m_subplot_re_match\u001b[0m\u001b[1;33m(\u001b[0m\u001b[0mk\u001b[0m\u001b[1;33m)\u001b[0m\u001b[1;33m}\u001b[0m\u001b[1;33m\u001b[0m\u001b[1;33m\u001b[0m\u001b[0m\n",
      "\u001b[1;32m~\\anaconda3\\lib\\site-packages\\plotly\\basedatatypes.py\u001b[0m in \u001b[0;36m_process_kwargs\u001b[1;34m(self, **kwargs)\u001b[0m\n\u001b[0;32m   4320\u001b[0m                 \u001b[0mself\u001b[0m\u001b[1;33m[\u001b[0m\u001b[0mk\u001b[0m\u001b[1;33m]\u001b[0m \u001b[1;33m=\u001b[0m \u001b[0mv\u001b[0m\u001b[1;33m\u001b[0m\u001b[1;33m\u001b[0m\u001b[0m\n\u001b[0;32m   4321\u001b[0m             \u001b[1;32melif\u001b[0m \u001b[1;32mnot\u001b[0m \u001b[0mself\u001b[0m\u001b[1;33m.\u001b[0m\u001b[0m_skip_invalid\u001b[0m\u001b[1;33m:\u001b[0m\u001b[1;33m\u001b[0m\u001b[1;33m\u001b[0m\u001b[0m\n\u001b[1;32m-> 4322\u001b[1;33m                 \u001b[1;32mraise\u001b[0m \u001b[0merr\u001b[0m\u001b[1;33m\u001b[0m\u001b[1;33m\u001b[0m\u001b[0m\n\u001b[0m\u001b[0;32m   4323\u001b[0m         \u001b[1;31m# No need to call _raise_on_invalid_property_error here,\u001b[0m\u001b[1;33m\u001b[0m\u001b[1;33m\u001b[0m\u001b[1;33m\u001b[0m\u001b[0m\n\u001b[0;32m   4324\u001b[0m         \u001b[1;31m# because we have it set up so that the singular case of calling\u001b[0m\u001b[1;33m\u001b[0m\u001b[1;33m\u001b[0m\u001b[1;33m\u001b[0m\u001b[0m\n",
      "\u001b[1;31mValueError\u001b[0m: Invalid property specified for object of type plotly.graph_objs.Layout: 'config'\n\nDid you mean \"font\"?\n\n    Valid properties:\n        activeshape\n            :class:`plotly.graph_objects.layout.Activeshape`\n            instance or dict with compatible properties\n        angularaxis\n            :class:`plotly.graph_objects.layout.AngularAxis`\n            instance or dict with compatible properties\n        annotations\n            A tuple of\n            :class:`plotly.graph_objects.layout.Annotation`\n            instances or dicts with compatible properties\n        annotationdefaults\n            When used in a template (as\n            layout.template.layout.annotationdefaults), sets the\n            default property values to use for elements of\n            layout.annotations\n        autosize\n            Determines whether or not a layout width or height that\n            has been left undefined by the user is initialized on\n            each relayout. Note that, regardless of this attribute,\n            an undefined layout width or height is always\n            initialized on the first call to plot.\n        autotypenumbers\n            Using \"strict\" a numeric string in trace data is not\n            converted to a number. Using *convert types* a numeric\n            string in trace data may be treated as a number during\n            automatic axis `type` detection. This is the default\n            value; however it could be overridden for individual\n            axes.\n        bargap\n            Sets the gap (in plot fraction) between bars of\n            adjacent location coordinates.\n        bargroupgap\n            Sets the gap (in plot fraction) between bars of the\n            same location coordinate.\n        barmode\n            Determines how bars at the same location coordinate are\n            displayed on the graph. With \"stack\", the bars are\n            stacked on top of one another With \"relative\", the bars\n            are stacked on top of one another, with negative values\n            below the axis, positive values above With \"group\", the\n            bars are plotted next to one another centered around\n            the shared location. With \"overlay\", the bars are\n            plotted over one another, you might need to an\n            \"opacity\" to see multiple bars.\n        barnorm\n            Sets the normalization for bar traces on the graph.\n            With \"fraction\", the value of each bar is divided by\n            the sum of all values at that location coordinate.\n            \"percent\" is the same but multiplied by 100 to show\n            percentages.\n        boxgap\n            Sets the gap (in plot fraction) between boxes of\n            adjacent location coordinates. Has no effect on traces\n            that have \"width\" set.\n        boxgroupgap\n            Sets the gap (in plot fraction) between boxes of the\n            same location coordinate. Has no effect on traces that\n            have \"width\" set.\n        boxmode\n            Determines how boxes at the same location coordinate\n            are displayed on the graph. If \"group\", the boxes are\n            plotted next to one another centered around the shared\n            location. If \"overlay\", the boxes are plotted over one\n            another, you might need to set \"opacity\" to see them\n            multiple boxes. Has no effect on traces that have\n            \"width\" set.\n        calendar\n            Sets the default calendar system to use for\n            interpreting and displaying dates throughout the plot.\n        clickmode\n            Determines the mode of single click interactions.\n            \"event\" is the default value and emits the\n            `plotly_click` event. In addition this mode emits the\n            `plotly_selected` event in drag modes \"lasso\" and\n            \"select\", but with no event data attached (kept for\n            compatibility reasons). The \"select\" flag enables\n            selecting single data points via click. This mode also\n            supports persistent selections, meaning that pressing\n            Shift while clicking, adds to / subtracts from an\n            existing selection. \"select\" with `hovermode`: \"x\" can\n            be confusing, consider explicitly setting `hovermode`:\n            \"closest\" when using this feature. Selection events are\n            sent accordingly as long as \"event\" flag is set as\n            well. When the \"event\" flag is missing, `plotly_click`\n            and `plotly_selected` events are not fired.\n        coloraxis\n            :class:`plotly.graph_objects.layout.Coloraxis` instance\n            or dict with compatible properties\n        colorscale\n            :class:`plotly.graph_objects.layout.Colorscale`\n            instance or dict with compatible properties\n        colorway\n            Sets the default trace colors.\n        computed\n            Placeholder for exporting automargin-impacting values\n            namely `margin.t`, `margin.b`, `margin.l` and\n            `margin.r` in \"full-json\" mode.\n        datarevision\n            If provided, a changed value tells `Plotly.react` that\n            one or more data arrays has changed. This way you can\n            modify arrays in-place rather than making a complete\n            new copy for an incremental change. If NOT provided,\n            `Plotly.react` assumes that data arrays are being\n            treated as immutable, thus any data array with a\n            different identity from its predecessor contains new\n            data.\n        direction\n            Legacy polar charts are deprecated! Please switch to\n            \"polar\" subplots. Sets the direction corresponding to\n            positive angles in legacy polar charts.\n        dragmode\n            Determines the mode of drag interactions. \"select\" and\n            \"lasso\" apply only to scatter traces with markers or\n            text. \"orbit\" and \"turntable\" apply only to 3D scenes.\n        editrevision\n            Controls persistence of user-driven changes in\n            `editable: true` configuration, other than trace names\n            and axis titles. Defaults to `layout.uirevision`.\n        extendfunnelareacolors\n            If `true`, the funnelarea slice colors (whether given\n            by `funnelareacolorway` or inherited from `colorway`)\n            will be extended to three times its original length by\n            first repeating every color 20% lighter then each color\n            20% darker. This is intended to reduce the likelihood\n            of reusing the same color when you have many slices,\n            but you can set `false` to disable. Colors provided in\n            the trace, using `marker.colors`, are never extended.\n        extendpiecolors\n            If `true`, the pie slice colors (whether given by\n            `piecolorway` or inherited from `colorway`) will be\n            extended to three times its original length by first\n            repeating every color 20% lighter then each color 20%\n            darker. This is intended to reduce the likelihood of\n            reusing the same color when you have many slices, but\n            you can set `false` to disable. Colors provided in the\n            trace, using `marker.colors`, are never extended.\n        extendsunburstcolors\n            If `true`, the sunburst slice colors (whether given by\n            `sunburstcolorway` or inherited from `colorway`) will\n            be extended to three times its original length by first\n            repeating every color 20% lighter then each color 20%\n            darker. This is intended to reduce the likelihood of\n            reusing the same color when you have many slices, but\n            you can set `false` to disable. Colors provided in the\n            trace, using `marker.colors`, are never extended.\n        extendtreemapcolors\n            If `true`, the treemap slice colors (whether given by\n            `treemapcolorway` or inherited from `colorway`) will be\n            extended to three times its original length by first\n            repeating every color 20% lighter then each color 20%\n            darker. This is intended to reduce the likelihood of\n            reusing the same color when you have many slices, but\n            you can set `false` to disable. Colors provided in the\n            trace, using `marker.colors`, are never extended.\n        font\n            Sets the global font. Note that fonts used in traces\n            and other layout components inherit from the global\n            font.\n        funnelareacolorway\n            Sets the default funnelarea slice colors. Defaults to\n            the main `colorway` used for trace colors. If you\n            specify a new list here it can still be extended with\n            lighter and darker colors, see\n            `extendfunnelareacolors`.\n        funnelgap\n            Sets the gap (in plot fraction) between bars of\n            adjacent location coordinates.\n        funnelgroupgap\n            Sets the gap (in plot fraction) between bars of the\n            same location coordinate.\n        funnelmode\n            Determines how bars at the same location coordinate are\n            displayed on the graph. With \"stack\", the bars are\n            stacked on top of one another With \"group\", the bars\n            are plotted next to one another centered around the\n            shared location. With \"overlay\", the bars are plotted\n            over one another, you might need to an \"opacity\" to see\n            multiple bars.\n        geo\n            :class:`plotly.graph_objects.layout.Geo` instance or\n            dict with compatible properties\n        grid\n            :class:`plotly.graph_objects.layout.Grid` instance or\n            dict with compatible properties\n        height\n            Sets the plot's height (in px).\n        hiddenlabels\n            hiddenlabels is the funnelarea & pie chart analog of\n            visible:'legendonly' but it can contain many labels,\n            and can simultaneously hide slices from several\n            pies/funnelarea charts\n        hiddenlabelssrc\n            Sets the source reference on Chart Studio Cloud for\n            hiddenlabels .\n        hidesources\n            Determines whether or not a text link citing the data\n            source is placed at the bottom-right cored of the\n            figure. Has only an effect only on graphs that have\n            been generated via forked graphs from the Chart Studio\n            Cloud (at https://chart-studio.plotly.com or on-\n            premise).\n        hoverdistance\n            Sets the default distance (in pixels) to look for data\n            to add hover labels (-1 means no cutoff, 0 means no\n            looking for data). This is only a real distance for\n            hovering on point-like objects, like scatter points.\n            For area-like objects (bars, scatter fills, etc)\n            hovering is on inside the area and off outside, but\n            these objects will not supersede hover on point-like\n            objects in case of conflict.\n        hoverlabel\n            :class:`plotly.graph_objects.layout.Hoverlabel`\n            instance or dict with compatible properties\n        hovermode\n            Determines the mode of hover interactions. If\n            \"closest\", a single hoverlabel will appear for the\n            \"closest\" point within the `hoverdistance`. If \"x\" (or\n            \"y\"), multiple hoverlabels will appear for multiple\n            points at the \"closest\" x- (or y-) coordinate within\n            the `hoverdistance`, with the caveat that no more than\n            one hoverlabel will appear per trace. If *x unified*\n            (or *y unified*), a single hoverlabel will appear\n            multiple points at the closest x- (or y-) coordinate\n            within the `hoverdistance` with the caveat that no more\n            than one hoverlabel will appear per trace. In this\n            mode, spikelines are enabled by default perpendicular\n            to the specified axis. If false, hover interactions are\n            disabled. If `clickmode` includes the \"select\" flag,\n            `hovermode` defaults to \"closest\". If `clickmode` lacks\n            the \"select\" flag, it defaults to \"x\" or \"y\" (depending\n            on the trace's `orientation` value) for plots based on\n            cartesian coordinates. For anything else the default\n            value is \"closest\".\n        images\n            A tuple of :class:`plotly.graph_objects.layout.Image`\n            instances or dicts with compatible properties\n        imagedefaults\n            When used in a template (as\n            layout.template.layout.imagedefaults), sets the default\n            property values to use for elements of layout.images\n        legend\n            :class:`plotly.graph_objects.layout.Legend` instance or\n            dict with compatible properties\n        mapbox\n            :class:`plotly.graph_objects.layout.Mapbox` instance or\n            dict with compatible properties\n        margin\n            :class:`plotly.graph_objects.layout.Margin` instance or\n            dict with compatible properties\n        meta\n            Assigns extra meta information that can be used in\n            various `text` attributes. Attributes such as the\n            graph, axis and colorbar `title.text`, annotation\n            `text` `trace.name` in legend items, `rangeselector`,\n            `updatemenus` and `sliders` `label` text all support\n            `meta`. One can access `meta` fields using template\n            strings: `%{meta[i]}` where `i` is the index of the\n            `meta` item in question. `meta` can also be an object\n            for example `{key: value}` which can be accessed\n            %{meta[key]}.\n        metasrc\n            Sets the source reference on Chart Studio Cloud for\n            meta .\n        modebar\n            :class:`plotly.graph_objects.layout.Modebar` instance\n            or dict with compatible properties\n        newshape\n            :class:`plotly.graph_objects.layout.Newshape` instance\n            or dict with compatible properties\n        orientation\n            Legacy polar charts are deprecated! Please switch to\n            \"polar\" subplots. Rotates the entire polar by the given\n            angle in legacy polar charts.\n        paper_bgcolor\n            Sets the background color of the paper where the graph\n            is drawn.\n        piecolorway\n            Sets the default pie slice colors. Defaults to the main\n            `colorway` used for trace colors. If you specify a new\n            list here it can still be extended with lighter and\n            darker colors, see `extendpiecolors`.\n        plot_bgcolor\n            Sets the background color of the plotting area in-\n            between x and y axes.\n        polar\n            :class:`plotly.graph_objects.layout.Polar` instance or\n            dict with compatible properties\n        radialaxis\n            :class:`plotly.graph_objects.layout.RadialAxis`\n            instance or dict with compatible properties\n        scene\n            :class:`plotly.graph_objects.layout.Scene` instance or\n            dict with compatible properties\n        selectdirection\n            When `dragmode` is set to \"select\", this limits the\n            selection of the drag to horizontal, vertical or\n            diagonal. \"h\" only allows horizontal selection, \"v\"\n            only vertical, \"d\" only diagonal and \"any\" sets no\n            limit.\n        selectionrevision\n            Controls persistence of user-driven changes in selected\n            points from all traces.\n        separators\n            Sets the decimal and thousand separators. For example,\n            *. * puts a '.' before decimals and a space between\n            thousands. In English locales, dflt is \".,\" but other\n            locales may alter this default.\n        shapes\n            A tuple of :class:`plotly.graph_objects.layout.Shape`\n            instances or dicts with compatible properties\n        shapedefaults\n            When used in a template (as\n            layout.template.layout.shapedefaults), sets the default\n            property values to use for elements of layout.shapes\n        showlegend\n            Determines whether or not a legend is drawn. Default is\n            `true` if there is a trace to show and any of these: a)\n            Two or more traces would by default be shown in the\n            legend. b) One pie trace is shown in the legend. c) One\n            trace is explicitly given with `showlegend: true`.\n        sliders\n            A tuple of :class:`plotly.graph_objects.layout.Slider`\n            instances or dicts with compatible properties\n        sliderdefaults\n            When used in a template (as\n            layout.template.layout.sliderdefaults), sets the\n            default property values to use for elements of\n            layout.sliders\n        spikedistance\n            Sets the default distance (in pixels) to look for data\n            to draw spikelines to (-1 means no cutoff, 0 means no\n            looking for data). As with hoverdistance, distance does\n            not apply to area-like objects. In addition, some\n            objects can be hovered on but will not generate\n            spikelines, such as scatter fills.\n        sunburstcolorway\n            Sets the default sunburst slice colors. Defaults to the\n            main `colorway` used for trace colors. If you specify a\n            new list here it can still be extended with lighter and\n            darker colors, see `extendsunburstcolors`.\n        template\n            Default attributes to be applied to the plot. This\n            should be a dict with format: `{'layout':\n            layoutTemplate, 'data': {trace_type: [traceTemplate,\n            ...], ...}}` where `layoutTemplate` is a dict matching\n            the structure of `figure.layout` and `traceTemplate` is\n            a dict matching the structure of the trace with type\n            `trace_type` (e.g. 'scatter'). Alternatively, this may\n            be specified as an instance of\n            plotly.graph_objs.layout.Template.  Trace templates are\n            applied cyclically to traces of each type. Container\n            arrays (eg `annotations`) have special handling: An\n            object ending in `defaults` (eg `annotationdefaults`)\n            is applied to each array item. But if an item has a\n            `templateitemname` key we look in the template array\n            for an item with matching `name` and apply that\n            instead. If no matching `name` is found we mark the\n            item invisible. Any named template item not referenced\n            is appended to the end of the array, so this can be\n            used to add a watermark annotation or a logo image, for\n            example. To omit one of these items on the plot, make\n            an item with matching `templateitemname` and `visible:\n            false`.\n        ternary\n            :class:`plotly.graph_objects.layout.Ternary` instance\n            or dict with compatible properties\n        title\n            :class:`plotly.graph_objects.layout.Title` instance or\n            dict with compatible properties\n        titlefont\n            Deprecated: Please use layout.title.font instead. Sets\n            the title font. Note that the title's font used to be\n            customized by the now deprecated `titlefont` attribute.\n        transition\n            Sets transition options used during Plotly.react\n            updates.\n        treemapcolorway\n            Sets the default treemap slice colors. Defaults to the\n            main `colorway` used for trace colors. If you specify a\n            new list here it can still be extended with lighter and\n            darker colors, see `extendtreemapcolors`.\n        uirevision\n            Used to allow user interactions with the plot to\n            persist after `Plotly.react` calls that are unaware of\n            these interactions. If `uirevision` is omitted, or if\n            it is given and it changed from the previous\n            `Plotly.react` call, the exact new figure is used. If\n            `uirevision` is truthy and did NOT change, any\n            attribute that has been affected by user interactions\n            and did not receive a different value in the new figure\n            will keep the interaction value. `layout.uirevision`\n            attribute serves as the default for `uirevision`\n            attributes in various sub-containers. For finer control\n            you can set these sub-attributes directly. For example,\n            if your app separately controls the data on the x and y\n            axes you might set `xaxis.uirevision=*time*` and\n            `yaxis.uirevision=*cost*`. Then if only the y data is\n            changed, you can update `yaxis.uirevision=*quantity*`\n            and the y axis range will reset but the x axis range\n            will retain any user-driven zoom.\n        uniformtext\n            :class:`plotly.graph_objects.layout.Uniformtext`\n            instance or dict with compatible properties\n        updatemenus\n            A tuple of\n            :class:`plotly.graph_objects.layout.Updatemenu`\n            instances or dicts with compatible properties\n        updatemenudefaults\n            When used in a template (as\n            layout.template.layout.updatemenudefaults), sets the\n            default property values to use for elements of\n            layout.updatemenus\n        violingap\n            Sets the gap (in plot fraction) between violins of\n            adjacent location coordinates. Has no effect on traces\n            that have \"width\" set.\n        violingroupgap\n            Sets the gap (in plot fraction) between violins of the\n            same location coordinate. Has no effect on traces that\n            have \"width\" set.\n        violinmode\n            Determines how violins at the same location coordinate\n            are displayed on the graph. If \"group\", the violins are\n            plotted next to one another centered around the shared\n            location. If \"overlay\", the violins are plotted over\n            one another, you might need to set \"opacity\" to see\n            them multiple violins. Has no effect on traces that\n            have \"width\" set.\n        waterfallgap\n            Sets the gap (in plot fraction) between bars of\n            adjacent location coordinates.\n        waterfallgroupgap\n            Sets the gap (in plot fraction) between bars of the\n            same location coordinate.\n        waterfallmode\n            Determines how bars at the same location coordinate are\n            displayed on the graph. With \"group\", the bars are\n            plotted next to one another centered around the shared\n            location. With \"overlay\", the bars are plotted over one\n            another, you might need to an \"opacity\" to see multiple\n            bars.\n        width\n            Sets the plot's width (in px).\n        xaxis\n            :class:`plotly.graph_objects.layout.XAxis` instance or\n            dict with compatible properties\n        yaxis\n            :class:`plotly.graph_objects.layout.YAxis` instance or\n            dict with compatible properties\n        \nDid you mean \"font\"?\n\nBad property path:\nconfig\n^^^^^^"
     ]
    }
   ],
   "source": [
    "colors = [ '#8fc0a9', '#68b0ab','#c8d5b9']\n",
    "layout = go.Layout(autosize=False,\n",
    "    width=1000,\n",
    "    height=1000,\n",
    "    yaxis=dict(type='category'),\n",
    "    config=dict(\n",
    "                    displayModeBar=False\n",
    "                )\n",
    "    \n",
    "    )\n",
    "\n",
    "go.Figure(data=go.Bar(y=['2019','2020'], x=counts.values,  marker_color=colors,orientation='h'), layout=layout)\n"
   ]
  },
  {
   "cell_type": "code",
   "execution_count": 290,
   "id": "a4b1af00",
   "metadata": {},
   "outputs": [
    {
     "data": {
      "image/png": "[encoded data removed]",
      "text/plain": [
       "<Figure size 720x432 with 1 Axes>"
      ]
     },
     "metadata": {
      "needs_background": "light"
     },
     "output_type": "display_data"
    }
   ],
   "source": [
    "counts = df.groupby(by=\"year\")['bike_id'].count()\n",
    "\n",
    "fig = plt.figure(figsize=(10,6))\n",
    "ax = fig.add_subplot(1,1,1)\n",
    "ax.bar(['2019','2020'],counts.values)\n",
    "\n",
    "ax.title.set_text('Number of rides by year')"
   ]
  },
  {
   "cell_type": "code",
   "execution_count": null,
   "id": "b2b63e60",
   "metadata": {},
   "outputs": [],
   "source": []
  },
  {
   "cell_type": "code",
   "execution_count": 149,
   "id": "1923bdb2",
   "metadata": {},
   "outputs": [
    {
     "data": {
      "image/png": "[encoded data removed]",
      "text/plain": [
       "<Figure size 720x432 with 1 Axes>"
      ]
     },
     "metadata": {
      "needs_background": "light"
     },
     "output_type": "display_data"
    }
   ],
   "source": [
    "counts = df.groupby(by=\"year\")['start_id'].nunique()\n",
    "\n",
    "fig = plt.figure(figsize=(10,6))\n",
    "ax = fig.add_subplot(1,1,1)\n",
    "ax.bar(['2019','2020'],counts.values)\n",
    "\n",
    "ax.title.set_text('Number of stations by year')"
   ]
  },
  {
   "cell_type": "code",
   "execution_count": 51,
   "id": "a04cc162",
   "metadata": {},
   "outputs": [],
   "source": [
    "counts = df.groupby(by=[\"year\",'user_type']).count()\n",
    "counts.reset_index(inplace=True)"
   ]
  },
  {
   "cell_type": "code",
   "execution_count": 295,
   "id": "f2d8fdf9",
   "metadata": {},
   "outputs": [],
   "source": [
    "means = df.groupby(by=['hour']).mean()\n",
    "means.reset_index(inplace=True)"
   ]
  },
  {
   "cell_type": "code",
   "execution_count": 296,
   "id": "c5d50775",
   "metadata": {},
   "outputs": [
    {
     "data": {
      "text/html": [
       "<div>\n",
       "<style scoped>\n",
       "    .dataframe tbody tr th:only-of-type {\n",
       "        vertical-align: middle;\n",
       "    }\n",
       "\n",
       "    .dataframe tbody tr th {\n",
       "        vertical-align: top;\n",
       "    }\n",
       "\n",
       "    .dataframe thead th {\n",
       "        text-align: right;\n",
       "    }\n",
       "</style>\n",
       "<table border=\"1\" class=\"dataframe\">\n",
       "  <thead>\n",
       "    <tr style=\"text-align: right;\">\n",
       "      <th></th>\n",
       "      <th>hour</th>\n",
       "      <th>duration</th>\n",
       "      <th>start_id</th>\n",
       "      <th>start_lat</th>\n",
       "      <th>start_long</th>\n",
       "      <th>end_id</th>\n",
       "      <th>end_lat</th>\n",
       "      <th>end_long</th>\n",
       "      <th>bike_id</th>\n",
       "      <th>year</th>\n",
       "      <th>month</th>\n",
       "    </tr>\n",
       "  </thead>\n",
       "  <tbody>\n",
       "    <tr>\n",
       "      <th>0</th>\n",
       "      <td>0</td>\n",
       "      <td>3006.865203</td>\n",
       "      <td>151.912520</td>\n",
       "      <td>42.354964</td>\n",
       "      <td>-71.088794</td>\n",
       "      <td>166.692520</td>\n",
       "      <td>42.354894</td>\n",
       "      <td>-71.091083</td>\n",
       "      <td>4183.903252</td>\n",
       "      <td>2019.587317</td>\n",
       "      <td>9.390407</td>\n",
       "    </tr>\n",
       "    <tr>\n",
       "      <th>1</th>\n",
       "      <td>1</td>\n",
       "      <td>4016.130561</td>\n",
       "      <td>155.426257</td>\n",
       "      <td>42.354423</td>\n",
       "      <td>-71.087801</td>\n",
       "      <td>166.560928</td>\n",
       "      <td>42.354078</td>\n",
       "      <td>-71.091532</td>\n",
       "      <td>4151.686896</td>\n",
       "      <td>2019.571083</td>\n",
       "      <td>9.437863</td>\n",
       "    </tr>\n",
       "    <tr>\n",
       "      <th>2</th>\n",
       "      <td>2</td>\n",
       "      <td>4580.583551</td>\n",
       "      <td>161.110531</td>\n",
       "      <td>42.354674</td>\n",
       "      <td>-71.087417</td>\n",
       "      <td>173.144909</td>\n",
       "      <td>42.355179</td>\n",
       "      <td>-71.091322</td>\n",
       "      <td>4188.060487</td>\n",
       "      <td>2019.535683</td>\n",
       "      <td>9.453003</td>\n",
       "    </tr>\n",
       "    <tr>\n",
       "      <th>3</th>\n",
       "      <td>3</td>\n",
       "      <td>3976.312221</td>\n",
       "      <td>164.363069</td>\n",
       "      <td>42.354254</td>\n",
       "      <td>-71.090850</td>\n",
       "      <td>182.403211</td>\n",
       "      <td>42.355599</td>\n",
       "      <td>-71.093452</td>\n",
       "      <td>4216.925959</td>\n",
       "      <td>2019.658341</td>\n",
       "      <td>9.383586</td>\n",
       "    </tr>\n",
       "    <tr>\n",
       "      <th>4</th>\n",
       "      <td>4</td>\n",
       "      <td>13753.965388</td>\n",
       "      <td>177.260056</td>\n",
       "      <td>42.351862</td>\n",
       "      <td>-71.089569</td>\n",
       "      <td>167.365762</td>\n",
       "      <td>42.352799</td>\n",
       "      <td>-71.086241</td>\n",
       "      <td>4213.351731</td>\n",
       "      <td>2019.628625</td>\n",
       "      <td>9.406922</td>\n",
       "    </tr>\n",
       "    <tr>\n",
       "      <th>5</th>\n",
       "      <td>5</td>\n",
       "      <td>1740.278702</td>\n",
       "      <td>179.206387</td>\n",
       "      <td>42.352868</td>\n",
       "      <td>-71.088397</td>\n",
       "      <td>127.815783</td>\n",
       "      <td>42.352339</td>\n",
       "      <td>-71.083676</td>\n",
       "      <td>4283.230140</td>\n",
       "      <td>2019.507522</td>\n",
       "      <td>9.514120</td>\n",
       "    </tr>\n",
       "    <tr>\n",
       "      <th>6</th>\n",
       "      <td>6</td>\n",
       "      <td>1207.555853</td>\n",
       "      <td>171.080159</td>\n",
       "      <td>42.355561</td>\n",
       "      <td>-71.085623</td>\n",
       "      <td>135.700766</td>\n",
       "      <td>42.354060</td>\n",
       "      <td>-71.083211</td>\n",
       "      <td>4228.370815</td>\n",
       "      <td>2019.472650</td>\n",
       "      <td>9.495157</td>\n",
       "    </tr>\n",
       "    <tr>\n",
       "      <th>7</th>\n",
       "      <td>7</td>\n",
       "      <td>1056.252199</td>\n",
       "      <td>167.286224</td>\n",
       "      <td>42.357009</td>\n",
       "      <td>-71.089248</td>\n",
       "      <td>143.410502</td>\n",
       "      <td>42.356148</td>\n",
       "      <td>-71.083822</td>\n",
       "      <td>4224.933346</td>\n",
       "      <td>2019.364542</td>\n",
       "      <td>9.591785</td>\n",
       "    </tr>\n",
       "    <tr>\n",
       "      <th>8</th>\n",
       "      <td>8</td>\n",
       "      <td>949.899079</td>\n",
       "      <td>172.831942</td>\n",
       "      <td>42.357715</td>\n",
       "      <td>-71.089979</td>\n",
       "      <td>144.031391</td>\n",
       "      <td>42.357172</td>\n",
       "      <td>-71.084168</td>\n",
       "      <td>4196.353535</td>\n",
       "      <td>2019.319512</td>\n",
       "      <td>9.674411</td>\n",
       "    </tr>\n",
       "    <tr>\n",
       "      <th>9</th>\n",
       "      <td>9</td>\n",
       "      <td>1017.694515</td>\n",
       "      <td>169.574923</td>\n",
       "      <td>42.357238</td>\n",
       "      <td>-71.091623</td>\n",
       "      <td>147.319188</td>\n",
       "      <td>42.357069</td>\n",
       "      <td>-71.087027</td>\n",
       "      <td>4217.993943</td>\n",
       "      <td>2019.424084</td>\n",
       "      <td>9.635100</td>\n",
       "    </tr>\n",
       "    <tr>\n",
       "      <th>10</th>\n",
       "      <td>10</td>\n",
       "      <td>1462.897962</td>\n",
       "      <td>166.338580</td>\n",
       "      <td>42.357095</td>\n",
       "      <td>-71.092075</td>\n",
       "      <td>150.618233</td>\n",
       "      <td>42.357155</td>\n",
       "      <td>-71.089226</td>\n",
       "      <td>4220.237720</td>\n",
       "      <td>2019.511899</td>\n",
       "      <td>9.555999</td>\n",
       "    </tr>\n",
       "    <tr>\n",
       "      <th>11</th>\n",
       "      <td>11</td>\n",
       "      <td>1750.315282</td>\n",
       "      <td>163.205722</td>\n",
       "      <td>42.356764</td>\n",
       "      <td>-71.090422</td>\n",
       "      <td>153.409464</td>\n",
       "      <td>42.356719</td>\n",
       "      <td>-71.088755</td>\n",
       "      <td>4234.529453</td>\n",
       "      <td>2019.523777</td>\n",
       "      <td>9.557272</td>\n",
       "    </tr>\n",
       "    <tr>\n",
       "      <th>12</th>\n",
       "      <td>12</td>\n",
       "      <td>1772.192697</td>\n",
       "      <td>159.633387</td>\n",
       "      <td>42.356461</td>\n",
       "      <td>-71.089775</td>\n",
       "      <td>155.413794</td>\n",
       "      <td>42.356580</td>\n",
       "      <td>-71.088541</td>\n",
       "      <td>4245.060431</td>\n",
       "      <td>2019.541635</td>\n",
       "      <td>9.552302</td>\n",
       "    </tr>\n",
       "    <tr>\n",
       "      <th>13</th>\n",
       "      <td>13</td>\n",
       "      <td>1635.528384</td>\n",
       "      <td>157.440490</td>\n",
       "      <td>42.356527</td>\n",
       "      <td>-71.089912</td>\n",
       "      <td>154.088363</td>\n",
       "      <td>42.356370</td>\n",
       "      <td>-71.088542</td>\n",
       "      <td>4245.222575</td>\n",
       "      <td>2019.554217</td>\n",
       "      <td>9.555871</td>\n",
       "    </tr>\n",
       "    <tr>\n",
       "      <th>14</th>\n",
       "      <td>14</td>\n",
       "      <td>1854.990574</td>\n",
       "      <td>156.131556</td>\n",
       "      <td>42.356488</td>\n",
       "      <td>-71.089841</td>\n",
       "      <td>156.091960</td>\n",
       "      <td>42.356320</td>\n",
       "      <td>-71.089088</td>\n",
       "      <td>4237.360799</td>\n",
       "      <td>2019.568340</td>\n",
       "      <td>9.533649</td>\n",
       "    </tr>\n",
       "    <tr>\n",
       "      <th>15</th>\n",
       "      <td>15</td>\n",
       "      <td>1871.393052</td>\n",
       "      <td>155.261358</td>\n",
       "      <td>42.356293</td>\n",
       "      <td>-71.088462</td>\n",
       "      <td>157.802642</td>\n",
       "      <td>42.356261</td>\n",
       "      <td>-71.088644</td>\n",
       "      <td>4240.838826</td>\n",
       "      <td>2019.550679</td>\n",
       "      <td>9.554667</td>\n",
       "    </tr>\n",
       "    <tr>\n",
       "      <th>16</th>\n",
       "      <td>16</td>\n",
       "      <td>1401.951110</td>\n",
       "      <td>151.213110</td>\n",
       "      <td>42.356225</td>\n",
       "      <td>-71.086939</td>\n",
       "      <td>158.359641</td>\n",
       "      <td>42.356413</td>\n",
       "      <td>-71.087956</td>\n",
       "      <td>4213.396878</td>\n",
       "      <td>2019.492561</td>\n",
       "      <td>9.531241</td>\n",
       "    </tr>\n",
       "    <tr>\n",
       "      <th>17</th>\n",
       "      <td>17</td>\n",
       "      <td>1430.628710</td>\n",
       "      <td>149.424163</td>\n",
       "      <td>42.356480</td>\n",
       "      <td>-71.086677</td>\n",
       "      <td>160.022351</td>\n",
       "      <td>42.356552</td>\n",
       "      <td>-71.089116</td>\n",
       "      <td>4194.376183</td>\n",
       "      <td>2019.469785</td>\n",
       "      <td>9.489955</td>\n",
       "    </tr>\n",
       "    <tr>\n",
       "      <th>18</th>\n",
       "      <td>18</td>\n",
       "      <td>1677.989314</td>\n",
       "      <td>151.225411</td>\n",
       "      <td>42.356781</td>\n",
       "      <td>-71.088292</td>\n",
       "      <td>162.180309</td>\n",
       "      <td>42.356845</td>\n",
       "      <td>-71.090643</td>\n",
       "      <td>4206.934551</td>\n",
       "      <td>2019.521159</td>\n",
       "      <td>9.399923</td>\n",
       "    </tr>\n",
       "    <tr>\n",
       "      <th>19</th>\n",
       "      <td>19</td>\n",
       "      <td>1572.584339</td>\n",
       "      <td>151.922022</td>\n",
       "      <td>42.356494</td>\n",
       "      <td>-71.089428</td>\n",
       "      <td>163.295898</td>\n",
       "      <td>42.356701</td>\n",
       "      <td>-71.091317</td>\n",
       "      <td>4214.048009</td>\n",
       "      <td>2019.554425</td>\n",
       "      <td>9.322302</td>\n",
       "    </tr>\n",
       "    <tr>\n",
       "      <th>20</th>\n",
       "      <td>20</td>\n",
       "      <td>1680.190002</td>\n",
       "      <td>150.577222</td>\n",
       "      <td>42.356717</td>\n",
       "      <td>-71.089940</td>\n",
       "      <td>163.661698</td>\n",
       "      <td>42.356520</td>\n",
       "      <td>-71.092189</td>\n",
       "      <td>4208.397843</td>\n",
       "      <td>2019.541465</td>\n",
       "      <td>9.341790</td>\n",
       "    </tr>\n",
       "    <tr>\n",
       "      <th>21</th>\n",
       "      <td>21</td>\n",
       "      <td>1858.231102</td>\n",
       "      <td>153.810317</td>\n",
       "      <td>42.356460</td>\n",
       "      <td>-71.090306</td>\n",
       "      <td>168.488969</td>\n",
       "      <td>42.356352</td>\n",
       "      <td>-71.092273</td>\n",
       "      <td>4182.570996</td>\n",
       "      <td>2019.524873</td>\n",
       "      <td>9.418352</td>\n",
       "    </tr>\n",
       "    <tr>\n",
       "      <th>22</th>\n",
       "      <td>22</td>\n",
       "      <td>2098.673997</td>\n",
       "      <td>151.458021</td>\n",
       "      <td>42.356064</td>\n",
       "      <td>-71.089011</td>\n",
       "      <td>165.302702</td>\n",
       "      <td>42.355916</td>\n",
       "      <td>-71.091518</td>\n",
       "      <td>4169.744338</td>\n",
       "      <td>2019.530183</td>\n",
       "      <td>9.407558</td>\n",
       "    </tr>\n",
       "    <tr>\n",
       "      <th>23</th>\n",
       "      <td>23</td>\n",
       "      <td>2387.700503</td>\n",
       "      <td>151.588833</td>\n",
       "      <td>42.355704</td>\n",
       "      <td>-71.088445</td>\n",
       "      <td>168.974541</td>\n",
       "      <td>42.355585</td>\n",
       "      <td>-71.090824</td>\n",
       "      <td>4167.349432</td>\n",
       "      <td>2019.564030</td>\n",
       "      <td>9.365494</td>\n",
       "    </tr>\n",
       "  </tbody>\n",
       "</table>\n",
       "</div>"
      ],
      "text/plain": [
       "    hour      duration    start_id  start_lat  start_long      end_id  \\\n",
       "0      0   3006.865203  151.912520  42.354964  -71.088794  166.692520   \n",
       "1      1   4016.130561  155.426257  42.354423  -71.087801  166.560928   \n",
       "2      2   4580.583551  161.110531  42.354674  -71.087417  173.144909   \n",
       "3      3   3976.312221  164.363069  42.354254  -71.090850  182.403211   \n",
       "4      4  13753.965388  177.260056  42.351862  -71.089569  167.365762   \n",
       "5      5   1740.278702  179.206387  42.352868  -71.088397  127.815783   \n",
       "6      6   1207.555853  171.080159  42.355561  -71.085623  135.700766   \n",
       "7      7   1056.252199  167.286224  42.357009  -71.089248  143.410502   \n",
       "8      8    949.899079  172.831942  42.357715  -71.089979  144.031391   \n",
       "9      9   1017.694515  169.574923  42.357238  -71.091623  147.319188   \n",
       "10    10   1462.897962  166.338580  42.357095  -71.092075  150.618233   \n",
       "11    11   1750.315282  163.205722  42.356764  -71.090422  153.409464   \n",
       "12    12   1772.192697  159.633387  42.356461  -71.089775  155.413794   \n",
       "13    13   1635.528384  157.440490  42.356527  -71.089912  154.088363   \n",
       "14    14   1854.990574  156.131556  42.356488  -71.089841  156.091960   \n",
       "15    15   1871.393052  155.261358  42.356293  -71.088462  157.802642   \n",
       "16    16   1401.951110  151.213110  42.356225  -71.086939  158.359641   \n",
       "17    17   1430.628710  149.424163  42.356480  -71.086677  160.022351   \n",
       "18    18   1677.989314  151.225411  42.356781  -71.088292  162.180309   \n",
       "19    19   1572.584339  151.922022  42.356494  -71.089428  163.295898   \n",
       "20    20   1680.190002  150.577222  42.356717  -71.089940  163.661698   \n",
       "21    21   1858.231102  153.810317  42.356460  -71.090306  168.488969   \n",
       "22    22   2098.673997  151.458021  42.356064  -71.089011  165.302702   \n",
       "23    23   2387.700503  151.588833  42.355704  -71.088445  168.974541   \n",
       "\n",
       "      end_lat   end_long      bike_id         year     month  \n",
       "0   42.354894 -71.091083  4183.903252  2019.587317  9.390407  \n",
       "1   42.354078 -71.091532  4151.686896  2019.571083  9.437863  \n",
       "2   42.355179 -71.091322  4188.060487  2019.535683  9.453003  \n",
       "3   42.355599 -71.093452  4216.925959  2019.658341  9.383586  \n",
       "4   42.352799 -71.086241  4213.351731  2019.628625  9.406922  \n",
       "5   42.352339 -71.083676  4283.230140  2019.507522  9.514120  \n",
       "6   42.354060 -71.083211  4228.370815  2019.472650  9.495157  \n",
       "7   42.356148 -71.083822  4224.933346  2019.364542  9.591785  \n",
       "8   42.357172 -71.084168  4196.353535  2019.319512  9.674411  \n",
       "9   42.357069 -71.087027  4217.993943  2019.424084  9.635100  \n",
       "10  42.357155 -71.089226  4220.237720  2019.511899  9.555999  \n",
       "11  42.356719 -71.088755  4234.529453  2019.523777  9.557272  \n",
       "12  42.356580 -71.088541  4245.060431  2019.541635  9.552302  \n",
       "13  42.356370 -71.088542  4245.222575  2019.554217  9.555871  \n",
       "14  42.356320 -71.089088  4237.360799  2019.568340  9.533649  \n",
       "15  42.356261 -71.088644  4240.838826  2019.550679  9.554667  \n",
       "16  42.356413 -71.087956  4213.396878  2019.492561  9.531241  \n",
       "17  42.356552 -71.089116  4194.376183  2019.469785  9.489955  \n",
       "18  42.356845 -71.090643  4206.934551  2019.521159  9.399923  \n",
       "19  42.356701 -71.091317  4214.048009  2019.554425  9.322302  \n",
       "20  42.356520 -71.092189  4208.397843  2019.541465  9.341790  \n",
       "21  42.356352 -71.092273  4182.570996  2019.524873  9.418352  \n",
       "22  42.355916 -71.091518  4169.744338  2019.530183  9.407558  \n",
       "23  42.355585 -71.090824  4167.349432  2019.564030  9.365494  "
      ]
     },
     "execution_count": 296,
     "metadata": {},
     "output_type": "execute_result"
    }
   ],
   "source": [
    "means"
   ]
  },
  {
   "cell_type": "code",
   "execution_count": 148,
   "id": "3d92d56d",
   "metadata": {},
   "outputs": [
    {
     "ename": "KeyError",
     "evalue": "'user_type'",
     "output_type": "error",
     "traceback": [
      "\u001b[1;31m---------------------------------------------------------------------------\u001b[0m",
      "\u001b[1;31mKeyError\u001b[0m                                  Traceback (most recent call last)",
      "\u001b[1;32m~\\anaconda3\\lib\\site-packages\\pandas\\core\\indexes\\base.py\u001b[0m in \u001b[0;36mget_loc\u001b[1;34m(self, key, method, tolerance)\u001b[0m\n\u001b[0;32m   3079\u001b[0m             \u001b[1;32mtry\u001b[0m\u001b[1;33m:\u001b[0m\u001b[1;33m\u001b[0m\u001b[1;33m\u001b[0m\u001b[0m\n\u001b[1;32m-> 3080\u001b[1;33m                 \u001b[1;32mreturn\u001b[0m \u001b[0mself\u001b[0m\u001b[1;33m.\u001b[0m\u001b[0m_engine\u001b[0m\u001b[1;33m.\u001b[0m\u001b[0mget_loc\u001b[0m\u001b[1;33m(\u001b[0m\u001b[0mcasted_key\u001b[0m\u001b[1;33m)\u001b[0m\u001b[1;33m\u001b[0m\u001b[1;33m\u001b[0m\u001b[0m\n\u001b[0m\u001b[0;32m   3081\u001b[0m             \u001b[1;32mexcept\u001b[0m \u001b[0mKeyError\u001b[0m \u001b[1;32mas\u001b[0m \u001b[0merr\u001b[0m\u001b[1;33m:\u001b[0m\u001b[1;33m\u001b[0m\u001b[1;33m\u001b[0m\u001b[0m\n",
      "\u001b[1;32mpandas\\_libs\\index.pyx\u001b[0m in \u001b[0;36mpandas._libs.index.IndexEngine.get_loc\u001b[1;34m()\u001b[0m\n",
      "\u001b[1;32mpandas\\_libs\\index.pyx\u001b[0m in \u001b[0;36mpandas._libs.index.IndexEngine.get_loc\u001b[1;34m()\u001b[0m\n",
      "\u001b[1;32mpandas\\_libs\\index_class_helper.pxi\u001b[0m in \u001b[0;36mpandas._libs.index.Int64Engine._check_type\u001b[1;34m()\u001b[0m\n",
      "\u001b[1;31mKeyError\u001b[0m: 'user_type'",
      "\nThe above exception was the direct cause of the following exception:\n",
      "\u001b[1;31mKeyError\u001b[0m                                  Traceback (most recent call last)",
      "\u001b[1;32m<ipython-input-148-69dea35d7ed1>\u001b[0m in \u001b[0;36m<module>\u001b[1;34m\u001b[0m\n\u001b[0;32m      3\u001b[0m fig.add_trace(go.Bar(\n\u001b[0;32m      4\u001b[0m   \u001b[0mx\u001b[0m \u001b[1;33m=\u001b[0m\u001b[1;33m\u001b[0m\u001b[1;33m\u001b[0m\u001b[0m\n\u001b[1;32m----> 5\u001b[1;33m        \u001b[0mcounts\u001b[0m\u001b[1;33m[\u001b[0m\u001b[1;34m'user_type'\u001b[0m\u001b[1;33m]\u001b[0m\u001b[1;33m,\u001b[0m\u001b[1;33m\u001b[0m\u001b[1;33m\u001b[0m\u001b[0m\n\u001b[0m\u001b[0;32m      6\u001b[0m   \u001b[0my\u001b[0m \u001b[1;33m=\u001b[0m \u001b[0mcounts\u001b[0m\u001b[1;33m[\u001b[0m\u001b[0mcounts\u001b[0m\u001b[1;33m[\u001b[0m\u001b[1;34m'year'\u001b[0m\u001b[1;33m]\u001b[0m\u001b[1;33m==\u001b[0m\u001b[1;36m2019\u001b[0m\u001b[1;33m]\u001b[0m\u001b[1;33m[\u001b[0m\u001b[1;34m'duration'\u001b[0m\u001b[1;33m]\u001b[0m\u001b[1;33m,\u001b[0m\u001b[1;33m\u001b[0m\u001b[1;33m\u001b[0m\u001b[0m\n\u001b[0;32m      7\u001b[0m   \u001b[0mname\u001b[0m \u001b[1;33m=\u001b[0m \u001b[1;34m\"2019\"\u001b[0m\u001b[1;33m,\u001b[0m\u001b[1;33m\u001b[0m\u001b[1;33m\u001b[0m\u001b[0m\n",
      "\u001b[1;32m~\\anaconda3\\lib\\site-packages\\pandas\\core\\series.py\u001b[0m in \u001b[0;36m__getitem__\u001b[1;34m(self, key)\u001b[0m\n\u001b[0;32m    851\u001b[0m \u001b[1;33m\u001b[0m\u001b[0m\n\u001b[0;32m    852\u001b[0m         \u001b[1;32melif\u001b[0m \u001b[0mkey_is_scalar\u001b[0m\u001b[1;33m:\u001b[0m\u001b[1;33m\u001b[0m\u001b[1;33m\u001b[0m\u001b[0m\n\u001b[1;32m--> 853\u001b[1;33m             \u001b[1;32mreturn\u001b[0m \u001b[0mself\u001b[0m\u001b[1;33m.\u001b[0m\u001b[0m_get_value\u001b[0m\u001b[1;33m(\u001b[0m\u001b[0mkey\u001b[0m\u001b[1;33m)\u001b[0m\u001b[1;33m\u001b[0m\u001b[1;33m\u001b[0m\u001b[0m\n\u001b[0m\u001b[0;32m    854\u001b[0m \u001b[1;33m\u001b[0m\u001b[0m\n\u001b[0;32m    855\u001b[0m         \u001b[1;32mif\u001b[0m \u001b[0mis_hashable\u001b[0m\u001b[1;33m(\u001b[0m\u001b[0mkey\u001b[0m\u001b[1;33m)\u001b[0m\u001b[1;33m:\u001b[0m\u001b[1;33m\u001b[0m\u001b[1;33m\u001b[0m\u001b[0m\n",
      "\u001b[1;32m~\\anaconda3\\lib\\site-packages\\pandas\\core\\series.py\u001b[0m in \u001b[0;36m_get_value\u001b[1;34m(self, label, takeable)\u001b[0m\n\u001b[0;32m    959\u001b[0m \u001b[1;33m\u001b[0m\u001b[0m\n\u001b[0;32m    960\u001b[0m         \u001b[1;31m# Similar to Index.get_value, but we do not fall back to positional\u001b[0m\u001b[1;33m\u001b[0m\u001b[1;33m\u001b[0m\u001b[1;33m\u001b[0m\u001b[0m\n\u001b[1;32m--> 961\u001b[1;33m         \u001b[0mloc\u001b[0m \u001b[1;33m=\u001b[0m \u001b[0mself\u001b[0m\u001b[1;33m.\u001b[0m\u001b[0mindex\u001b[0m\u001b[1;33m.\u001b[0m\u001b[0mget_loc\u001b[0m\u001b[1;33m(\u001b[0m\u001b[0mlabel\u001b[0m\u001b[1;33m)\u001b[0m\u001b[1;33m\u001b[0m\u001b[1;33m\u001b[0m\u001b[0m\n\u001b[0m\u001b[0;32m    962\u001b[0m         \u001b[1;32mreturn\u001b[0m \u001b[0mself\u001b[0m\u001b[1;33m.\u001b[0m\u001b[0mindex\u001b[0m\u001b[1;33m.\u001b[0m\u001b[0m_get_values_for_loc\u001b[0m\u001b[1;33m(\u001b[0m\u001b[0mself\u001b[0m\u001b[1;33m,\u001b[0m \u001b[0mloc\u001b[0m\u001b[1;33m,\u001b[0m \u001b[0mlabel\u001b[0m\u001b[1;33m)\u001b[0m\u001b[1;33m\u001b[0m\u001b[1;33m\u001b[0m\u001b[0m\n\u001b[0;32m    963\u001b[0m \u001b[1;33m\u001b[0m\u001b[0m\n",
      "\u001b[1;32m~\\anaconda3\\lib\\site-packages\\pandas\\core\\indexes\\base.py\u001b[0m in \u001b[0;36mget_loc\u001b[1;34m(self, key, method, tolerance)\u001b[0m\n\u001b[0;32m   3080\u001b[0m                 \u001b[1;32mreturn\u001b[0m \u001b[0mself\u001b[0m\u001b[1;33m.\u001b[0m\u001b[0m_engine\u001b[0m\u001b[1;33m.\u001b[0m\u001b[0mget_loc\u001b[0m\u001b[1;33m(\u001b[0m\u001b[0mcasted_key\u001b[0m\u001b[1;33m)\u001b[0m\u001b[1;33m\u001b[0m\u001b[1;33m\u001b[0m\u001b[0m\n\u001b[0;32m   3081\u001b[0m             \u001b[1;32mexcept\u001b[0m \u001b[0mKeyError\u001b[0m \u001b[1;32mas\u001b[0m \u001b[0merr\u001b[0m\u001b[1;33m:\u001b[0m\u001b[1;33m\u001b[0m\u001b[1;33m\u001b[0m\u001b[0m\n\u001b[1;32m-> 3082\u001b[1;33m                 \u001b[1;32mraise\u001b[0m \u001b[0mKeyError\u001b[0m\u001b[1;33m(\u001b[0m\u001b[0mkey\u001b[0m\u001b[1;33m)\u001b[0m \u001b[1;32mfrom\u001b[0m \u001b[0merr\u001b[0m\u001b[1;33m\u001b[0m\u001b[1;33m\u001b[0m\u001b[0m\n\u001b[0m\u001b[0;32m   3083\u001b[0m \u001b[1;33m\u001b[0m\u001b[0m\n\u001b[0;32m   3084\u001b[0m         \u001b[1;32mif\u001b[0m \u001b[0mtolerance\u001b[0m \u001b[1;32mis\u001b[0m \u001b[1;32mnot\u001b[0m \u001b[1;32mNone\u001b[0m\u001b[1;33m:\u001b[0m\u001b[1;33m\u001b[0m\u001b[1;33m\u001b[0m\u001b[0m\n",
      "\u001b[1;31mKeyError\u001b[0m: 'user_type'"
     ]
    }
   ],
   "source": [
    "\n",
    "fig = go.Figure()\n",
    "\n",
    "fig.add_trace(go.Bar(\n",
    "  x = \n",
    "       counts['user_type'],\n",
    "  y = counts[counts['year']==2019]['duration'],\n",
    "  name = \"2019\",\n",
    "))\n",
    "\n",
    "fig.add_trace(go.Bar(\n",
    "   x = \n",
    "       counts['user_type'],\n",
    "  y = counts[counts['year']==2020]['duration'],\n",
    "  name = \"2020\",\n",
    "))\n",
    "\n",
    "fig.update_layout(title_text=\"Multi-category axis\")\n",
    "\n",
    "fig.show()"
   ]
  },
  {
   "cell_type": "code",
   "execution_count": 43,
   "id": "225e7595",
   "metadata": {},
   "outputs": [
    {
     "data": {
      "text/plain": [
       "0    False\n",
       "1    False\n",
       "2     True\n",
       "3     True\n",
       "Name: year, dtype: bool"
      ]
     },
     "execution_count": 43,
     "metadata": {},
     "output_type": "execute_result"
    }
   ],
   "source": [
    "counts['year']==2020"
   ]
  },
  {
   "cell_type": "code",
   "execution_count": 15,
   "id": "33ec08e1",
   "metadata": {},
   "outputs": [
    {
     "data": {
      "text/plain": [
       "<seaborn.axisgrid.FacetGrid at 0x1aab2fea2e0>"
      ]
     },
     "execution_count": 15,
     "metadata": {},
     "output_type": "execute_result"
    },
    {
     "data": {
      "image/png": "[encoded data removed]",
      "text/plain": [
       "<Figure size 521.125x432 with 1 Axes>"
      ]
     },
     "metadata": {
      "needs_background": "light"
     },
     "output_type": "display_data"
    }
   ],
   "source": [
    "g = sns.catplot(\n",
    "    data=counts, kind=\"bar\",\n",
    "    x=\"year\", y=\"duration\", hue=\"user_type\",\n",
    "    ci='sd',\n",
    "    palette=\"dark\", alpha=.6, height=6\n",
    ")\n",
    "g.set_axis_labels(\"Year\", \"No. of rides\")\n"
   ]
  },
  {
   "cell_type": "code",
   "execution_count": null,
   "id": "e0429647",
   "metadata": {},
   "outputs": [],
   "source": [
    "\n"
   ]
  },
  {
   "cell_type": "code",
   "execution_count": 16,
   "id": "928c3502",
   "metadata": {},
   "outputs": [
    {
     "data": {
      "text/plain": [
       "<AxesSubplot:xlabel='duration', ylabel='Density'>"
      ]
     },
     "execution_count": 16,
     "metadata": {},
     "output_type": "execute_result"
    },
    {
     "data": {
      "image/png": "[encoded data removed]",
      "text/plain": [
       "<Figure size 432x288 with 1 Axes>"
      ]
     },
     "metadata": {
      "needs_background": "light"
     },
     "output_type": "display_data"
    }
   ],
   "source": [
    "sns.kdeplot(\n",
    "   data=df, x=\"duration\", hue=\"year\",\n",
    "   fill=True, common_norm=False, palette=\"crest\",\n",
    "   alpha=.5, linewidth=0,\n",
    ")"
   ]
  },
  {
   "cell_type": "code",
   "execution_count": 52,
   "id": "72b77cb1",
   "metadata": {},
   "outputs": [],
   "source": [
    "df['log_duration'] = np.log(df['duration'])"
   ]
  },
  {
   "cell_type": "code",
   "execution_count": 18,
   "id": "ecd2a9a3",
   "metadata": {},
   "outputs": [
    {
     "data": {
      "text/plain": [
       "Text(4.110873864173311, 0.015, 'LogMin(2019)4.110873864173311')"
      ]
     },
     "execution_count": 18,
     "metadata": {},
     "output_type": "execute_result"
    },
    {
     "data": {
      "image/png": "[encoded data removed]",
      "text/plain": [
       "<Figure size 1440x576 with 1 Axes>"
      ]
     },
     "metadata": {
      "needs_background": "light"
     },
     "output_type": "display_data"
    }
   ],
   "source": [
    "plt.figure(figsize=(20, 8))\n",
    "\n",
    "sns.kdeplot(\n",
    "   data=df, x=\"log_duration\", hue=\"year\",\n",
    "   fill=True, common_norm=False, palette=\"crest\",\n",
    "   alpha=.3, linewidth=0\n",
    ")\n",
    "max2020 = df[df['year']==2020].log_duration.max()\n",
    "plt.plot(max2020, 0.005, markersize=8, marker=7, color='red')\n",
    "plt.text(max2020, 0.015, f'Max({2020}){max2020}', color='red')\n",
    "\n",
    "max2019 = df[df['year']==2019].log_duration.max()\n",
    "plt.plot(max2019, 0.005, markersize=8, marker=7, color='green')\n",
    "plt.text(max2019, 0.015, f'Max({2019}){max2019}', color='green')\n",
    "\n",
    "min2020 = df[df['year']==2020].log_duration.min()\n",
    "plt.plot(min2020, 0.005, markersize=8, marker=7, color='red')\n",
    "plt.text(min2020, 0.015, f'LogMin({2020}){min2020}', color='red')\n",
    "\n",
    "min2019 = df[df['year']==2019].log_duration.min()\n",
    "plt.plot(min2019, 0.005, markersize=8, marker=7, color='green')\n",
    "plt.text(min2019, 0.015, f'LogMin({2019}){min2019}', color='green')\n"
   ]
  },
  {
   "cell_type": "code",
   "execution_count": 69,
   "id": "b4021ccc",
   "metadata": {},
   "outputs": [],
   "source": [
    "df['log_duration'] = np.log(df['duration'])\n",
    "colors = ['#333F44', '#37AA9C', '#94F3E4']"
   ]
  },
  {
   "cell_type": "code",
   "execution_count": 84,
   "id": "99713277",
   "metadata": {},
   "outputs": [],
   "source": [
    "import plotly.figure_factory as ff\n",
    "fig = ff.create_distplot([df[df['year']==2020].log_duration,df[df['year']==2019].log_duration],\n",
    "                         ['2020','2019'],show_hist=False,show_rug=False,colors=colors)"
   ]
  },
  {
   "cell_type": "code",
   "execution_count": 85,
   "id": "e4ca08ec",
   "metadata": {},
   "outputs": [
    {
     "data": {
      "application/vnd.plotly.v1+json": {
       "config": {
        "plotlyServerURL": "https://plot.ly"
       },
       "data": [
        {
         "legendgroup": "2020",
         "marker": {
          "color": "#333F44"
         },
         "mode": "lines",
         "name": "2020",
         "showlegend": true,
         "type": "scatter",
         "x": [
          4.143134726391533,
          4.1643472174791345,
          4.185559708566737,
          4.206772199654339,
          4.227984690741941,
          4.249197181829544,
          4.270409672917146,
          4.291622164004748,
          4.312834655092351,
          4.334047146179953,
          4.355259637267555,
          4.376472128355157,
          4.397684619442759,
          4.418897110530362,
          4.440109601617964,
          4.461322092705566,
          4.482534583793169,
          4.503747074880771,
          4.524959565968373,
          4.546172057055975,
          4.567384548143577,
          4.588597039231179,
          4.609809530318782,
          4.631022021406384,
          4.652234512493987,
          4.673447003581589,
          4.694659494669191,
          4.7158719857567934,
          4.737084476844395,
          4.758296967931997,
          4.7795094590196,
          4.800721950107202,
          4.821934441194804,
          4.843146932282407,
          4.864359423370009,
          4.885571914457611,
          4.9067844055452134,
          4.927996896632815,
          4.949209387720417,
          4.97042187880802,
          4.991634369895622,
          5.012846860983224,
          5.034059352070827,
          5.055271843158429,
          5.076484334246031,
          5.097696825333633,
          5.118909316421235,
          5.140121807508838,
          5.16133429859644,
          5.182546789684042,
          5.203759280771644,
          5.224971771859247,
          5.246184262946849,
          5.2673967540344515,
          5.288609245122053,
          5.309821736209656,
          5.331034227297258,
          5.35224671838486,
          5.373459209472463,
          5.394671700560065,
          5.415884191647667,
          5.43709668273527,
          5.4583091738228715,
          5.479521664910473,
          5.500734155998076,
          5.521946647085678,
          5.54315913817328,
          5.564371629260883,
          5.585584120348485,
          5.606796611436087,
          5.62800910252369,
          5.6492215936112915,
          5.670434084698893,
          5.691646575786496,
          5.712859066874098,
          5.7340715579617,
          5.755284049049303,
          5.776496540136905,
          5.797709031224507,
          5.81892152231211,
          5.8401340133997115,
          5.861346504487313,
          5.882558995574916,
          5.903771486662518,
          5.92498397775012,
          5.946196468837723,
          5.967408959925325,
          5.988621451012928,
          6.00983394210053,
          6.0310464331881315,
          6.052258924275734,
          6.073471415363336,
          6.094683906450938,
          6.115896397538541,
          6.137108888626143,
          6.158321379713746,
          6.179533870801348,
          6.20074636188895,
          6.221958852976552,
          6.243171344064154,
          6.264383835151756,
          6.285596326239359,
          6.306808817326961,
          6.328021308414563,
          6.349233799502166,
          6.370446290589768,
          6.39165878167737,
          6.412871272764972,
          6.434083763852574,
          6.455296254940176,
          6.476508746027779,
          6.497721237115381,
          6.518933728202983,
          6.540146219290586,
          6.561358710378188,
          6.58257120146579,
          6.603783692553392,
          6.624996183640995,
          6.646208674728596,
          6.667421165816199,
          6.688633656903801,
          6.709846147991403,
          6.731058639079006,
          6.7522711301666085,
          6.77348362125421,
          6.794696112341812,
          6.815908603429414,
          6.837121094517016,
          6.858333585604619,
          6.879546076692222,
          6.900758567779824,
          6.921971058867426,
          6.943183549955028,
          6.9643960410426295,
          6.985608532130232,
          7.006821023217835,
          7.028033514305437,
          7.049246005393039,
          7.070458496480642,
          7.091670987568243,
          7.112883478655846,
          7.1340959697434485,
          7.15530846083105,
          7.176520951918652,
          7.197733443006255,
          7.218945934093857,
          7.240158425181459,
          7.261370916269062,
          7.282583407356664,
          7.303795898444266,
          7.3250083895318685,
          7.346220880619471,
          7.367433371707072,
          7.388645862794675,
          7.409858353882277,
          7.431070844969879,
          7.452283336057482,
          7.473495827145085,
          7.494708318232686,
          7.5159208093202885,
          7.537133300407891,
          7.558345791495492,
          7.579558282583095,
          7.600770773670698,
          7.6219832647583,
          7.643195755845902,
          7.664408246933505,
          7.685620738021107,
          7.7068332291087085,
          7.728045720196311,
          7.749258211283913,
          7.770470702371515,
          7.791683193459118,
          7.81289568454672,
          7.834108175634322,
          7.855320666721925,
          7.876533157809527,
          7.8977456488971285,
          7.918958139984731,
          7.940170631072333,
          7.961383122159935,
          7.982595613247538,
          8.003808104335139,
          8.025020595422742,
          8.046233086510345,
          8.067445577597947,
          8.088658068685548,
          8.109870559773151,
          8.131083050860754,
          8.152295541948355,
          8.173508033035958,
          8.19472052412356,
          8.215933015211164,
          8.237145506298765,
          8.258357997386366,
          8.279570488473968,
          8.300782979561571,
          8.321995470649174,
          8.343207961736777,
          8.36442045282438,
          8.385632943911979,
          8.406845434999582,
          8.428057926087185,
          8.449270417174787,
          8.47048290826239,
          8.491695399349991,
          8.512907890437594,
          8.534120381525195,
          8.555332872612798,
          8.5765453637004,
          8.597757854788004,
          8.618970345875606,
          8.640182836963207,
          8.661395328050808,
          8.682607819138411,
          8.703820310226014,
          8.725032801313617,
          8.746245292401218,
          8.76745778348882,
          8.788670274576422,
          8.809882765664025,
          8.831095256751627,
          8.85230774783923,
          8.873520238926833,
          8.894732730014434,
          8.915945221102037,
          8.937157712189638,
          8.95837020327724,
          8.979582694364844,
          9.000795185452445,
          9.022007676540047,
          9.043220167627648,
          9.064432658715251,
          9.085645149802854,
          9.106857640890457,
          9.12807013197806,
          9.14928262306566,
          9.170495114153264,
          9.191707605240865,
          9.212920096328467,
          9.23413258741607,
          9.255345078503673,
          9.276557569591274,
          9.297770060678875,
          9.318982551766478,
          9.34019504285408,
          9.361407533941684,
          9.382620025029286,
          9.40383251611689,
          9.42504500720449,
          9.446257498292091,
          9.467469989379694,
          9.488682480467297,
          9.5098949715549,
          9.5311074626425,
          9.552319953730104,
          9.573532444817705,
          9.594744935905307,
          9.61595742699291,
          9.637169918080513,
          9.658382409168116,
          9.679594900255717,
          9.70080739134332,
          9.72201988243092,
          9.743232373518524,
          9.764444864606126,
          9.785657355693727,
          9.80686984678133,
          9.828082337868931,
          9.849294828956534,
          9.870507320044137,
          9.89171981113174,
          9.912932302219343,
          9.934144793306944,
          9.955357284394546,
          9.976569775482147,
          9.99778226656975,
          10.018994757657353,
          10.040207248744954,
          10.061419739832557,
          10.082632230920158,
          10.10384472200776,
          10.125057213095364,
          10.146269704182966,
          10.16748219527057,
          10.18869468635817,
          10.209907177445773,
          10.231119668533374,
          10.252332159620977,
          10.27354465070858,
          10.294757141796183,
          10.315969632883784,
          10.337182123971385,
          10.358394615058987,
          10.37960710614659,
          10.400819597234193,
          10.422032088321796,
          10.443244579409399,
          10.464457070497,
          10.4856695615846,
          10.506882052672204,
          10.528094543759806,
          10.54930703484741,
          10.57051952593501,
          10.591732017022613,
          10.612944508110214,
          10.634156999197817,
          10.65536949028542,
          10.676581981373023,
          10.697794472460625,
          10.719006963548226,
          10.74021945463583,
          10.76143194572343,
          10.782644436811033,
          10.803856927898636,
          10.825069418986239,
          10.84628191007384,
          10.86749440116144,
          10.888706892249044,
          10.909919383336646,
          10.93113187442425,
          10.952344365511852,
          10.973556856599453,
          10.994769347687056,
          11.015981838774657,
          11.03719432986226,
          11.058406820949862,
          11.079619312037465,
          11.100831803125068,
          11.122044294212667,
          11.14325678530027,
          11.164469276387873,
          11.185681767475476,
          11.206894258563079,
          11.228106749650681,
          11.249319240738282,
          11.270531731825884,
          11.291744222913486,
          11.31295671400109,
          11.334169205088692,
          11.355381696176295,
          11.376594187263898,
          11.397806678351497,
          11.4190191694391,
          11.440231660526702,
          11.461444151614305,
          11.482656642701908,
          11.50386913378951,
          11.525081624877112,
          11.546294115964713,
          11.567506607052316,
          11.588719098139919,
          11.609931589227521,
          11.631144080315124,
          11.652356571402724,
          11.673569062490326,
          11.69478155357793,
          11.715994044665532,
          11.737206535753135,
          11.758419026840736,
          11.779631517928339,
          11.80084400901594,
          11.822056500103542,
          11.843268991191145,
          11.864481482278748,
          11.885693973366351,
          11.906906464453952,
          11.928118955541553,
          11.949331446629156,
          11.970543937716759,
          11.991756428804361,
          12.012968919891962,
          12.034181410979565,
          12.055393902067166,
          12.07660639315477,
          12.097818884242372,
          12.119031375329975,
          12.140243866417578,
          12.161456357505177,
          12.18266884859278,
          12.203881339680382,
          12.225093830767985,
          12.246306321855588,
          12.267518812943191,
          12.288731304030794,
          12.309943795118393,
          12.331156286205996,
          12.352368777293599,
          12.373581268381201,
          12.394793759468804,
          12.416006250556407,
          12.43721874164401,
          12.45843123273161,
          12.479643723819212,
          12.500856214906815,
          12.522068705994418,
          12.54328119708202,
          12.564493688169623,
          12.585706179257226,
          12.606918670344825,
          12.628131161432428,
          12.649343652520031,
          12.67055614360763,
          12.691768634695233,
          12.712981125782836,
          12.734193616870439,
          12.755406107958041,
          12.776618599045644,
          12.797831090133247,
          12.819043581220846,
          12.84025607230845,
          12.861468563396052,
          12.882681054483655,
          12.903893545571258,
          12.92510603665886,
          12.946318527746463,
          12.967531018834062,
          12.988743509921665,
          13.009956001009268,
          13.031168492096871,
          13.052380983184474,
          13.073593474272077,
          13.09480596535968,
          13.116018456447279,
          13.137230947534881,
          13.158443438622484,
          13.179655929710087,
          13.200868420797686,
          13.222080911885289,
          13.243293402972892,
          13.264505894060495,
          13.285718385148098,
          13.3069308762357,
          13.328143367323303,
          13.349355858410902,
          13.370568349498505,
          13.391780840586108,
          13.41299333167371,
          13.434205822761314,
          13.455418313848917,
          13.47663080493652,
          13.497843296024119,
          13.519055787111721,
          13.540268278199324,
          13.561480769286927,
          13.58269326037453,
          13.603905751462133,
          13.625118242549735,
          13.646330733637335,
          13.667543224724938,
          13.68875571581254,
          13.70996820690014,
          13.731180697987742,
          13.752393189075345,
          13.773605680162948,
          13.79481817125055,
          13.816030662338154,
          13.837243153425757,
          13.858455644513356,
          13.879668135600959,
          13.900880626688561,
          13.922093117776164,
          13.943305608863767,
          13.96451809995137,
          13.985730591038973,
          14.006943082126572,
          14.028155573214175,
          14.049368064301778,
          14.07058055538938,
          14.091793046476983,
          14.113005537564586,
          14.134218028652189,
          14.155430519739788,
          14.17664301082739,
          14.197855501914994,
          14.219067993002596,
          14.2402804840902,
          14.261492975177799,
          14.282705466265401,
          14.303917957353004,
          14.325130448440607,
          14.34634293952821,
          14.367555430615813,
          14.388767921703412,
          14.409980412791015,
          14.431192903878618,
          14.45240539496622,
          14.473617886053823,
          14.494830377141426,
          14.516042868229029,
          14.537255359316628,
          14.55846785040423,
          14.579680341491834,
          14.600892832579436,
          14.62210532366704,
          14.643317814754642,
          14.664530305842245,
          14.685742796929844,
          14.706955288017447,
          14.72816777910505
         ],
         "xaxis": "x",
         "y": [
          0.014412190133737799,
          0.01552974880735432,
          0.016608298537774173,
          0.017631624995291306,
          0.018584840517721267,
          0.01945504602719413,
          0.02023194165392723,
          0.020908352984488707,
          0.021480643654682722,
          0.02194899079356171,
          0.022317507185556362,
          0.02259420241356093,
          0.022790784060570536,
          0.0229223086456258,
          0.02300669975583446,
          0.02306415730715972,
          0.023116486652709687,
          0.0231863791462556,
          0.02329667671285509,
          0.023469652083922318,
          0.023726333856313692,
          0.024085901763921648,
          0.02456517289055942,
          0.025178194404189013,
          0.02593595313370049,
          0.026846207270175476,
          0.02791344091527308,
          0.029138938299758336,
          0.03052097135048034,
          0.03205509190745318,
          0.03373451822236722,
          0.035550604280115534,
          0.03749337979988085,
          0.0395521482830407,
          0.04171612995963632,
          0.043975135731660085,
          0.046320257044052925,
          0.04874455491966691,
          0.051243729146900785,
          0.05381674589124428,
          0.056466399019231166,
          0.05919977750362271,
          0.062028608862519874,
          0.06496944719878966,
          0.0680436746203813,
          0.07127728719746623,
          0.07470044163494549,
          0.07834674684987995,
          0.08225229576926461,
          0.08645444675273091,
          0.0909903806192113,
          0.09589547748592017,
          0.10120157633355033,
          0.10693519790851826,
          0.11311582655365658,
          0.1197543570192244,
          0.12685181651170105,
          0.13439846871684308,
          0.1423733942820383,
          0.150744620919171,
          0.15946984636822487,
          0.16849776032610245,
          0.1777699293842024,
          0.18722316512313106,
          0.19679225346022516,
          0.206412887082794,
          0.2160246161569206,
          0.22557361876857557,
          0.2350150940754796,
          0.24431509898558404,
          0.2534516828874062,
          0.2624152225221944,
          0.2712079170235773,
          0.2798424667809302,
          0.2883400236625794,
          0.2967275585746902,
          0.30503483996817765,
          0.3132912492531336,
          0.3215226729977746,
          0.3297487058150373,
          0.3379803723531492,
          0.346218533997988,
          0.354453089558466,
          0.3626630143683007,
          0.37081721467133427,
          0.37887610982890074,
          0.38679379939120073,
          0.3945206301144277,
          0.40200595296790537,
          0.4092008538338217,
          0.41606065397620984,
          0.4225470057396911,
          0.4286294520910988,
          0.43428637109679946,
          0.4395052830412661,
          0.44428255320952825,
          0.44862257225174446,
          0.45253653420381157,
          0.4560409565596539,
          0.45915609569588683,
          0.4619044044895225,
          0.46430915877492807,
          0.466393348337997,
          0.4681788903990589,
          0.46968618344249935,
          0.47093398123536895,
          0.4719395348342833,
          0.4727189272550841,
          0.47328751298086696,
          0.4736603729617215,
          0.4738527042622471,
          0.4738800800052314,
          0.47375853696548104,
          0.4735044719858701,
          0.4731343513201451,
          0.4726642565381812,
          0.47210930500612447,
          0.4714829913358458,
          0.4707964986628116,
          0.4700580260288681,
          0.46927217194707355,
          0.4684394061109487,
          0.4675556528481932,
          0.46661200267646424,
          0.4655945630673643,
          0.46448445654317133,
          0.46325797321195294,
          0.4618868850018388,
          0.4603389290908209,
          0.4585784671643844,
          0.45656732412886813,
          0.45426580405869155,
          0.4516338722354472,
          0.44863248046962556,
          0.4452249993435799,
          0.4413787068906206,
          0.4370662701429461,
          0.43226714565898783,
          0.4269688191865854,
          0.42116780432127066,
          0.4148703261700272,
          0.40809262879655955,
          0.4008608640860241,
          0.39321054343838435,
          0.38518556061657366,
          0.3768368219603769,
          0.3682205466503698,
          0.3593963224335502,
          0.35042501916029395,
          0.34136667210094435,
          0.332278448461402,
          0.32321280372636146,
          0.31421592013289096,
          0.30532649911752163,
          0.2965749549211812,
          0.28798302992178043,
          0.27956382599535595,
          0.2713222223930951,
          0.26325563096726634,
          0.255355025230035,
          0.24760617119807404,
          0.23999098515194367,
          0.23248894567287165,
          0.2250784935668407,
          0.21773836228711413,
          0.21044879193109367,
          0.20319259065915266,
          0.19595601756370495,
          0.1887294700353924,
          0.1815079662985044,
          0.17429142008616277,
          0.16708470968046285,
          0.1598975481489578,
          0.1527441659650656,
          0.1456428216129092,
          0.13861516039304064,
          0.1316854464177413,
          0.12487969747800091,
          0.1182247566944172,
          0.1117473381619547,
          0.10547308568902111,
          0.09942568381463723,
          0.09362605830746185,
          0.08809169924328274,
          0.08283613367197772,
          0.07786856717299086,
          0.07319370477858943,
          0.06881175244326793,
          0.06471859112036085,
          0.06090610720365708,
          0.05736265613520557,
          0.05407363075817783,
          0.051022102722803,
          0.04818950397827254,
          0.04555631599335345,
          0.0431027366106746,
          0.040809298040757704,
          0.03865741408918931,
          0.03662983992768485,
          0.03471103323368665,
          0.032887411037600296,
          0.031147501878534045,
          0.029481997666356785,
          0.027883713804917786,
          0.02634746950732677,
          0.024869902722658196,
          0.023449235626871685,
          0.02208500718813644,
          0.02077778893105883,
          0.019528898786640027,
          0.018340125972448173,
          0.017213477394464487,
          0.016150953321839148,
          0.015154357288844044,
          0.014225142537616397,
          0.01336429500413509,
          0.012572250985904336,
          0.011848846268000103,
          0.011193292619692416,
          0.010604177154118875,
          0.010079479985765341,
          0.009616605832185923,
          0.009212425602832329,
          0.00886332453479355,
          0.008565254033287622,
          0.008313785035928773,
          0.008104161437557766,
          0.007931352878218759,
          0.007790106987148757,
          0.007675001943021812,
          0.007580500882057995,
          0.007501010168466309,
          0.007430943738083873,
          0.0073647955516507515,
          0.007297221598692313,
          0.007223131877965789,
          0.007137791409742921,
          0.007036927735904933,
          0.0069168407158750975,
          0.006774508942152211,
          0.006607685995380769,
          0.0064149792254303084,
          0.0061959039155237115,
          0.005950906615625966,
          0.005681353082246161,
          0.005389478506685063,
          0.005078300347099602,
          0.004751496842837675,
          0.004413256902280823,
          0.004068109251283556,
          0.0037207402875324876,
          0.0033758108578906907,
          0.003037782099776952,
          0.0027107595942466693,
          0.00239836348207503,
          0.0021036300755688697,
          0.001828948080660552,
          0.0015760300627738464,
          0.0013459174697288295,
          0.0011390155532947708,
          0.0009551530431563159,
          0.0007936604971759384,
          0.0006534608923384023,
          0.0005331661887439293,
          0.0004311742079280634,
          0.0003457611012437744,
          0.0002751658155060401,
          0.00021766416446248002,
          0.0001716312722234509,
          0.0001355921767884572,
          0.00010826120312724862,
          8.857129867874648e-05,
          7.569485861623827e-05,
          6.905766533494018e-05,
          6.834745560287479e-05,
          7.351835144307422e-05,
          8.479199637902248e-05,
          0.00010265577959485543,
          0.0001278580586849249,
          0.0001613998552535192,
          0.00020452213888225526,
          0.0002586875680233108,
          0.00032555544552806794,
          0.00040694868501733335,
          0.0005048117734988889,
          0.000621159044987508,
          0.0007580130278447693,
          0.0009173331646536338,
          0.0011009357913879985,
          0.001310406864291597,
          0.0015470095025529392,
          0.0018115889432227966,
          0.002104477961653598,
          0.00242540618578876,
          0.002773417024089049,
          0.0031467961374781243,
          0.0035430155169049946,
          0.003958697273620242,
          0.004389601189056684,
          0.004830639868287115,
          0.0052759249420448375,
          0.005718847103265713,
          0.006152191781370411,
          0.006568290902788847,
          0.006959209443840277,
          0.00731696338503037,
          0.0076337633174802496,
          0.007902275490068087,
          0.008115889735163709,
          0.00826898172688035,
          0.008357155676253043,
          0.008377453097949362,
          0.008328513878719034,
          0.008210677631151306,
          0.008026016201891821,
          0.007778292067327236,
          0.007472841915988466,
          0.00711638961154149,
          0.006716797519864197,
          0.006282769424440856,
          0.005823521543888502,
          0.005348440191460685,
          0.004866745193648954,
          0.004387177276752574,
          0.0039177253505135005,
          0.0034654062148680672,
          0.0030361050395377293,
          0.0026344804247303635,
          0.002263933362864372,
          0.0019266353680166216,
          0.0016236077293460493,
          0.001354841484055214,
          0.0011194463890873453,
          0.0009158168834137509,
          0.0007418036641791828,
          0.0005948808688653203,
          0.00047230073843135327,
          0.0003712297965498135,
          0.0002888627942619614,
          0.00022251274796897106,
          0.00016967719878124477,
          0.00012808225237411698,
          9.570698131212662e-05,
          7.079139159795652e-05,
          5.183141189417065e-05,
          3.7564320447839306e-05,
          2.6947755873426694e-05,
          1.913503994158109e-05,
          1.3449043625509107e-05,
          9.356310856643686e-06,
          6.442662791526137e-06,
          4.391069500202987e-06,
          2.9622131309923035e-06,
          1.9778829075338053e-06,
          1.3071354197480345e-06,
          8.550155096408587e-07,
          5.535523322660363e-07,
          3.5470942212112047e-07,
          2.2496468500370593e-07,
          1.4121536240014241e-07,
          8.773523588972827e-08,
          5.394973532947285e-08,
          3.283420719017095e-08,
          1.9778100584627357e-08,
          1.1791320444162072e-08,
          6.957595698072278e-09,
          4.063254018718676e-09,
          2.3485835992877608e-09,
          1.3435524746349318e-09,
          7.6071005575779e-10,
          4.26283975402985e-10,
          2.3642513505843744e-10,
          1.297784497380815e-10,
          7.05058848723668e-11,
          3.791068159978792e-11,
          2.0174876437657007e-11,
          1.062607552085683e-11,
          5.5392035478445774e-12,
          2.857813456278018e-12,
          1.459258712280361e-12,
          7.374665738049398e-13,
          3.68861897272803e-13,
          1.8259818742575187e-13,
          8.946232032234085e-14,
          4.338051637281859e-14,
          2.081900590781576e-14,
          9.888623298793132e-15,
          4.648599429452888e-15,
          2.162811885914335e-15,
          9.959226206007297e-16,
          4.538815983916555e-16,
          2.0472439505598107e-16,
          9.139166283055661e-17,
          4.037880394715593e-17,
          1.7656724641173325e-17,
          7.641464486839756e-18,
          3.2730509069145672e-18,
          1.38751784467336e-18,
          5.821488014960447e-19,
          2.4173471929200063e-19,
          9.934677015094701e-20,
          4.040909555134937e-20,
          1.6267542824345982e-20,
          6.482301013497856e-21,
          2.5587271707335854e-21,
          1.005585901969046e-21,
          4.0701949197927845e-22,
          2.0456401579449648e-22,
          2.049257781912281e-22,
          4.054411359732013e-22,
          9.887696418573078e-22,
          2.479654343105832e-21,
          6.189863379023208e-21,
          1.5305237086289047e-20,
          3.7459147007088217e-20,
          9.073804600320761e-20,
          2.175344902415277e-19,
          5.161465593103836e-19,
          1.2120597263395848e-18,
          2.8169624464595492e-18,
          6.479539516951457e-18,
          1.4750721963112828e-17,
          3.323444723767785e-17,
          7.410878469498882e-17,
          1.6355241883768176e-16,
          3.572319548710922e-16,
          7.7223534897052e-16,
          1.6521714132104285e-15,
          3.498376750261152e-15,
          7.331352498534176e-15,
          1.5205743951534237e-14,
          3.121312802119083e-14,
          6.34122207383667e-14,
          1.2750131985121102e-13,
          2.5372452423248074e-13,
          4.997079534353891e-13,
          9.740385049304105e-13,
          1.879066013789887e-12,
          3.5876824693746206e-12,
          6.779411691416306e-12,
          1.2678739128410238e-11,
          2.346746467683159e-11,
          4.29894934893492e-11,
          7.794074132028896e-11,
          1.3985332135177744e-10,
          2.483631080658697e-10,
          4.365233062640502e-10,
          7.59335727634764e-10,
          1.307272970055868e-09,
          2.2274336551335432e-09,
          3.756205304571377e-09,
          6.269023743012453e-09,
          1.0355153863349892e-08,
          1.69285299629574e-08,
          2.7389744776860086e-08,
          4.3859408759448715e-08,
          6.950941109795379e-08,
          1.0902610419735253e-07,
          1.6924795396469463e-07,
          2.6002937326263276e-07,
          3.9539160115272314e-07,
          5.95029529704775e-07,
          8.862487731961632e-07,
          1.3064079768961e-06,
          1.905934838909361e-06,
          2.7519676378027944e-06,
          3.93264409839193e-06,
          5.5620132081923e-06,
          7.78548075496771e-06,
          1.0785614751374891e-05,
          1.4788033327900836e-05,
          2.0066978538651364e-05,
          2.6950051556936154e-05,
          3.582145838476935e-05,
          4.712300469924947e-05,
          6.135200138515016e-05,
          7.905521847694038e-05,
          0.0001008180749203934,
          0.0001272483930029698,
          0.0001589542927146981,
          0.00019651615766831893,
          0.00024045306422801796,
          0.000291184609239398,
          0.0003489896645421598,
          0.00041396417946979824,
          0.0004859806855338887,
          0.0005646525636005008,
          0.0006493063464635576,
          0.0007389652906191719,
          0.0008323471191979314,
          0.0009278781975456046,
          0.0010237254692551231,
          0.0011178463031913761,
          0.0012080550640688507,
          0.001292103831002381,
          0.0013677733786755216,
          0.0014329694376699236,
          0.0014858184870533908,
          0.0015247570009964992,
          0.0015486082307476802
         ],
         "yaxis": "y"
        },
        {
         "legendgroup": "2019",
         "marker": {
          "color": "#37AA9C"
         },
         "mode": "lines",
         "name": "2019",
         "showlegend": true,
         "type": "scatter",
         "x": [
          4.110873864173311,
          4.126579812857771,
          4.14228576154223,
          4.157991710226691,
          4.17369765891115,
          4.18940360759561,
          4.205109556280069,
          4.22081550496453,
          4.236521453648989,
          4.252227402333449,
          4.267933351017908,
          4.283639299702369,
          4.299345248386828,
          4.315051197071288,
          4.330757145755747,
          4.346463094440208,
          4.362169043124667,
          4.377874991809127,
          4.393580940493586,
          4.409286889178046,
          4.424992837862506,
          4.440698786546966,
          4.456404735231425,
          4.472110683915885,
          4.487816632600345,
          4.5035225812848045,
          4.519228529969264,
          4.534934478653724,
          4.550640427338184,
          4.5663463760226435,
          4.582052324707103,
          4.5977582733915625,
          4.613464222076022,
          4.629170170760482,
          4.644876119444942,
          4.6605820681294015,
          4.676288016813862,
          4.691993965498321,
          4.707699914182781,
          4.72340586286724,
          4.7391118115517,
          4.75481776023616,
          4.77052370892062,
          4.786229657605079,
          4.801935606289539,
          4.817641554973999,
          4.833347503658459,
          4.849053452342918,
          4.864759401027378,
          4.880465349711837,
          4.896171298396298,
          4.911877247080757,
          4.927583195765217,
          4.943289144449676,
          4.958995093134137,
          4.974701041818596,
          4.990406990503056,
          5.006112939187515,
          5.021818887871976,
          5.037524836556435,
          5.053230785240895,
          5.068936733925354,
          5.084642682609815,
          5.100348631294274,
          5.116054579978734,
          5.131760528663193,
          5.147466477347653,
          5.163172426032113,
          5.1788783747165725,
          5.194584323401032,
          5.2102902720854924,
          5.225996220769952,
          5.2417021694544115,
          5.257408118138871,
          5.2731140668233305,
          5.28882001550779,
          5.30452596419225,
          5.32023191287671,
          5.3359378615611694,
          5.35164381024563,
          5.367349758930089,
          5.383055707614549,
          5.398761656299008,
          5.414467604983468,
          5.430173553667927,
          5.445879502352388,
          5.461585451036847,
          5.477291399721308,
          5.492997348405767,
          5.508703297090227,
          5.524409245774686,
          5.540115194459146,
          5.555821143143606,
          5.571527091828066,
          5.587233040512525,
          5.602938989196985,
          5.618644937881445,
          5.634350886565905,
          5.650056835250364,
          5.665762783934824,
          5.681468732619283,
          5.697174681303743,
          5.712880629988203,
          5.728586578672663,
          5.744292527357122,
          5.7599984760415825,
          5.775704424726042,
          5.791410373410502,
          5.807116322094961,
          5.822822270779421,
          5.838528219463881,
          5.8542341681483405,
          5.8699401168328,
          5.88564606551726,
          5.90135201420172,
          5.9170579628861795,
          5.932763911570639,
          5.9484698602550985,
          5.964175808939559,
          5.979881757624018,
          5.995587706308478,
          6.011293654992937,
          6.026999603677398,
          6.042705552361857,
          6.058411501046317,
          6.074117449730776,
          6.089823398415236,
          6.105529347099695,
          6.121235295784156,
          6.136941244468616,
          6.152647193153076,
          6.168353141837535,
          6.184059090521995,
          6.199765039206454,
          6.215470987890914,
          6.231176936575373,
          6.246882885259834,
          6.262588833944293,
          6.278294782628753,
          6.294000731313213,
          6.309706679997673,
          6.325412628682132,
          6.341118577366592,
          6.356824526051051,
          6.372530474735512,
          6.388236423419971,
          6.403942372104431,
          6.419648320788891,
          6.4353542694733505,
          6.45106021815781,
          6.46676616684227,
          6.482472115526729,
          6.498178064211189,
          6.513884012895648,
          6.529589961580109,
          6.545295910264569,
          6.561001858949028,
          6.576707807633488,
          6.5924137563179475,
          6.608119705002407,
          6.6238256536868665,
          6.639531602371326,
          6.655237551055786,
          6.670943499740246,
          6.686649448424706,
          6.702355397109166,
          6.718061345793625,
          6.733767294478085,
          6.749473243162544,
          6.765179191847005,
          6.780885140531464,
          6.796591089215924,
          6.812297037900383,
          6.828002986584844,
          6.843708935269303,
          6.859414883953763,
          6.875120832638222,
          6.890826781322682,
          6.906532730007141,
          6.922238678691602,
          6.937944627376062,
          6.953650576060522,
          6.969356524744981,
          6.985062473429441,
          7.0007684221139,
          7.01647437079836,
          7.032180319482819,
          7.047886268167279,
          7.063592216851739,
          7.0792981655361995,
          7.095004114220659,
          7.1107100629051185,
          7.126416011589578,
          7.142121960274038,
          7.157827908958497,
          7.1735338576429575,
          7.189239806327417,
          7.2049457550118765,
          7.220651703696336,
          7.236357652380796,
          7.252063601065256,
          7.2677695497497155,
          7.283475498434175,
          7.2991814471186345,
          7.314887395803094,
          7.330593344487554,
          7.346299293172015,
          7.362005241856474,
          7.377711190540934,
          7.393417139225393,
          7.409123087909853,
          7.424829036594312,
          7.440534985278772,
          7.456240933963231,
          7.471946882647692,
          7.487652831332152,
          7.503358780016612,
          7.519064728701071,
          7.534770677385531,
          7.55047662606999,
          7.56618257475445,
          7.58188852343891,
          7.59759447212337,
          7.613300420807829,
          7.629006369492289,
          7.644712318176749,
          7.660418266861209,
          7.676124215545668,
          7.691830164230128,
          7.707536112914587,
          7.723242061599048,
          7.738948010283507,
          7.7546539589679675,
          7.770359907652427,
          7.7860658563368865,
          7.801771805021346,
          7.8174777537058056,
          7.833183702390265,
          7.848889651074725,
          7.864595599759184,
          7.880301548443645,
          7.896007497128105,
          7.911713445812564,
          7.927419394497024,
          7.9431253431814834,
          7.958831291865943,
          7.9745372405504025,
          7.990243189234863,
          8.005949137919323,
          8.021655086603783,
          8.037361035288242,
          8.053066983972702,
          8.068772932657161,
          8.08447888134162,
          8.10018483002608,
          8.11589077871054,
          8.131596727395,
          8.147302676079459,
          8.16300862476392,
          8.17871457344838,
          8.19442052213284,
          8.210126470817299,
          8.225832419501758,
          8.24153836818622,
          8.257244316870679,
          8.272950265555139,
          8.288656214239598,
          8.304362162924058,
          8.320068111608517,
          8.335774060292977,
          8.351480008977436,
          8.367185957661896,
          8.382891906346355,
          8.398597855030815,
          8.414303803715274,
          8.430009752399735,
          8.445715701084193,
          8.461421649768655,
          8.477127598453114,
          8.492833547137574,
          8.508539495822035,
          8.524245444506493,
          8.539951393190954,
          8.555657341875413,
          8.571363290559873,
          8.587069239244332,
          8.602775187928792,
          8.618481136613251,
          8.634187085297711,
          8.64989303398217,
          8.66559898266663,
          8.68130493135109,
          8.697010880035549,
          8.71271682872001,
          8.72842277740447,
          8.74412872608893,
          8.759834674773389,
          8.77554062345785,
          8.79124657214231,
          8.80695252082677,
          8.822658469511229,
          8.838364418195688,
          8.854070366880148,
          8.869776315564607,
          8.885482264249067,
          8.901188212933526,
          8.916894161617986,
          8.932600110302445,
          8.948306058986907,
          8.964012007671364,
          8.979717956355826,
          8.995423905040283,
          9.011129853724745,
          9.026835802409206,
          9.042541751093664,
          9.058247699778125,
          9.073953648462584,
          9.089659597147044,
          9.105365545831503,
          9.121071494515963,
          9.136777443200423,
          9.152483391884882,
          9.168189340569342,
          9.183895289253801,
          9.19960123793826,
          9.21530718662272,
          9.23101313530718,
          9.24671908399164,
          9.2624250326761,
          9.27813098136056,
          9.29383693004502,
          9.309542878729479,
          9.32524882741394,
          9.3409547760984,
          9.35666072478286,
          9.372366673467319,
          9.388072622151778,
          9.403778570836238,
          9.419484519520697,
          9.435190468205157,
          9.450896416889616,
          9.466602365574076,
          9.482308314258535,
          9.498014262942997,
          9.513720211627454,
          9.529426160311916,
          9.545132108996375,
          9.560838057680835,
          9.576544006365296,
          9.592249955049756,
          9.607955903734215,
          9.623661852418675,
          9.639367801103134,
          9.655073749787594,
          9.670779698472053,
          9.686485647156513,
          9.702191595840972,
          9.717897544525432,
          9.733603493209891,
          9.74930944189435,
          9.765015390578812,
          9.78072133926327,
          9.796427287947731,
          9.81213323663219,
          9.82783918531665,
          9.843545134001111,
          9.859251082685569,
          9.87495703137003,
          9.89066298005449,
          9.90636892873895,
          9.922074877423409,
          9.937780826107868,
          9.953486774792328,
          9.969192723476787,
          9.984898672161247,
          10.000604620845706,
          10.016310569530166,
          10.032016518214625,
          10.047722466899087,
          10.063428415583546,
          10.079134364268006,
          10.094840312952465,
          10.110546261636925,
          10.126252210321386,
          10.141958159005846,
          10.157664107690305,
          10.173370056374765,
          10.189076005059224,
          10.204781953743684,
          10.220487902428143,
          10.236193851112603,
          10.251899799797062,
          10.267605748481522,
          10.283311697165981,
          10.29901764585044,
          10.314723594534902,
          10.33042954321936,
          10.346135491903821,
          10.361841440588282,
          10.37754738927274,
          10.393253337957201,
          10.408959286641661,
          10.42466523532612,
          10.44037118401058,
          10.45607713269504,
          10.471783081379499,
          10.487489030063958,
          10.503194978748418,
          10.518900927432878,
          10.534606876117337,
          10.550312824801797,
          10.566018773486256,
          10.581724722170717,
          10.597430670855175,
          10.613136619539636,
          10.628842568224096,
          10.644548516908555,
          10.660254465593017,
          10.675960414277474,
          10.691666362961936,
          10.707372311646395,
          10.723078260330855,
          10.738784209015314,
          10.754490157699774,
          10.770196106384233,
          10.785902055068693,
          10.801608003753152,
          10.817313952437612,
          10.833019901122071,
          10.84872584980653,
          10.864431798490992,
          10.880137747175452,
          10.895843695859911,
          10.91154964454437,
          10.92725559322883,
          10.942961541913292,
          10.958667490597751,
          10.97437343928221,
          10.99007938796667,
          11.00578533665113,
          11.021491285335589,
          11.037197234020049,
          11.052903182704508,
          11.068609131388968,
          11.084315080073427,
          11.100021028757887,
          11.115726977442346,
          11.131432926126807,
          11.147138874811265,
          11.162844823495726,
          11.178550772180188,
          11.194256720864646,
          11.209962669549107,
          11.225668618233566,
          11.241374566918026,
          11.257080515602485,
          11.272786464286945,
          11.288492412971404,
          11.304198361655864,
          11.319904310340323,
          11.335610259024783,
          11.351316207709242,
          11.367022156393702,
          11.382728105078161,
          11.398434053762623,
          11.414140002447082,
          11.429845951131542,
          11.445551899816001,
          11.46125784850046,
          11.476963797184922,
          11.492669745869382,
          11.508375694553841,
          11.5240816432383,
          11.53978759192276,
          11.55549354060722,
          11.57119948929168,
          11.586905437976139,
          11.602611386660598,
          11.618317335345058,
          11.634023284029517,
          11.649729232713979,
          11.665435181398436,
          11.681141130082898,
          11.696847078767357,
          11.712553027451817,
          11.728258976136278,
          11.743964924820736,
          11.759670873505197,
          11.775376822189656,
          11.791082770874116,
          11.806788719558575,
          11.822494668243035,
          11.838200616927494,
          11.853906565611954,
          11.869612514296414,
          11.885318462980873,
          11.901024411665333,
          11.916730360349792,
          11.932436309034252,
          11.948142257718713
         ],
         "xaxis": "x",
         "y": [
          0.010351291711533855,
          0.011049175649633074,
          0.011746749591105462,
          0.012439524457816558,
          0.01312305057041891,
          0.01379301047711536,
          0.014445318049514528,
          0.015076222714675123,
          0.015682417205513284,
          0.01626114664698198,
          0.016810316190854758,
          0.017328593818133276,
          0.01781550440464712,
          0.018271510756079867,
          0.01869807712557506,
          0.019097710784565534,
          0.019473977566017632,
          0.01983148796034311,
          0.020175851316378182,
          0.020513596956739398,
          0.02085206250737702,
          0.02119925139153124,
          0.021563663156577366,
          0.02195410198421365,
          0.022379470270944342,
          0.022848555450539806,
          0.02336981916748032,
          0.023951198422302727,
          0.024599928341656384,
          0.02532239575042383,
          0.026124031742489437,
          0.027009249991877215,
          0.027981435675526488,
          0.02904298767506259,
          0.030195414288482617,
          0.03143948012781636,
          0.032775399326836624,
          0.03420306775636102,
          0.03572232476190491,
          0.037333233108389006,
          0.039036364434640834,
          0.040833076664514065,
          0.04272576954916786,
          0.0447181048610194,
          0.04681517873385913,
          0.04902363522901434,
          0.051351712360602805,
          0.05380921446304761,
          0.05640740783421571,
          0.05915883991689007,
          0.06207708574840706,
          0.06517642885631915,
          0.0684714870410387,
          0.07197679639754884,
          0.07570636932816364,
          0.07967324404484359,
          0.0838890440372591,
          0.08836356611143124,
          0.09310441484579082,
          0.09811669967672029,
          0.10340280837366399,
          0.10896226750271036,
          0.11479169675893591,
          0.12088485995904653,
          0.12723281123862146,
          0.13382413081496952,
          0.14064524077554577,
          0.1476807879323968,
          0.1549140780116388,
          0.1623275434461851,
          0.1699032258808026,
          0.17762325419765046,
          0.18547029939139673,
          0.1934279888830883,
          0.20148126474286993,
          0.2096166726526107,
          0.21782257113265208,
          0.22608925344160644,
          0.23440897751406217,
          0.24277590223679038,
          0.25118593122206684,
          0.25963646799197165,
          0.268126089141751,
          0.2766541446212937,
          0.285220296781671,
          0.2938240122864983,
          0.302464023366932,
          0.31113777714871155,
          0.31984089380023595,
          0.3285666558995295,
          0.33730555251561933,
          0.34604490184453324,
          0.35476857562685915,
          0.3634568468189953,
          0.37208637895714225,
          0.3806303712773079,
          0.38905886796539985,
          0.39733923304679686,
          0.4054367846377522,
          0.41331557393572316,
          0.4209392858821327,
          0.42827223041897244,
          0.43528038624372145,
          0.44193245350086324,
          0.44820086843296203,
          0.4540627320490885,
          0.45950060660939135,
          0.4645031382519459,
          0.46906547128516185,
          0.4731894292180754,
          0.4768834489938089,
          0.48016226745979906,
          0.48304637206705503,
          0.4855612402953938,
          0.48773640351317565,
          0.4896043801321155,
          0.49119952937913997,
          0.49255688033669437,
          0.49371099088644776,
          0.49469488786303784,
          0.49553913336406896,
          0.4962710532728912,
          0.49691415331534144,
          0.49748773619662046,
          0.49800672141016344,
          0.4984816580195865,
          0.49891891084284123,
          0.49932099262422003,
          0.49968700938205857,
          0.5000131833678452,
          0.5002934179424988,
          0.5005198709351009,
          0.5006835072903725,
          0.5007746074963583,
          0.5007832148042779,
          0.5006995109862133,
          0.5005141167463493,
          0.5002183184245915,
          0.49980422695503385,
          0.4992648779662839,
          0.4985942833940251,
          0.49778744512418593,
          0.4968403402260418,
          0.4957498855848572,
          0.4945138875661178,
          0.4931309801036061,
          0.49160055263038366,
          0.4899226678229323,
          0.488097968368253,
          0.48612757195018086,
          0.48401295433897645,
          0.48175582172078385,
          0.4793579750157059,
          0.47682117066056173,
          0.47414698392338783,
          0.4713366820431346,
          0.4683911151717534,
          0.46531063312704585,
          0.4620950353108306,
          0.45874355985248877,
          0.4552549162127967,
          0.45162736328585024,
          0.4478588326519934,
          0.44394709424774054,
          0.43988995949556475,
          0.4356855150051159,
          0.4313323783988197,
          0.4268299666600541,
          0.42217876663909965,
          0.4173805969373206,
          0.4124388502655645,
          0.4073587054838609,
          0.40214729884037653,
          0.3968138444330924,
          0.3913696946473912,
          0.38582833233832964,
          0.38020528791015734,
          0.374517976284496,
          0.36878545111238586,
          0.3630280765060043,
          0.3572671200181149,
          0.351524274485318,
          0.3458211205039124,
          0.34017854548250054,
          0.3346161391149687,
          0.32915158841012754,
          0.32380009776688845,
          0.31857386069530946,
          0.3134816094192225,
          0.3085282666175904,
          0.30371471995055777,
          0.29903773488641805,
          0.29449001494334004,
          0.2900604111509846,
          0.2857342747831526,
          0.28149393973440306,
          0.27731931385052405,
          0.27318855258666547,
          0.26907878399826435,
          0.2649668515988014,
          0.2608300412346492,
          0.25664675986251373,
          0.25239713783880874,
          0.24806353175997517,
          0.24363091161713324,
          0.23908712354206704,
          0.23442302716767136,
          0.22963251404249843,
          0.22471242010511747,
          0.219662350501063,
          0.21448443869072414,
          0.20918306366604364,
          0.20376454913061998,
          0.19823686680885508,
          0.19260936287072786,
          0.1868925221269971,
          0.18109777957144638,
          0.17523738345934325,
          0.16932430884585423,
          0.1633722157545734,
          0.15739544222581525,
          0.15140901963833525,
          0.14542869603849065,
          0.1394709527777962,
          0.13355300049024346,
          0.12769274219237442,
          0.12190869386059511,
          0.11621985599346958,
          0.11064553314957414,
          0.10520510201832886,
          0.09991773201026989,
          0.09480206545884776,
          0.08987586716561649,
          0.08515565509775766,
          0.08065632550728252,
          0.07639078656876314,
          0.07236961484030754,
          0.06860074847571324,
          0.06508923020256425,
          0.06183701168705185,
          0.0588428290897433,
          0.056102157436492085,
          0.05360724894514442,
          0.05134725772446081,
          0.049308450365007674,
          0.04747449894961923,
          0.04582685001098277,
          0.04434516005520749,
          0.04300778556260151,
          0.041792312987140263,
          0.04067611232285644,
          0.03963689640172893,
          0.03865326733299961,
          0.0377052314652413,
          0.036774664996596394,
          0.03584571388513411,
          0.03490511398865467,
          0.03394242031711906,
          0.03295013779554202,
          0.0319237498584721,
          0.030861645347966035,
          0.02976494836514424,
          0.02863725972353393,
          0.027484322268078867,
          0.026313625371891806,
          0.025133966247230362,
          0.023954987189730634,
          0.022786708442983906,
          0.021639076001202778,
          0.020521542389077906,
          0.019442696347214024,
          0.01840995453037956,
          0.017429324952883185,
          0.01650524817702381,
          0.015640518339812053,
          0.01483628225810195,
          0.014092111244101023,
          0.013406137084925137,
          0.012775241046042371,
          0.012195282866904118,
          0.011661355602682147,
          0.011168051857163134,
          0.010709727429630347,
          0.010280749599039532,
          0.009875719087819156,
          0.009489657048304567,
          0.00911815103679128,
          0.008757456710526692,
          0.008404554727493881,
          0.008057164883578487,
          0.007713721743204309,
          0.00737331779364237,
          0.007035621401607124,
          0.0067007775346349645,
          0.006369299330578959,
          0.006041958195890812,
          0.005719679259856552,
          0.00540344780613058,
          0.005094230860323747,
          0.004792916555884153,
          0.004500272350479977,
          0.0042169217305593155,
          0.003943337812868494,
          0.00367985129428707,
          0.0034266695538465093,
          0.0031839033837521608,
          0.0029515978039992177,
          0.0027297636598375735,
          0.0025184071580867215,
          0.0023175551017902423,
          0.0021272742637350483,
          0.0019476840312609351,
          0.0017789620988676988,
          0.0016213435349638275,
          0.0014751139731660453,
          0.001340597961318517,
          0.0012181436427461862,
          0.0011081049576309725,
          0.0010108224618323002,
          0.00092660369693231,
          0.0008557038427743109,
          0.0007983071754933361,
          0.0007545096690816916,
          0.0007243029391703368,
          0.0007075596476780994,
          0.0007040204707107263,
          0.0007132827748925225,
          0.0007347912364672984,
          0.0007678307540791807,
          0.0008115221273289702,
          0.0008648210749454971,
          0.0009265212260970233,
          0.000995261717300367,
          0.0010695399528716863,
          0.0011477299337060783,
          0.001228106330450852,
          0.0013088741842032336,
          0.0013882037795550893,
          0.001464269875939302,
          0.0015352941324869407,
          0.0015995892490105778,
          0.0016556030999534063,
          0.0017019609838306413,
          0.0017375040661108331,
          0.0017613221687110068,
          0.001772779255063472,
          0.0017715302671905354,
          0.001757528372485941,
          0.0017310221473688383,
          0.0016925427314767106,
          0.0016428814954017245,
          0.0015830592427578708,
          0.0015142883818166407,
          0.001437929826444961,
          0.0013554466011892953,
          0.0012683562201864496,
          0.0011781838823710729,
          0.001086418383294638,
          0.0009944724017636013,
          0.0009036484987208624,
          0.0008151117918476775,
          0.000729869869734179,
          0.0006487601113346435,
          0.0005724442045982116,
          0.000501409333392799,
          0.00043597523960534843,
          0.00037630617717831474,
          0.0003224266604059284,
          0.0002742398680503893,
          0.00023154759096458255,
          0.0001940706934864052,
          0.00016146918506159048,
          0.00013336115440958915,
          0.00010933999020025409,
          8.898948687544306e-05,
          7.189660099937965e-05,
          5.7661773771523785e-05,
          4.590686307600962e-05,
          3.628083021799546e-05,
          2.846340119594358e-05,
          2.2166970847203097e-05,
          1.7137042884975074e-05,
          1.3151503177298081e-05,
          1.0019011656833534e-05,
          7.576774228298125e-06,
          5.687924035433217e-06,
          4.238705128912883e-06,
          3.135614034745299e-06,
          2.3026183981788246e-06,
          1.6785385411171436e-06,
          1.2146485642730715e-06,
          8.72529142100017e-07,
          6.221845426610222e-07,
          4.404214578132504e-07,
          3.09476516059005e-07,
          2.1587229292418387e-07,
          1.4947758965005673e-07,
          1.0274607589592973e-07,
          7.010748351292265e-08,
          4.7486863909256424e-08,
          3.192953370344877e-08,
          2.1311873982219622e-08,
          1.4120844779369675e-08,
          9.287732426466156e-09,
          6.064132578918822e-09,
          3.930408196043796e-09,
          2.5288123473102303e-09,
          1.615122732469162e-09,
          1.0240105792636746e-09,
          6.444858215504591e-10,
          4.0265433000299667e-10,
          2.497248067357654e-10,
          1.5374535340126995e-10,
          9.39626979991423e-11,
          5.7007088147307843e-11,
          3.433547752982816e-11,
          2.053351740917981e-11,
          1.219809985504133e-11,
          7.208709905296071e-12,
          4.256880542940579e-12,
          2.5456596055771357e-12,
          1.6004879631477032e-12,
          1.1531828132688657e-12,
          1.0747119395766392e-12,
          1.3422669494456783e-12,
          2.03339559175467e-12,
          3.345891446245076e-12,
          5.6478388042420875e-12,
          9.568713354194396e-12,
          1.615089881976566e-11,
          2.709281517818088e-11,
          4.513192599502148e-11,
          7.464071107182454e-11,
          1.2254466845970462e-10,
          1.997231662351518e-10,
          3.2312768761678026e-10,
          5.189558790515205e-10,
          8.273644477982257e-10,
          1.3094029283861426e-09,
          2.0571206101636792e-09,
          3.208161222663522e-09,
          4.966638985245835e-09,
          7.632713799149065e-09,
          1.1644084263306652e-08,
          1.7633628112882478e-08,
          2.6508673227741908e-08,
          3.955890686038716e-08,
          5.860174508978907e-08,
          8.61760913581736e-08,
          1.2579779002313785e-07,
          1.8229267060059882e-07,
          2.622257761610237e-07,
          3.7444801096704746e-07,
          5.307837919663564e-07,
          7.46885028269334e-07,
          1.0432774760964947e-06,
          1.446624729699243e-06,
          1.9912322387232704e-06,
          2.720808159862845e-06,
          3.6904889056690653e-06,
          4.969124329462692e-06,
          6.641800070163129e-06,
          8.812552354046495e-06,
          1.160720348411653e-05,
          1.5176214714107295e-05,
          1.9697418080324515e-05,
          2.5378451522774343e-05,
          3.245868439459219e-05,
          4.121038603220716e-05,
          5.193886185507412e-05,
          6.498126339621786e-05,
          8.070377493119251e-05,
          9.949689415658718e-05,
          0.00012176856145817133,
          0.00014793495465175468,
          0.0001784088553099101,
          0.00021358560875446415,
          0.00025382684015761277,
          0.0002994422491334785,
          0.0003506699773017621,
          0.0004076562176637068,
          0.00047043489922768807,
          0.000538908421659108,
          0.0006128305187319787,
          0.000691792382493646,
          0.0007752131705772369,
          0.0008623359383521635,
          0.0009522298812152467,
          0.0010437995411713289,
          0.0011358013326893126,
          0.001226867388426775,
          0.0013155363342366147,
          0.0014002901980464842,
          0.001479596265139251,
          0.0015519523408005901,
          0.0016159335971442364,
          0.0016702389879461026,
          0.001713735131990653,
          0.0017454956030957167,
          0.0017648337265394236
         ],
         "yaxis": "y"
        }
       ],
       "layout": {
        "barmode": "overlay",
        "hovermode": "closest",
        "legend": {
         "traceorder": "reversed"
        },
        "template": {
         "data": {
          "bar": [
           {
            "error_x": {
             "color": "#2a3f5f"
            },
            "error_y": {
             "color": "#2a3f5f"
            },
            "marker": {
             "line": {
              "color": "#E5ECF6",
              "width": 0.5
             }
            },
            "type": "bar"
           }
          ],
          "barpolar": [
           {
            "marker": {
             "line": {
              "color": "#E5ECF6",
              "width": 0.5
             }
            },
            "type": "barpolar"
           }
          ],
          "carpet": [
           {
            "aaxis": {
             "endlinecolor": "#2a3f5f",
             "gridcolor": "white",
             "linecolor": "white",
             "minorgridcolor": "white",
             "startlinecolor": "#2a3f5f"
            },
            "baxis": {
             "endlinecolor": "#2a3f5f",
             "gridcolor": "white",
             "linecolor": "white",
             "minorgridcolor": "white",
             "startlinecolor": "#2a3f5f"
            },
            "type": "carpet"
           }
          ],
          "choropleth": [
           {
            "colorbar": {
             "outlinewidth": 0,
             "ticks": ""
            },
            "type": "choropleth"
           }
          ],
          "contour": [
           {
            "colorbar": {
             "outlinewidth": 0,
             "ticks": ""
            },
            "colorscale": [
             [
              0,
              "#0d0887"
             ],
             [
              0.1111111111111111,
              "#46039f"
             ],
             [
              0.2222222222222222,
              "#7201a8"
             ],
             [
              0.3333333333333333,
              "#9c179e"
             ],
             [
              0.4444444444444444,
              "#bd3786"
             ],
             [
              0.5555555555555556,
              "#d8576b"
             ],
             [
              0.6666666666666666,
              "#ed7953"
             ],
             [
              0.7777777777777778,
              "#fb9f3a"
             ],
             [
              0.8888888888888888,
              "#fdca26"
             ],
             [
              1,
              "#f0f921"
             ]
            ],
            "type": "contour"
           }
          ],
          "contourcarpet": [
           {
            "colorbar": {
             "outlinewidth": 0,
             "ticks": ""
            },
            "type": "contourcarpet"
           }
          ],
          "heatmap": [
           {
            "colorbar": {
             "outlinewidth": 0,
             "ticks": ""
            },
            "colorscale": [
             [
              0,
              "#0d0887"
             ],
             [
              0.1111111111111111,
              "#46039f"
             ],
             [
              0.2222222222222222,
              "#7201a8"
             ],
             [
              0.3333333333333333,
              "#9c179e"
             ],
             [
              0.4444444444444444,
              "#bd3786"
             ],
             [
              0.5555555555555556,
              "#d8576b"
             ],
             [
              0.6666666666666666,
              "#ed7953"
             ],
             [
              0.7777777777777778,
              "#fb9f3a"
             ],
             [
              0.8888888888888888,
              "#fdca26"
             ],
             [
              1,
              "#f0f921"
             ]
            ],
            "type": "heatmap"
           }
          ],
          "heatmapgl": [
           {
            "colorbar": {
             "outlinewidth": 0,
             "ticks": ""
            },
            "colorscale": [
             [
              0,
              "#0d0887"
             ],
             [
              0.1111111111111111,
              "#46039f"
             ],
             [
              0.2222222222222222,
              "#7201a8"
             ],
             [
              0.3333333333333333,
              "#9c179e"
             ],
             [
              0.4444444444444444,
              "#bd3786"
             ],
             [
              0.5555555555555556,
              "#d8576b"
             ],
             [
              0.6666666666666666,
              "#ed7953"
             ],
             [
              0.7777777777777778,
              "#fb9f3a"
             ],
             [
              0.8888888888888888,
              "#fdca26"
             ],
             [
              1,
              "#f0f921"
             ]
            ],
            "type": "heatmapgl"
           }
          ],
          "histogram": [
           {
            "marker": {
             "colorbar": {
              "outlinewidth": 0,
              "ticks": ""
             }
            },
            "type": "histogram"
           }
          ],
          "histogram2d": [
           {
            "colorbar": {
             "outlinewidth": 0,
             "ticks": ""
            },
            "colorscale": [
             [
              0,
              "#0d0887"
             ],
             [
              0.1111111111111111,
              "#46039f"
             ],
             [
              0.2222222222222222,
              "#7201a8"
             ],
             [
              0.3333333333333333,
              "#9c179e"
             ],
             [
              0.4444444444444444,
              "#bd3786"
             ],
             [
              0.5555555555555556,
              "#d8576b"
             ],
             [
              0.6666666666666666,
              "#ed7953"
             ],
             [
              0.7777777777777778,
              "#fb9f3a"
             ],
             [
              0.8888888888888888,
              "#fdca26"
             ],
             [
              1,
              "#f0f921"
             ]
            ],
            "type": "histogram2d"
           }
          ],
          "histogram2dcontour": [
           {
            "colorbar": {
             "outlinewidth": 0,
             "ticks": ""
            },
            "colorscale": [
             [
              0,
              "#0d0887"
             ],
             [
              0.1111111111111111,
              "#46039f"
             ],
             [
              0.2222222222222222,
              "#7201a8"
             ],
             [
              0.3333333333333333,
              "#9c179e"
             ],
             [
              0.4444444444444444,
              "#bd3786"
             ],
             [
              0.5555555555555556,
              "#d8576b"
             ],
             [
              0.6666666666666666,
              "#ed7953"
             ],
             [
              0.7777777777777778,
              "#fb9f3a"
             ],
             [
              0.8888888888888888,
              "#fdca26"
             ],
             [
              1,
              "#f0f921"
             ]
            ],
            "type": "histogram2dcontour"
           }
          ],
          "mesh3d": [
           {
            "colorbar": {
             "outlinewidth": 0,
             "ticks": ""
            },
            "type": "mesh3d"
           }
          ],
          "parcoords": [
           {
            "line": {
             "colorbar": {
              "outlinewidth": 0,
              "ticks": ""
             }
            },
            "type": "parcoords"
           }
          ],
          "pie": [
           {
            "automargin": true,
            "type": "pie"
           }
          ],
          "scatter": [
           {
            "marker": {
             "colorbar": {
              "outlinewidth": 0,
              "ticks": ""
             }
            },
            "type": "scatter"
           }
          ],
          "scatter3d": [
           {
            "line": {
             "colorbar": {
              "outlinewidth": 0,
              "ticks": ""
             }
            },
            "marker": {
             "colorbar": {
              "outlinewidth": 0,
              "ticks": ""
             }
            },
            "type": "scatter3d"
           }
          ],
          "scattercarpet": [
           {
            "marker": {
             "colorbar": {
              "outlinewidth": 0,
              "ticks": ""
             }
            },
            "type": "scattercarpet"
           }
          ],
          "scattergeo": [
           {
            "marker": {
             "colorbar": {
              "outlinewidth": 0,
              "ticks": ""
             }
            },
            "type": "scattergeo"
           }
          ],
          "scattergl": [
           {
            "marker": {
             "colorbar": {
              "outlinewidth": 0,
              "ticks": ""
             }
            },
            "type": "scattergl"
           }
          ],
          "scattermapbox": [
           {
            "marker": {
             "colorbar": {
              "outlinewidth": 0,
              "ticks": ""
             }
            },
            "type": "scattermapbox"
           }
          ],
          "scatterpolar": [
           {
            "marker": {
             "colorbar": {
              "outlinewidth": 0,
              "ticks": ""
             }
            },
            "type": "scatterpolar"
           }
          ],
          "scatterpolargl": [
           {
            "marker": {
             "colorbar": {
              "outlinewidth": 0,
              "ticks": ""
             }
            },
            "type": "scatterpolargl"
           }
          ],
          "scatterternary": [
           {
            "marker": {
             "colorbar": {
              "outlinewidth": 0,
              "ticks": ""
             }
            },
            "type": "scatterternary"
           }
          ],
          "surface": [
           {
            "colorbar": {
             "outlinewidth": 0,
             "ticks": ""
            },
            "colorscale": [
             [
              0,
              "#0d0887"
             ],
             [
              0.1111111111111111,
              "#46039f"
             ],
             [
              0.2222222222222222,
              "#7201a8"
             ],
             [
              0.3333333333333333,
              "#9c179e"
             ],
             [
              0.4444444444444444,
              "#bd3786"
             ],
             [
              0.5555555555555556,
              "#d8576b"
             ],
             [
              0.6666666666666666,
              "#ed7953"
             ],
             [
              0.7777777777777778,
              "#fb9f3a"
             ],
             [
              0.8888888888888888,
              "#fdca26"
             ],
             [
              1,
              "#f0f921"
             ]
            ],
            "type": "surface"
           }
          ],
          "table": [
           {
            "cells": {
             "fill": {
              "color": "#EBF0F8"
             },
             "line": {
              "color": "white"
             }
            },
            "header": {
             "fill": {
              "color": "#C8D4E3"
             },
             "line": {
              "color": "white"
             }
            },
            "type": "table"
           }
          ]
         },
         "layout": {
          "annotationdefaults": {
           "arrowcolor": "#2a3f5f",
           "arrowhead": 0,
           "arrowwidth": 1
          },
          "autotypenumbers": "strict",
          "coloraxis": {
           "colorbar": {
            "outlinewidth": 0,
            "ticks": ""
           }
          },
          "colorscale": {
           "diverging": [
            [
             0,
             "#8e0152"
            ],
            [
             0.1,
             "#c51b7d"
            ],
            [
             0.2,
             "#de77ae"
            ],
            [
             0.3,
             "#f1b6da"
            ],
            [
             0.4,
             "#fde0ef"
            ],
            [
             0.5,
             "#f7f7f7"
            ],
            [
             0.6,
             "#e6f5d0"
            ],
            [
             0.7,
             "#b8e186"
            ],
            [
             0.8,
             "#7fbc41"
            ],
            [
             0.9,
             "#4d9221"
            ],
            [
             1,
             "#276419"
            ]
           ],
           "sequential": [
            [
             0,
             "#0d0887"
            ],
            [
             0.1111111111111111,
             "#46039f"
            ],
            [
             0.2222222222222222,
             "#7201a8"
            ],
            [
             0.3333333333333333,
             "#9c179e"
            ],
            [
             0.4444444444444444,
             "#bd3786"
            ],
            [
             0.5555555555555556,
             "#d8576b"
            ],
            [
             0.6666666666666666,
             "#ed7953"
            ],
            [
             0.7777777777777778,
             "#fb9f3a"
            ],
            [
             0.8888888888888888,
             "#fdca26"
            ],
            [
             1,
             "#f0f921"
            ]
           ],
           "sequentialminus": [
            [
             0,
             "#0d0887"
            ],
            [
             0.1111111111111111,
             "#46039f"
            ],
            [
             0.2222222222222222,
             "#7201a8"
            ],
            [
             0.3333333333333333,
             "#9c179e"
            ],
            [
             0.4444444444444444,
             "#bd3786"
            ],
            [
             0.5555555555555556,
             "#d8576b"
            ],
            [
             0.6666666666666666,
             "#ed7953"
            ],
            [
             0.7777777777777778,
             "#fb9f3a"
            ],
            [
             0.8888888888888888,
             "#fdca26"
            ],
            [
             1,
             "#f0f921"
            ]
           ]
          },
          "colorway": [
           "#636efa",
           "#EF553B",
           "#00cc96",
           "#ab63fa",
           "#FFA15A",
           "#19d3f3",
           "#FF6692",
           "#B6E880",
           "#FF97FF",
           "#FECB52"
          ],
          "font": {
           "color": "#2a3f5f"
          },
          "geo": {
           "bgcolor": "white",
           "lakecolor": "white",
           "landcolor": "#E5ECF6",
           "showlakes": true,
           "showland": true,
           "subunitcolor": "white"
          },
          "hoverlabel": {
           "align": "left"
          },
          "hovermode": "closest",
          "mapbox": {
           "style": "light"
          },
          "paper_bgcolor": "white",
          "plot_bgcolor": "#E5ECF6",
          "polar": {
           "angularaxis": {
            "gridcolor": "white",
            "linecolor": "white",
            "ticks": ""
           },
           "bgcolor": "#E5ECF6",
           "radialaxis": {
            "gridcolor": "white",
            "linecolor": "white",
            "ticks": ""
           }
          },
          "scene": {
           "xaxis": {
            "backgroundcolor": "#E5ECF6",
            "gridcolor": "white",
            "gridwidth": 2,
            "linecolor": "white",
            "showbackground": true,
            "ticks": "",
            "zerolinecolor": "white"
           },
           "yaxis": {
            "backgroundcolor": "#E5ECF6",
            "gridcolor": "white",
            "gridwidth": 2,
            "linecolor": "white",
            "showbackground": true,
            "ticks": "",
            "zerolinecolor": "white"
           },
           "zaxis": {
            "backgroundcolor": "#E5ECF6",
            "gridcolor": "white",
            "gridwidth": 2,
            "linecolor": "white",
            "showbackground": true,
            "ticks": "",
            "zerolinecolor": "white"
           }
          },
          "shapedefaults": {
           "line": {
            "color": "#2a3f5f"
           }
          },
          "ternary": {
           "aaxis": {
            "gridcolor": "white",
            "linecolor": "white",
            "ticks": ""
           },
           "baxis": {
            "gridcolor": "white",
            "linecolor": "white",
            "ticks": ""
           },
           "bgcolor": "#E5ECF6",
           "caxis": {
            "gridcolor": "white",
            "linecolor": "white",
            "ticks": ""
           }
          },
          "title": {
           "x": 0.05
          },
          "xaxis": {
           "automargin": true,
           "gridcolor": "white",
           "linecolor": "white",
           "ticks": "",
           "title": {
            "standoff": 15
           },
           "zerolinecolor": "white",
           "zerolinewidth": 2
          },
          "yaxis": {
           "automargin": true,
           "gridcolor": "white",
           "linecolor": "white",
           "ticks": "",
           "title": {
            "standoff": 15
           },
           "zerolinecolor": "white",
           "zerolinewidth": 2
          }
         }
        },
        "xaxis": {
         "anchor": "y2",
         "domain": [
          0,
          1
         ],
         "zeroline": false
        },
        "yaxis": {
         "anchor": "free",
         "domain": [
          0,
          1
         ],
         "position": 0
        }
       }
      },
      "text/html": [
       "<div>                            <div id=\"091d95ab-7ffb-464e-b80c-709891171ccf\" class=\"plotly-graph-div\" style=\"height:525px; width:100%;\"></div>            <script type=\"text/javascript\">                require([\"plotly\"], function(Plotly) {                    window.PLOTLYENV=window.PLOTLYENV || {};                                    if (document.getElementById(\"091d95ab-7ffb-464e-b80c-709891171ccf\")) {                    Plotly.newPlot(                        \"091d95ab-7ffb-464e-b80c-709891171ccf\",                        [{\"legendgroup\": \"2020\", \"marker\": {\"color\": \"#333F44\"}, \"mode\": \"lines\", \"name\": \"2020\", \"showlegend\": true, \"type\": \"scatter\", \"x\": [4.143134726391533, 4.1643472174791345, 4.185559708566737, 4.206772199654339, 4.227984690741941, 4.249197181829544, 4.270409672917146, 4.291622164004748, 4.312834655092351, 4.334047146179953, 4.355259637267555, 4.376472128355157, 4.397684619442759, 4.418897110530362, 4.440109601617964, 4.461322092705566, 4.482534583793169, 4.503747074880771, 4.524959565968373, 4.546172057055975, 4.567384548143577, 4.588597039231179, 4.609809530318782, 4.631022021406384, 4.652234512493987, 4.673447003581589, 4.694659494669191, 4.7158719857567934, 4.737084476844395, 4.758296967931997, 4.7795094590196, 4.800721950107202, 4.821934441194804, 4.843146932282407, 4.864359423370009, 4.885571914457611, 4.9067844055452134, 4.927996896632815, 4.949209387720417, 4.97042187880802, 4.991634369895622, 5.012846860983224, 5.034059352070827, 5.055271843158429, 5.076484334246031, 5.097696825333633, 5.118909316421235, 5.140121807508838, 5.16133429859644, 5.182546789684042, 5.203759280771644, 5.224971771859247, 5.246184262946849, 5.2673967540344515, 5.288609245122053, 5.309821736209656, 5.331034227297258, 5.35224671838486, 5.373459209472463, 5.394671700560065, 5.415884191647667, 5.43709668273527, 5.4583091738228715, 5.479521664910473, 5.500734155998076, 5.521946647085678, 5.54315913817328, 5.564371629260883, 5.585584120348485, 5.606796611436087, 5.62800910252369, 5.6492215936112915, 5.670434084698893, 5.691646575786496, 5.712859066874098, 5.7340715579617, 5.755284049049303, 5.776496540136905, 5.797709031224507, 5.81892152231211, 5.8401340133997115, 5.861346504487313, 5.882558995574916, 5.903771486662518, 5.92498397775012, 5.946196468837723, 5.967408959925325, 5.988621451012928, 6.00983394210053, 6.0310464331881315, 6.052258924275734, 6.073471415363336, 6.094683906450938, 6.115896397538541, 6.137108888626143, 6.158321379713746, 6.179533870801348, 6.20074636188895, 6.221958852976552, 6.243171344064154, 6.264383835151756, 6.285596326239359, 6.306808817326961, 6.328021308414563, 6.349233799502166, 6.370446290589768, 6.39165878167737, 6.412871272764972, 6.434083763852574, 6.455296254940176, 6.476508746027779, 6.497721237115381, 6.518933728202983, 6.540146219290586, 6.561358710378188, 6.58257120146579, 6.603783692553392, 6.624996183640995, 6.646208674728596, 6.667421165816199, 6.688633656903801, 6.709846147991403, 6.731058639079006, 6.7522711301666085, 6.77348362125421, 6.794696112341812, 6.815908603429414, 6.837121094517016, 6.858333585604619, 6.879546076692222, 6.900758567779824, 6.921971058867426, 6.943183549955028, 6.9643960410426295, 6.985608532130232, 7.006821023217835, 7.028033514305437, 7.049246005393039, 7.070458496480642, 7.091670987568243, 7.112883478655846, 7.1340959697434485, 7.15530846083105, 7.176520951918652, 7.197733443006255, 7.218945934093857, 7.240158425181459, 7.261370916269062, 7.282583407356664, 7.303795898444266, 7.3250083895318685, 7.346220880619471, 7.367433371707072, 7.388645862794675, 7.409858353882277, 7.431070844969879, 7.452283336057482, 7.473495827145085, 7.494708318232686, 7.5159208093202885, 7.537133300407891, 7.558345791495492, 7.579558282583095, 7.600770773670698, 7.6219832647583, 7.643195755845902, 7.664408246933505, 7.685620738021107, 7.7068332291087085, 7.728045720196311, 7.749258211283913, 7.770470702371515, 7.791683193459118, 7.81289568454672, 7.834108175634322, 7.855320666721925, 7.876533157809527, 7.8977456488971285, 7.918958139984731, 7.940170631072333, 7.961383122159935, 7.982595613247538, 8.003808104335139, 8.025020595422742, 8.046233086510345, 8.067445577597947, 8.088658068685548, 8.109870559773151, 8.131083050860754, 8.152295541948355, 8.173508033035958, 8.19472052412356, 8.215933015211164, 8.237145506298765, 8.258357997386366, 8.279570488473968, 8.300782979561571, 8.321995470649174, 8.343207961736777, 8.36442045282438, 8.385632943911979, 8.406845434999582, 8.428057926087185, 8.449270417174787, 8.47048290826239, 8.491695399349991, 8.512907890437594, 8.534120381525195, 8.555332872612798, 8.5765453637004, 8.597757854788004, 8.618970345875606, 8.640182836963207, 8.661395328050808, 8.682607819138411, 8.703820310226014, 8.725032801313617, 8.746245292401218, 8.76745778348882, 8.788670274576422, 8.809882765664025, 8.831095256751627, 8.85230774783923, 8.873520238926833, 8.894732730014434, 8.915945221102037, 8.937157712189638, 8.95837020327724, 8.979582694364844, 9.000795185452445, 9.022007676540047, 9.043220167627648, 9.064432658715251, 9.085645149802854, 9.106857640890457, 9.12807013197806, 9.14928262306566, 9.170495114153264, 9.191707605240865, 9.212920096328467, 9.23413258741607, 9.255345078503673, 9.276557569591274, 9.297770060678875, 9.318982551766478, 9.34019504285408, 9.361407533941684, 9.382620025029286, 9.40383251611689, 9.42504500720449, 9.446257498292091, 9.467469989379694, 9.488682480467297, 9.5098949715549, 9.5311074626425, 9.552319953730104, 9.573532444817705, 9.594744935905307, 9.61595742699291, 9.637169918080513, 9.658382409168116, 9.679594900255717, 9.70080739134332, 9.72201988243092, 9.743232373518524, 9.764444864606126, 9.785657355693727, 9.80686984678133, 9.828082337868931, 9.849294828956534, 9.870507320044137, 9.89171981113174, 9.912932302219343, 9.934144793306944, 9.955357284394546, 9.976569775482147, 9.99778226656975, 10.018994757657353, 10.040207248744954, 10.061419739832557, 10.082632230920158, 10.10384472200776, 10.125057213095364, 10.146269704182966, 10.16748219527057, 10.18869468635817, 10.209907177445773, 10.231119668533374, 10.252332159620977, 10.27354465070858, 10.294757141796183, 10.315969632883784, 10.337182123971385, 10.358394615058987, 10.37960710614659, 10.400819597234193, 10.422032088321796, 10.443244579409399, 10.464457070497, 10.4856695615846, 10.506882052672204, 10.528094543759806, 10.54930703484741, 10.57051952593501, 10.591732017022613, 10.612944508110214, 10.634156999197817, 10.65536949028542, 10.676581981373023, 10.697794472460625, 10.719006963548226, 10.74021945463583, 10.76143194572343, 10.782644436811033, 10.803856927898636, 10.825069418986239, 10.84628191007384, 10.86749440116144, 10.888706892249044, 10.909919383336646, 10.93113187442425, 10.952344365511852, 10.973556856599453, 10.994769347687056, 11.015981838774657, 11.03719432986226, 11.058406820949862, 11.079619312037465, 11.100831803125068, 11.122044294212667, 11.14325678530027, 11.164469276387873, 11.185681767475476, 11.206894258563079, 11.228106749650681, 11.249319240738282, 11.270531731825884, 11.291744222913486, 11.31295671400109, 11.334169205088692, 11.355381696176295, 11.376594187263898, 11.397806678351497, 11.4190191694391, 11.440231660526702, 11.461444151614305, 11.482656642701908, 11.50386913378951, 11.525081624877112, 11.546294115964713, 11.567506607052316, 11.588719098139919, 11.609931589227521, 11.631144080315124, 11.652356571402724, 11.673569062490326, 11.69478155357793, 11.715994044665532, 11.737206535753135, 11.758419026840736, 11.779631517928339, 11.80084400901594, 11.822056500103542, 11.843268991191145, 11.864481482278748, 11.885693973366351, 11.906906464453952, 11.928118955541553, 11.949331446629156, 11.970543937716759, 11.991756428804361, 12.012968919891962, 12.034181410979565, 12.055393902067166, 12.07660639315477, 12.097818884242372, 12.119031375329975, 12.140243866417578, 12.161456357505177, 12.18266884859278, 12.203881339680382, 12.225093830767985, 12.246306321855588, 12.267518812943191, 12.288731304030794, 12.309943795118393, 12.331156286205996, 12.352368777293599, 12.373581268381201, 12.394793759468804, 12.416006250556407, 12.43721874164401, 12.45843123273161, 12.479643723819212, 12.500856214906815, 12.522068705994418, 12.54328119708202, 12.564493688169623, 12.585706179257226, 12.606918670344825, 12.628131161432428, 12.649343652520031, 12.67055614360763, 12.691768634695233, 12.712981125782836, 12.734193616870439, 12.755406107958041, 12.776618599045644, 12.797831090133247, 12.819043581220846, 12.84025607230845, 12.861468563396052, 12.882681054483655, 12.903893545571258, 12.92510603665886, 12.946318527746463, 12.967531018834062, 12.988743509921665, 13.009956001009268, 13.031168492096871, 13.052380983184474, 13.073593474272077, 13.09480596535968, 13.116018456447279, 13.137230947534881, 13.158443438622484, 13.179655929710087, 13.200868420797686, 13.222080911885289, 13.243293402972892, 13.264505894060495, 13.285718385148098, 13.3069308762357, 13.328143367323303, 13.349355858410902, 13.370568349498505, 13.391780840586108, 13.41299333167371, 13.434205822761314, 13.455418313848917, 13.47663080493652, 13.497843296024119, 13.519055787111721, 13.540268278199324, 13.561480769286927, 13.58269326037453, 13.603905751462133, 13.625118242549735, 13.646330733637335, 13.667543224724938, 13.68875571581254, 13.70996820690014, 13.731180697987742, 13.752393189075345, 13.773605680162948, 13.79481817125055, 13.816030662338154, 13.837243153425757, 13.858455644513356, 13.879668135600959, 13.900880626688561, 13.922093117776164, 13.943305608863767, 13.96451809995137, 13.985730591038973, 14.006943082126572, 14.028155573214175, 14.049368064301778, 14.07058055538938, 14.091793046476983, 14.113005537564586, 14.134218028652189, 14.155430519739788, 14.17664301082739, 14.197855501914994, 14.219067993002596, 14.2402804840902, 14.261492975177799, 14.282705466265401, 14.303917957353004, 14.325130448440607, 14.34634293952821, 14.367555430615813, 14.388767921703412, 14.409980412791015, 14.431192903878618, 14.45240539496622, 14.473617886053823, 14.494830377141426, 14.516042868229029, 14.537255359316628, 14.55846785040423, 14.579680341491834, 14.600892832579436, 14.62210532366704, 14.643317814754642, 14.664530305842245, 14.685742796929844, 14.706955288017447, 14.72816777910505], \"xaxis\": \"x\", \"y\": [0.014412190133737799, 0.01552974880735432, 0.016608298537774173, 0.017631624995291306, 0.018584840517721267, 0.01945504602719413, 0.02023194165392723, 0.020908352984488707, 0.021480643654682722, 0.02194899079356171, 0.022317507185556362, 0.02259420241356093, 0.022790784060570536, 0.0229223086456258, 0.02300669975583446, 0.02306415730715972, 0.023116486652709687, 0.0231863791462556, 0.02329667671285509, 0.023469652083922318, 0.023726333856313692, 0.024085901763921648, 0.02456517289055942, 0.025178194404189013, 0.02593595313370049, 0.026846207270175476, 0.02791344091527308, 0.029138938299758336, 0.03052097135048034, 0.03205509190745318, 0.03373451822236722, 0.035550604280115534, 0.03749337979988085, 0.0395521482830407, 0.04171612995963632, 0.043975135731660085, 0.046320257044052925, 0.04874455491966691, 0.051243729146900785, 0.05381674589124428, 0.056466399019231166, 0.05919977750362271, 0.062028608862519874, 0.06496944719878966, 0.0680436746203813, 0.07127728719746623, 0.07470044163494549, 0.07834674684987995, 0.08225229576926461, 0.08645444675273091, 0.0909903806192113, 0.09589547748592017, 0.10120157633355033, 0.10693519790851826, 0.11311582655365658, 0.1197543570192244, 0.12685181651170105, 0.13439846871684308, 0.1423733942820383, 0.150744620919171, 0.15946984636822487, 0.16849776032610245, 0.1777699293842024, 0.18722316512313106, 0.19679225346022516, 0.206412887082794, 0.2160246161569206, 0.22557361876857557, 0.2350150940754796, 0.24431509898558404, 0.2534516828874062, 0.2624152225221944, 0.2712079170235773, 0.2798424667809302, 0.2883400236625794, 0.2967275585746902, 0.30503483996817765, 0.3132912492531336, 0.3215226729977746, 0.3297487058150373, 0.3379803723531492, 0.346218533997988, 0.354453089558466, 0.3626630143683007, 0.37081721467133427, 0.37887610982890074, 0.38679379939120073, 0.3945206301144277, 0.40200595296790537, 0.4092008538338217, 0.41606065397620984, 0.4225470057396911, 0.4286294520910988, 0.43428637109679946, 0.4395052830412661, 0.44428255320952825, 0.44862257225174446, 0.45253653420381157, 0.4560409565596539, 0.45915609569588683, 0.4619044044895225, 0.46430915877492807, 0.466393348337997, 0.4681788903990589, 0.46968618344249935, 0.47093398123536895, 0.4719395348342833, 0.4727189272550841, 0.47328751298086696, 0.4736603729617215, 0.4738527042622471, 0.4738800800052314, 0.47375853696548104, 0.4735044719858701, 0.4731343513201451, 0.4726642565381812, 0.47210930500612447, 0.4714829913358458, 0.4707964986628116, 0.4700580260288681, 0.46927217194707355, 0.4684394061109487, 0.4675556528481932, 0.46661200267646424, 0.4655945630673643, 0.46448445654317133, 0.46325797321195294, 0.4618868850018388, 0.4603389290908209, 0.4585784671643844, 0.45656732412886813, 0.45426580405869155, 0.4516338722354472, 0.44863248046962556, 0.4452249993435799, 0.4413787068906206, 0.4370662701429461, 0.43226714565898783, 0.4269688191865854, 0.42116780432127066, 0.4148703261700272, 0.40809262879655955, 0.4008608640860241, 0.39321054343838435, 0.38518556061657366, 0.3768368219603769, 0.3682205466503698, 0.3593963224335502, 0.35042501916029395, 0.34136667210094435, 0.332278448461402, 0.32321280372636146, 0.31421592013289096, 0.30532649911752163, 0.2965749549211812, 0.28798302992178043, 0.27956382599535595, 0.2713222223930951, 0.26325563096726634, 0.255355025230035, 0.24760617119807404, 0.23999098515194367, 0.23248894567287165, 0.2250784935668407, 0.21773836228711413, 0.21044879193109367, 0.20319259065915266, 0.19595601756370495, 0.1887294700353924, 0.1815079662985044, 0.17429142008616277, 0.16708470968046285, 0.1598975481489578, 0.1527441659650656, 0.1456428216129092, 0.13861516039304064, 0.1316854464177413, 0.12487969747800091, 0.1182247566944172, 0.1117473381619547, 0.10547308568902111, 0.09942568381463723, 0.09362605830746185, 0.08809169924328274, 0.08283613367197772, 0.07786856717299086, 0.07319370477858943, 0.06881175244326793, 0.06471859112036085, 0.06090610720365708, 0.05736265613520557, 0.05407363075817783, 0.051022102722803, 0.04818950397827254, 0.04555631599335345, 0.0431027366106746, 0.040809298040757704, 0.03865741408918931, 0.03662983992768485, 0.03471103323368665, 0.032887411037600296, 0.031147501878534045, 0.029481997666356785, 0.027883713804917786, 0.02634746950732677, 0.024869902722658196, 0.023449235626871685, 0.02208500718813644, 0.02077778893105883, 0.019528898786640027, 0.018340125972448173, 0.017213477394464487, 0.016150953321839148, 0.015154357288844044, 0.014225142537616397, 0.01336429500413509, 0.012572250985904336, 0.011848846268000103, 0.011193292619692416, 0.010604177154118875, 0.010079479985765341, 0.009616605832185923, 0.009212425602832329, 0.00886332453479355, 0.008565254033287622, 0.008313785035928773, 0.008104161437557766, 0.007931352878218759, 0.007790106987148757, 0.007675001943021812, 0.007580500882057995, 0.007501010168466309, 0.007430943738083873, 0.0073647955516507515, 0.007297221598692313, 0.007223131877965789, 0.007137791409742921, 0.007036927735904933, 0.0069168407158750975, 0.006774508942152211, 0.006607685995380769, 0.0064149792254303084, 0.0061959039155237115, 0.005950906615625966, 0.005681353082246161, 0.005389478506685063, 0.005078300347099602, 0.004751496842837675, 0.004413256902280823, 0.004068109251283556, 0.0037207402875324876, 0.0033758108578906907, 0.003037782099776952, 0.0027107595942466693, 0.00239836348207503, 0.0021036300755688697, 0.001828948080660552, 0.0015760300627738464, 0.0013459174697288295, 0.0011390155532947708, 0.0009551530431563159, 0.0007936604971759384, 0.0006534608923384023, 0.0005331661887439293, 0.0004311742079280634, 0.0003457611012437744, 0.0002751658155060401, 0.00021766416446248002, 0.0001716312722234509, 0.0001355921767884572, 0.00010826120312724862, 8.857129867874648e-05, 7.569485861623827e-05, 6.905766533494018e-05, 6.834745560287479e-05, 7.351835144307422e-05, 8.479199637902248e-05, 0.00010265577959485543, 0.0001278580586849249, 0.0001613998552535192, 0.00020452213888225526, 0.0002586875680233108, 0.00032555544552806794, 0.00040694868501733335, 0.0005048117734988889, 0.000621159044987508, 0.0007580130278447693, 0.0009173331646536338, 0.0011009357913879985, 0.001310406864291597, 0.0015470095025529392, 0.0018115889432227966, 0.002104477961653598, 0.00242540618578876, 0.002773417024089049, 0.0031467961374781243, 0.0035430155169049946, 0.003958697273620242, 0.004389601189056684, 0.004830639868287115, 0.0052759249420448375, 0.005718847103265713, 0.006152191781370411, 0.006568290902788847, 0.006959209443840277, 0.00731696338503037, 0.0076337633174802496, 0.007902275490068087, 0.008115889735163709, 0.00826898172688035, 0.008357155676253043, 0.008377453097949362, 0.008328513878719034, 0.008210677631151306, 0.008026016201891821, 0.007778292067327236, 0.007472841915988466, 0.00711638961154149, 0.006716797519864197, 0.006282769424440856, 0.005823521543888502, 0.005348440191460685, 0.004866745193648954, 0.004387177276752574, 0.0039177253505135005, 0.0034654062148680672, 0.0030361050395377293, 0.0026344804247303635, 0.002263933362864372, 0.0019266353680166216, 0.0016236077293460493, 0.001354841484055214, 0.0011194463890873453, 0.0009158168834137509, 0.0007418036641791828, 0.0005948808688653203, 0.00047230073843135327, 0.0003712297965498135, 0.0002888627942619614, 0.00022251274796897106, 0.00016967719878124477, 0.00012808225237411698, 9.570698131212662e-05, 7.079139159795652e-05, 5.183141189417065e-05, 3.7564320447839306e-05, 2.6947755873426694e-05, 1.913503994158109e-05, 1.3449043625509107e-05, 9.356310856643686e-06, 6.442662791526137e-06, 4.391069500202987e-06, 2.9622131309923035e-06, 1.9778829075338053e-06, 1.3071354197480345e-06, 8.550155096408587e-07, 5.535523322660363e-07, 3.5470942212112047e-07, 2.2496468500370593e-07, 1.4121536240014241e-07, 8.773523588972827e-08, 5.394973532947285e-08, 3.283420719017095e-08, 1.9778100584627357e-08, 1.1791320444162072e-08, 6.957595698072278e-09, 4.063254018718676e-09, 2.3485835992877608e-09, 1.3435524746349318e-09, 7.6071005575779e-10, 4.26283975402985e-10, 2.3642513505843744e-10, 1.297784497380815e-10, 7.05058848723668e-11, 3.791068159978792e-11, 2.0174876437657007e-11, 1.062607552085683e-11, 5.5392035478445774e-12, 2.857813456278018e-12, 1.459258712280361e-12, 7.374665738049398e-13, 3.68861897272803e-13, 1.8259818742575187e-13, 8.946232032234085e-14, 4.338051637281859e-14, 2.081900590781576e-14, 9.888623298793132e-15, 4.648599429452888e-15, 2.162811885914335e-15, 9.959226206007297e-16, 4.538815983916555e-16, 2.0472439505598107e-16, 9.139166283055661e-17, 4.037880394715593e-17, 1.7656724641173325e-17, 7.641464486839756e-18, 3.2730509069145672e-18, 1.38751784467336e-18, 5.821488014960447e-19, 2.4173471929200063e-19, 9.934677015094701e-20, 4.040909555134937e-20, 1.6267542824345982e-20, 6.482301013497856e-21, 2.5587271707335854e-21, 1.005585901969046e-21, 4.0701949197927845e-22, 2.0456401579449648e-22, 2.049257781912281e-22, 4.054411359732013e-22, 9.887696418573078e-22, 2.479654343105832e-21, 6.189863379023208e-21, 1.5305237086289047e-20, 3.7459147007088217e-20, 9.073804600320761e-20, 2.175344902415277e-19, 5.161465593103836e-19, 1.2120597263395848e-18, 2.8169624464595492e-18, 6.479539516951457e-18, 1.4750721963112828e-17, 3.323444723767785e-17, 7.410878469498882e-17, 1.6355241883768176e-16, 3.572319548710922e-16, 7.7223534897052e-16, 1.6521714132104285e-15, 3.498376750261152e-15, 7.331352498534176e-15, 1.5205743951534237e-14, 3.121312802119083e-14, 6.34122207383667e-14, 1.2750131985121102e-13, 2.5372452423248074e-13, 4.997079534353891e-13, 9.740385049304105e-13, 1.879066013789887e-12, 3.5876824693746206e-12, 6.779411691416306e-12, 1.2678739128410238e-11, 2.346746467683159e-11, 4.29894934893492e-11, 7.794074132028896e-11, 1.3985332135177744e-10, 2.483631080658697e-10, 4.365233062640502e-10, 7.59335727634764e-10, 1.307272970055868e-09, 2.2274336551335432e-09, 3.756205304571377e-09, 6.269023743012453e-09, 1.0355153863349892e-08, 1.69285299629574e-08, 2.7389744776860086e-08, 4.3859408759448715e-08, 6.950941109795379e-08, 1.0902610419735253e-07, 1.6924795396469463e-07, 2.6002937326263276e-07, 3.9539160115272314e-07, 5.95029529704775e-07, 8.862487731961632e-07, 1.3064079768961e-06, 1.905934838909361e-06, 2.7519676378027944e-06, 3.93264409839193e-06, 5.5620132081923e-06, 7.78548075496771e-06, 1.0785614751374891e-05, 1.4788033327900836e-05, 2.0066978538651364e-05, 2.6950051556936154e-05, 3.582145838476935e-05, 4.712300469924947e-05, 6.135200138515016e-05, 7.905521847694038e-05, 0.0001008180749203934, 0.0001272483930029698, 0.0001589542927146981, 0.00019651615766831893, 0.00024045306422801796, 0.000291184609239398, 0.0003489896645421598, 0.00041396417946979824, 0.0004859806855338887, 0.0005646525636005008, 0.0006493063464635576, 0.0007389652906191719, 0.0008323471191979314, 0.0009278781975456046, 0.0010237254692551231, 0.0011178463031913761, 0.0012080550640688507, 0.001292103831002381, 0.0013677733786755216, 0.0014329694376699236, 0.0014858184870533908, 0.0015247570009964992, 0.0015486082307476802], \"yaxis\": \"y\"}, {\"legendgroup\": \"2019\", \"marker\": {\"color\": \"#37AA9C\"}, \"mode\": \"lines\", \"name\": \"2019\", \"showlegend\": true, \"type\": \"scatter\", \"x\": [4.110873864173311, 4.126579812857771, 4.14228576154223, 4.157991710226691, 4.17369765891115, 4.18940360759561, 4.205109556280069, 4.22081550496453, 4.236521453648989, 4.252227402333449, 4.267933351017908, 4.283639299702369, 4.299345248386828, 4.315051197071288, 4.330757145755747, 4.346463094440208, 4.362169043124667, 4.377874991809127, 4.393580940493586, 4.409286889178046, 4.424992837862506, 4.440698786546966, 4.456404735231425, 4.472110683915885, 4.487816632600345, 4.5035225812848045, 4.519228529969264, 4.534934478653724, 4.550640427338184, 4.5663463760226435, 4.582052324707103, 4.5977582733915625, 4.613464222076022, 4.629170170760482, 4.644876119444942, 4.6605820681294015, 4.676288016813862, 4.691993965498321, 4.707699914182781, 4.72340586286724, 4.7391118115517, 4.75481776023616, 4.77052370892062, 4.786229657605079, 4.801935606289539, 4.817641554973999, 4.833347503658459, 4.849053452342918, 4.864759401027378, 4.880465349711837, 4.896171298396298, 4.911877247080757, 4.927583195765217, 4.943289144449676, 4.958995093134137, 4.974701041818596, 4.990406990503056, 5.006112939187515, 5.021818887871976, 5.037524836556435, 5.053230785240895, 5.068936733925354, 5.084642682609815, 5.100348631294274, 5.116054579978734, 5.131760528663193, 5.147466477347653, 5.163172426032113, 5.1788783747165725, 5.194584323401032, 5.2102902720854924, 5.225996220769952, 5.2417021694544115, 5.257408118138871, 5.2731140668233305, 5.28882001550779, 5.30452596419225, 5.32023191287671, 5.3359378615611694, 5.35164381024563, 5.367349758930089, 5.383055707614549, 5.398761656299008, 5.414467604983468, 5.430173553667927, 5.445879502352388, 5.461585451036847, 5.477291399721308, 5.492997348405767, 5.508703297090227, 5.524409245774686, 5.540115194459146, 5.555821143143606, 5.571527091828066, 5.587233040512525, 5.602938989196985, 5.618644937881445, 5.634350886565905, 5.650056835250364, 5.665762783934824, 5.681468732619283, 5.697174681303743, 5.712880629988203, 5.728586578672663, 5.744292527357122, 5.7599984760415825, 5.775704424726042, 5.791410373410502, 5.807116322094961, 5.822822270779421, 5.838528219463881, 5.8542341681483405, 5.8699401168328, 5.88564606551726, 5.90135201420172, 5.9170579628861795, 5.932763911570639, 5.9484698602550985, 5.964175808939559, 5.979881757624018, 5.995587706308478, 6.011293654992937, 6.026999603677398, 6.042705552361857, 6.058411501046317, 6.074117449730776, 6.089823398415236, 6.105529347099695, 6.121235295784156, 6.136941244468616, 6.152647193153076, 6.168353141837535, 6.184059090521995, 6.199765039206454, 6.215470987890914, 6.231176936575373, 6.246882885259834, 6.262588833944293, 6.278294782628753, 6.294000731313213, 6.309706679997673, 6.325412628682132, 6.341118577366592, 6.356824526051051, 6.372530474735512, 6.388236423419971, 6.403942372104431, 6.419648320788891, 6.4353542694733505, 6.45106021815781, 6.46676616684227, 6.482472115526729, 6.498178064211189, 6.513884012895648, 6.529589961580109, 6.545295910264569, 6.561001858949028, 6.576707807633488, 6.5924137563179475, 6.608119705002407, 6.6238256536868665, 6.639531602371326, 6.655237551055786, 6.670943499740246, 6.686649448424706, 6.702355397109166, 6.718061345793625, 6.733767294478085, 6.749473243162544, 6.765179191847005, 6.780885140531464, 6.796591089215924, 6.812297037900383, 6.828002986584844, 6.843708935269303, 6.859414883953763, 6.875120832638222, 6.890826781322682, 6.906532730007141, 6.922238678691602, 6.937944627376062, 6.953650576060522, 6.969356524744981, 6.985062473429441, 7.0007684221139, 7.01647437079836, 7.032180319482819, 7.047886268167279, 7.063592216851739, 7.0792981655361995, 7.095004114220659, 7.1107100629051185, 7.126416011589578, 7.142121960274038, 7.157827908958497, 7.1735338576429575, 7.189239806327417, 7.2049457550118765, 7.220651703696336, 7.236357652380796, 7.252063601065256, 7.2677695497497155, 7.283475498434175, 7.2991814471186345, 7.314887395803094, 7.330593344487554, 7.346299293172015, 7.362005241856474, 7.377711190540934, 7.393417139225393, 7.409123087909853, 7.424829036594312, 7.440534985278772, 7.456240933963231, 7.471946882647692, 7.487652831332152, 7.503358780016612, 7.519064728701071, 7.534770677385531, 7.55047662606999, 7.56618257475445, 7.58188852343891, 7.59759447212337, 7.613300420807829, 7.629006369492289, 7.644712318176749, 7.660418266861209, 7.676124215545668, 7.691830164230128, 7.707536112914587, 7.723242061599048, 7.738948010283507, 7.7546539589679675, 7.770359907652427, 7.7860658563368865, 7.801771805021346, 7.8174777537058056, 7.833183702390265, 7.848889651074725, 7.864595599759184, 7.880301548443645, 7.896007497128105, 7.911713445812564, 7.927419394497024, 7.9431253431814834, 7.958831291865943, 7.9745372405504025, 7.990243189234863, 8.005949137919323, 8.021655086603783, 8.037361035288242, 8.053066983972702, 8.068772932657161, 8.08447888134162, 8.10018483002608, 8.11589077871054, 8.131596727395, 8.147302676079459, 8.16300862476392, 8.17871457344838, 8.19442052213284, 8.210126470817299, 8.225832419501758, 8.24153836818622, 8.257244316870679, 8.272950265555139, 8.288656214239598, 8.304362162924058, 8.320068111608517, 8.335774060292977, 8.351480008977436, 8.367185957661896, 8.382891906346355, 8.398597855030815, 8.414303803715274, 8.430009752399735, 8.445715701084193, 8.461421649768655, 8.477127598453114, 8.492833547137574, 8.508539495822035, 8.524245444506493, 8.539951393190954, 8.555657341875413, 8.571363290559873, 8.587069239244332, 8.602775187928792, 8.618481136613251, 8.634187085297711, 8.64989303398217, 8.66559898266663, 8.68130493135109, 8.697010880035549, 8.71271682872001, 8.72842277740447, 8.74412872608893, 8.759834674773389, 8.77554062345785, 8.79124657214231, 8.80695252082677, 8.822658469511229, 8.838364418195688, 8.854070366880148, 8.869776315564607, 8.885482264249067, 8.901188212933526, 8.916894161617986, 8.932600110302445, 8.948306058986907, 8.964012007671364, 8.979717956355826, 8.995423905040283, 9.011129853724745, 9.026835802409206, 9.042541751093664, 9.058247699778125, 9.073953648462584, 9.089659597147044, 9.105365545831503, 9.121071494515963, 9.136777443200423, 9.152483391884882, 9.168189340569342, 9.183895289253801, 9.19960123793826, 9.21530718662272, 9.23101313530718, 9.24671908399164, 9.2624250326761, 9.27813098136056, 9.29383693004502, 9.309542878729479, 9.32524882741394, 9.3409547760984, 9.35666072478286, 9.372366673467319, 9.388072622151778, 9.403778570836238, 9.419484519520697, 9.435190468205157, 9.450896416889616, 9.466602365574076, 9.482308314258535, 9.498014262942997, 9.513720211627454, 9.529426160311916, 9.545132108996375, 9.560838057680835, 9.576544006365296, 9.592249955049756, 9.607955903734215, 9.623661852418675, 9.639367801103134, 9.655073749787594, 9.670779698472053, 9.686485647156513, 9.702191595840972, 9.717897544525432, 9.733603493209891, 9.74930944189435, 9.765015390578812, 9.78072133926327, 9.796427287947731, 9.81213323663219, 9.82783918531665, 9.843545134001111, 9.859251082685569, 9.87495703137003, 9.89066298005449, 9.90636892873895, 9.922074877423409, 9.937780826107868, 9.953486774792328, 9.969192723476787, 9.984898672161247, 10.000604620845706, 10.016310569530166, 10.032016518214625, 10.047722466899087, 10.063428415583546, 10.079134364268006, 10.094840312952465, 10.110546261636925, 10.126252210321386, 10.141958159005846, 10.157664107690305, 10.173370056374765, 10.189076005059224, 10.204781953743684, 10.220487902428143, 10.236193851112603, 10.251899799797062, 10.267605748481522, 10.283311697165981, 10.29901764585044, 10.314723594534902, 10.33042954321936, 10.346135491903821, 10.361841440588282, 10.37754738927274, 10.393253337957201, 10.408959286641661, 10.42466523532612, 10.44037118401058, 10.45607713269504, 10.471783081379499, 10.487489030063958, 10.503194978748418, 10.518900927432878, 10.534606876117337, 10.550312824801797, 10.566018773486256, 10.581724722170717, 10.597430670855175, 10.613136619539636, 10.628842568224096, 10.644548516908555, 10.660254465593017, 10.675960414277474, 10.691666362961936, 10.707372311646395, 10.723078260330855, 10.738784209015314, 10.754490157699774, 10.770196106384233, 10.785902055068693, 10.801608003753152, 10.817313952437612, 10.833019901122071, 10.84872584980653, 10.864431798490992, 10.880137747175452, 10.895843695859911, 10.91154964454437, 10.92725559322883, 10.942961541913292, 10.958667490597751, 10.97437343928221, 10.99007938796667, 11.00578533665113, 11.021491285335589, 11.037197234020049, 11.052903182704508, 11.068609131388968, 11.084315080073427, 11.100021028757887, 11.115726977442346, 11.131432926126807, 11.147138874811265, 11.162844823495726, 11.178550772180188, 11.194256720864646, 11.209962669549107, 11.225668618233566, 11.241374566918026, 11.257080515602485, 11.272786464286945, 11.288492412971404, 11.304198361655864, 11.319904310340323, 11.335610259024783, 11.351316207709242, 11.367022156393702, 11.382728105078161, 11.398434053762623, 11.414140002447082, 11.429845951131542, 11.445551899816001, 11.46125784850046, 11.476963797184922, 11.492669745869382, 11.508375694553841, 11.5240816432383, 11.53978759192276, 11.55549354060722, 11.57119948929168, 11.586905437976139, 11.602611386660598, 11.618317335345058, 11.634023284029517, 11.649729232713979, 11.665435181398436, 11.681141130082898, 11.696847078767357, 11.712553027451817, 11.728258976136278, 11.743964924820736, 11.759670873505197, 11.775376822189656, 11.791082770874116, 11.806788719558575, 11.822494668243035, 11.838200616927494, 11.853906565611954, 11.869612514296414, 11.885318462980873, 11.901024411665333, 11.916730360349792, 11.932436309034252, 11.948142257718713], \"xaxis\": \"x\", \"y\": [0.010351291711533855, 0.011049175649633074, 0.011746749591105462, 0.012439524457816558, 0.01312305057041891, 0.01379301047711536, 0.014445318049514528, 0.015076222714675123, 0.015682417205513284, 0.01626114664698198, 0.016810316190854758, 0.017328593818133276, 0.01781550440464712, 0.018271510756079867, 0.01869807712557506, 0.019097710784565534, 0.019473977566017632, 0.01983148796034311, 0.020175851316378182, 0.020513596956739398, 0.02085206250737702, 0.02119925139153124, 0.021563663156577366, 0.02195410198421365, 0.022379470270944342, 0.022848555450539806, 0.02336981916748032, 0.023951198422302727, 0.024599928341656384, 0.02532239575042383, 0.026124031742489437, 0.027009249991877215, 0.027981435675526488, 0.02904298767506259, 0.030195414288482617, 0.03143948012781636, 0.032775399326836624, 0.03420306775636102, 0.03572232476190491, 0.037333233108389006, 0.039036364434640834, 0.040833076664514065, 0.04272576954916786, 0.0447181048610194, 0.04681517873385913, 0.04902363522901434, 0.051351712360602805, 0.05380921446304761, 0.05640740783421571, 0.05915883991689007, 0.06207708574840706, 0.06517642885631915, 0.0684714870410387, 0.07197679639754884, 0.07570636932816364, 0.07967324404484359, 0.0838890440372591, 0.08836356611143124, 0.09310441484579082, 0.09811669967672029, 0.10340280837366399, 0.10896226750271036, 0.11479169675893591, 0.12088485995904653, 0.12723281123862146, 0.13382413081496952, 0.14064524077554577, 0.1476807879323968, 0.1549140780116388, 0.1623275434461851, 0.1699032258808026, 0.17762325419765046, 0.18547029939139673, 0.1934279888830883, 0.20148126474286993, 0.2096166726526107, 0.21782257113265208, 0.22608925344160644, 0.23440897751406217, 0.24277590223679038, 0.25118593122206684, 0.25963646799197165, 0.268126089141751, 0.2766541446212937, 0.285220296781671, 0.2938240122864983, 0.302464023366932, 0.31113777714871155, 0.31984089380023595, 0.3285666558995295, 0.33730555251561933, 0.34604490184453324, 0.35476857562685915, 0.3634568468189953, 0.37208637895714225, 0.3806303712773079, 0.38905886796539985, 0.39733923304679686, 0.4054367846377522, 0.41331557393572316, 0.4209392858821327, 0.42827223041897244, 0.43528038624372145, 0.44193245350086324, 0.44820086843296203, 0.4540627320490885, 0.45950060660939135, 0.4645031382519459, 0.46906547128516185, 0.4731894292180754, 0.4768834489938089, 0.48016226745979906, 0.48304637206705503, 0.4855612402953938, 0.48773640351317565, 0.4896043801321155, 0.49119952937913997, 0.49255688033669437, 0.49371099088644776, 0.49469488786303784, 0.49553913336406896, 0.4962710532728912, 0.49691415331534144, 0.49748773619662046, 0.49800672141016344, 0.4984816580195865, 0.49891891084284123, 0.49932099262422003, 0.49968700938205857, 0.5000131833678452, 0.5002934179424988, 0.5005198709351009, 0.5006835072903725, 0.5007746074963583, 0.5007832148042779, 0.5006995109862133, 0.5005141167463493, 0.5002183184245915, 0.49980422695503385, 0.4992648779662839, 0.4985942833940251, 0.49778744512418593, 0.4968403402260418, 0.4957498855848572, 0.4945138875661178, 0.4931309801036061, 0.49160055263038366, 0.4899226678229323, 0.488097968368253, 0.48612757195018086, 0.48401295433897645, 0.48175582172078385, 0.4793579750157059, 0.47682117066056173, 0.47414698392338783, 0.4713366820431346, 0.4683911151717534, 0.46531063312704585, 0.4620950353108306, 0.45874355985248877, 0.4552549162127967, 0.45162736328585024, 0.4478588326519934, 0.44394709424774054, 0.43988995949556475, 0.4356855150051159, 0.4313323783988197, 0.4268299666600541, 0.42217876663909965, 0.4173805969373206, 0.4124388502655645, 0.4073587054838609, 0.40214729884037653, 0.3968138444330924, 0.3913696946473912, 0.38582833233832964, 0.38020528791015734, 0.374517976284496, 0.36878545111238586, 0.3630280765060043, 0.3572671200181149, 0.351524274485318, 0.3458211205039124, 0.34017854548250054, 0.3346161391149687, 0.32915158841012754, 0.32380009776688845, 0.31857386069530946, 0.3134816094192225, 0.3085282666175904, 0.30371471995055777, 0.29903773488641805, 0.29449001494334004, 0.2900604111509846, 0.2857342747831526, 0.28149393973440306, 0.27731931385052405, 0.27318855258666547, 0.26907878399826435, 0.2649668515988014, 0.2608300412346492, 0.25664675986251373, 0.25239713783880874, 0.24806353175997517, 0.24363091161713324, 0.23908712354206704, 0.23442302716767136, 0.22963251404249843, 0.22471242010511747, 0.219662350501063, 0.21448443869072414, 0.20918306366604364, 0.20376454913061998, 0.19823686680885508, 0.19260936287072786, 0.1868925221269971, 0.18109777957144638, 0.17523738345934325, 0.16932430884585423, 0.1633722157545734, 0.15739544222581525, 0.15140901963833525, 0.14542869603849065, 0.1394709527777962, 0.13355300049024346, 0.12769274219237442, 0.12190869386059511, 0.11621985599346958, 0.11064553314957414, 0.10520510201832886, 0.09991773201026989, 0.09480206545884776, 0.08987586716561649, 0.08515565509775766, 0.08065632550728252, 0.07639078656876314, 0.07236961484030754, 0.06860074847571324, 0.06508923020256425, 0.06183701168705185, 0.0588428290897433, 0.056102157436492085, 0.05360724894514442, 0.05134725772446081, 0.049308450365007674, 0.04747449894961923, 0.04582685001098277, 0.04434516005520749, 0.04300778556260151, 0.041792312987140263, 0.04067611232285644, 0.03963689640172893, 0.03865326733299961, 0.0377052314652413, 0.036774664996596394, 0.03584571388513411, 0.03490511398865467, 0.03394242031711906, 0.03295013779554202, 0.0319237498584721, 0.030861645347966035, 0.02976494836514424, 0.02863725972353393, 0.027484322268078867, 0.026313625371891806, 0.025133966247230362, 0.023954987189730634, 0.022786708442983906, 0.021639076001202778, 0.020521542389077906, 0.019442696347214024, 0.01840995453037956, 0.017429324952883185, 0.01650524817702381, 0.015640518339812053, 0.01483628225810195, 0.014092111244101023, 0.013406137084925137, 0.012775241046042371, 0.012195282866904118, 0.011661355602682147, 0.011168051857163134, 0.010709727429630347, 0.010280749599039532, 0.009875719087819156, 0.009489657048304567, 0.00911815103679128, 0.008757456710526692, 0.008404554727493881, 0.008057164883578487, 0.007713721743204309, 0.00737331779364237, 0.007035621401607124, 0.0067007775346349645, 0.006369299330578959, 0.006041958195890812, 0.005719679259856552, 0.00540344780613058, 0.005094230860323747, 0.004792916555884153, 0.004500272350479977, 0.0042169217305593155, 0.003943337812868494, 0.00367985129428707, 0.0034266695538465093, 0.0031839033837521608, 0.0029515978039992177, 0.0027297636598375735, 0.0025184071580867215, 0.0023175551017902423, 0.0021272742637350483, 0.0019476840312609351, 0.0017789620988676988, 0.0016213435349638275, 0.0014751139731660453, 0.001340597961318517, 0.0012181436427461862, 0.0011081049576309725, 0.0010108224618323002, 0.00092660369693231, 0.0008557038427743109, 0.0007983071754933361, 0.0007545096690816916, 0.0007243029391703368, 0.0007075596476780994, 0.0007040204707107263, 0.0007132827748925225, 0.0007347912364672984, 0.0007678307540791807, 0.0008115221273289702, 0.0008648210749454971, 0.0009265212260970233, 0.000995261717300367, 0.0010695399528716863, 0.0011477299337060783, 0.001228106330450852, 0.0013088741842032336, 0.0013882037795550893, 0.001464269875939302, 0.0015352941324869407, 0.0015995892490105778, 0.0016556030999534063, 0.0017019609838306413, 0.0017375040661108331, 0.0017613221687110068, 0.001772779255063472, 0.0017715302671905354, 0.001757528372485941, 0.0017310221473688383, 0.0016925427314767106, 0.0016428814954017245, 0.0015830592427578708, 0.0015142883818166407, 0.001437929826444961, 0.0013554466011892953, 0.0012683562201864496, 0.0011781838823710729, 0.001086418383294638, 0.0009944724017636013, 0.0009036484987208624, 0.0008151117918476775, 0.000729869869734179, 0.0006487601113346435, 0.0005724442045982116, 0.000501409333392799, 0.00043597523960534843, 0.00037630617717831474, 0.0003224266604059284, 0.0002742398680503893, 0.00023154759096458255, 0.0001940706934864052, 0.00016146918506159048, 0.00013336115440958915, 0.00010933999020025409, 8.898948687544306e-05, 7.189660099937965e-05, 5.7661773771523785e-05, 4.590686307600962e-05, 3.628083021799546e-05, 2.846340119594358e-05, 2.2166970847203097e-05, 1.7137042884975074e-05, 1.3151503177298081e-05, 1.0019011656833534e-05, 7.576774228298125e-06, 5.687924035433217e-06, 4.238705128912883e-06, 3.135614034745299e-06, 2.3026183981788246e-06, 1.6785385411171436e-06, 1.2146485642730715e-06, 8.72529142100017e-07, 6.221845426610222e-07, 4.404214578132504e-07, 3.09476516059005e-07, 2.1587229292418387e-07, 1.4947758965005673e-07, 1.0274607589592973e-07, 7.010748351292265e-08, 4.7486863909256424e-08, 3.192953370344877e-08, 2.1311873982219622e-08, 1.4120844779369675e-08, 9.287732426466156e-09, 6.064132578918822e-09, 3.930408196043796e-09, 2.5288123473102303e-09, 1.615122732469162e-09, 1.0240105792636746e-09, 6.444858215504591e-10, 4.0265433000299667e-10, 2.497248067357654e-10, 1.5374535340126995e-10, 9.39626979991423e-11, 5.7007088147307843e-11, 3.433547752982816e-11, 2.053351740917981e-11, 1.219809985504133e-11, 7.208709905296071e-12, 4.256880542940579e-12, 2.5456596055771357e-12, 1.6004879631477032e-12, 1.1531828132688657e-12, 1.0747119395766392e-12, 1.3422669494456783e-12, 2.03339559175467e-12, 3.345891446245076e-12, 5.6478388042420875e-12, 9.568713354194396e-12, 1.615089881976566e-11, 2.709281517818088e-11, 4.513192599502148e-11, 7.464071107182454e-11, 1.2254466845970462e-10, 1.997231662351518e-10, 3.2312768761678026e-10, 5.189558790515205e-10, 8.273644477982257e-10, 1.3094029283861426e-09, 2.0571206101636792e-09, 3.208161222663522e-09, 4.966638985245835e-09, 7.632713799149065e-09, 1.1644084263306652e-08, 1.7633628112882478e-08, 2.6508673227741908e-08, 3.955890686038716e-08, 5.860174508978907e-08, 8.61760913581736e-08, 1.2579779002313785e-07, 1.8229267060059882e-07, 2.622257761610237e-07, 3.7444801096704746e-07, 5.307837919663564e-07, 7.46885028269334e-07, 1.0432774760964947e-06, 1.446624729699243e-06, 1.9912322387232704e-06, 2.720808159862845e-06, 3.6904889056690653e-06, 4.969124329462692e-06, 6.641800070163129e-06, 8.812552354046495e-06, 1.160720348411653e-05, 1.5176214714107295e-05, 1.9697418080324515e-05, 2.5378451522774343e-05, 3.245868439459219e-05, 4.121038603220716e-05, 5.193886185507412e-05, 6.498126339621786e-05, 8.070377493119251e-05, 9.949689415658718e-05, 0.00012176856145817133, 0.00014793495465175468, 0.0001784088553099101, 0.00021358560875446415, 0.00025382684015761277, 0.0002994422491334785, 0.0003506699773017621, 0.0004076562176637068, 0.00047043489922768807, 0.000538908421659108, 0.0006128305187319787, 0.000691792382493646, 0.0007752131705772369, 0.0008623359383521635, 0.0009522298812152467, 0.0010437995411713289, 0.0011358013326893126, 0.001226867388426775, 0.0013155363342366147, 0.0014002901980464842, 0.001479596265139251, 0.0015519523408005901, 0.0016159335971442364, 0.0016702389879461026, 0.001713735131990653, 0.0017454956030957167, 0.0017648337265394236], \"yaxis\": \"y\"}],                        {\"barmode\": \"overlay\", \"hovermode\": \"closest\", \"legend\": {\"traceorder\": \"reversed\"}, \"template\": {\"data\": {\"bar\": [{\"error_x\": {\"color\": \"#2a3f5f\"}, \"error_y\": {\"color\": \"#2a3f5f\"}, \"marker\": {\"line\": {\"color\": \"#E5ECF6\", \"width\": 0.5}}, \"type\": \"bar\"}], \"barpolar\": [{\"marker\": {\"line\": {\"color\": \"#E5ECF6\", \"width\": 0.5}}, \"type\": \"barpolar\"}], \"carpet\": [{\"aaxis\": {\"endlinecolor\": \"#2a3f5f\", \"gridcolor\": \"white\", \"linecolor\": \"white\", \"minorgridcolor\": \"white\", \"startlinecolor\": \"#2a3f5f\"}, \"baxis\": {\"endlinecolor\": \"#2a3f5f\", \"gridcolor\": \"white\", \"linecolor\": \"white\", \"minorgridcolor\": \"white\", \"startlinecolor\": \"#2a3f5f\"}, \"type\": \"carpet\"}], \"choropleth\": [{\"colorbar\": {\"outlinewidth\": 0, \"ticks\": \"\"}, \"type\": \"choropleth\"}], \"contour\": [{\"colorbar\": {\"outlinewidth\": 0, \"ticks\": \"\"}, \"colorscale\": [[0.0, \"#0d0887\"], [0.1111111111111111, \"#46039f\"], [0.2222222222222222, \"#7201a8\"], [0.3333333333333333, \"#9c179e\"], [0.4444444444444444, \"#bd3786\"], [0.5555555555555556, \"#d8576b\"], [0.6666666666666666, \"#ed7953\"], [0.7777777777777778, \"#fb9f3a\"], [0.8888888888888888, \"#fdca26\"], [1.0, \"#f0f921\"]], \"type\": \"contour\"}], \"contourcarpet\": [{\"colorbar\": {\"outlinewidth\": 0, \"ticks\": \"\"}, \"type\": \"contourcarpet\"}], \"heatmap\": [{\"colorbar\": {\"outlinewidth\": 0, \"ticks\": \"\"}, \"colorscale\": [[0.0, \"#0d0887\"], [0.1111111111111111, \"#46039f\"], [0.2222222222222222, \"#7201a8\"], [0.3333333333333333, \"#9c179e\"], [0.4444444444444444, \"#bd3786\"], [0.5555555555555556, \"#d8576b\"], [0.6666666666666666, \"#ed7953\"], [0.7777777777777778, \"#fb9f3a\"], [0.8888888888888888, \"#fdca26\"], [1.0, \"#f0f921\"]], \"type\": \"heatmap\"}], \"heatmapgl\": [{\"colorbar\": {\"outlinewidth\": 0, \"ticks\": \"\"}, \"colorscale\": [[0.0, \"#0d0887\"], [0.1111111111111111, \"#46039f\"], [0.2222222222222222, \"#7201a8\"], [0.3333333333333333, \"#9c179e\"], [0.4444444444444444, \"#bd3786\"], [0.5555555555555556, \"#d8576b\"], [0.6666666666666666, \"#ed7953\"], [0.7777777777777778, \"#fb9f3a\"], [0.8888888888888888, \"#fdca26\"], [1.0, \"#f0f921\"]], \"type\": \"heatmapgl\"}], \"histogram\": [{\"marker\": {\"colorbar\": {\"outlinewidth\": 0, \"ticks\": \"\"}}, \"type\": \"histogram\"}], \"histogram2d\": [{\"colorbar\": {\"outlinewidth\": 0, \"ticks\": \"\"}, \"colorscale\": [[0.0, \"#0d0887\"], [0.1111111111111111, \"#46039f\"], [0.2222222222222222, \"#7201a8\"], [0.3333333333333333, \"#9c179e\"], [0.4444444444444444, \"#bd3786\"], [0.5555555555555556, \"#d8576b\"], [0.6666666666666666, \"#ed7953\"], [0.7777777777777778, \"#fb9f3a\"], [0.8888888888888888, \"#fdca26\"], [1.0, \"#f0f921\"]], \"type\": \"histogram2d\"}], \"histogram2dcontour\": [{\"colorbar\": {\"outlinewidth\": 0, \"ticks\": \"\"}, \"colorscale\": [[0.0, \"#0d0887\"], [0.1111111111111111, \"#46039f\"], [0.2222222222222222, \"#7201a8\"], [0.3333333333333333, \"#9c179e\"], [0.4444444444444444, \"#bd3786\"], [0.5555555555555556, \"#d8576b\"], [0.6666666666666666, \"#ed7953\"], [0.7777777777777778, \"#fb9f3a\"], [0.8888888888888888, \"#fdca26\"], [1.0, \"#f0f921\"]], \"type\": \"histogram2dcontour\"}], \"mesh3d\": [{\"colorbar\": {\"outlinewidth\": 0, \"ticks\": \"\"}, \"type\": \"mesh3d\"}], \"parcoords\": [{\"line\": {\"colorbar\": {\"outlinewidth\": 0, \"ticks\": \"\"}}, \"type\": \"parcoords\"}], \"pie\": [{\"automargin\": true, \"type\": \"pie\"}], \"scatter\": [{\"marker\": {\"colorbar\": {\"outlinewidth\": 0, \"ticks\": \"\"}}, \"type\": \"scatter\"}], \"scatter3d\": [{\"line\": {\"colorbar\": {\"outlinewidth\": 0, \"ticks\": \"\"}}, \"marker\": {\"colorbar\": {\"outlinewidth\": 0, \"ticks\": \"\"}}, \"type\": \"scatter3d\"}], \"scattercarpet\": [{\"marker\": {\"colorbar\": {\"outlinewidth\": 0, \"ticks\": \"\"}}, \"type\": \"scattercarpet\"}], \"scattergeo\": [{\"marker\": {\"colorbar\": {\"outlinewidth\": 0, \"ticks\": \"\"}}, \"type\": \"scattergeo\"}], \"scattergl\": [{\"marker\": {\"colorbar\": {\"outlinewidth\": 0, \"ticks\": \"\"}}, \"type\": \"scattergl\"}], \"scattermapbox\": [{\"marker\": {\"colorbar\": {\"outlinewidth\": 0, \"ticks\": \"\"}}, \"type\": \"scattermapbox\"}], \"scatterpolar\": [{\"marker\": {\"colorbar\": {\"outlinewidth\": 0, \"ticks\": \"\"}}, \"type\": \"scatterpolar\"}], \"scatterpolargl\": [{\"marker\": {\"colorbar\": {\"outlinewidth\": 0, \"ticks\": \"\"}}, \"type\": \"scatterpolargl\"}], \"scatterternary\": [{\"marker\": {\"colorbar\": {\"outlinewidth\": 0, \"ticks\": \"\"}}, \"type\": \"scatterternary\"}], \"surface\": [{\"colorbar\": {\"outlinewidth\": 0, \"ticks\": \"\"}, \"colorscale\": [[0.0, \"#0d0887\"], [0.1111111111111111, \"#46039f\"], [0.2222222222222222, \"#7201a8\"], [0.3333333333333333, \"#9c179e\"], [0.4444444444444444, \"#bd3786\"], [0.5555555555555556, \"#d8576b\"], [0.6666666666666666, \"#ed7953\"], [0.7777777777777778, \"#fb9f3a\"], [0.8888888888888888, \"#fdca26\"], [1.0, \"#f0f921\"]], \"type\": \"surface\"}], \"table\": [{\"cells\": {\"fill\": {\"color\": \"#EBF0F8\"}, \"line\": {\"color\": \"white\"}}, \"header\": {\"fill\": {\"color\": \"#C8D4E3\"}, \"line\": {\"color\": \"white\"}}, \"type\": \"table\"}]}, \"layout\": {\"annotationdefaults\": {\"arrowcolor\": \"#2a3f5f\", \"arrowhead\": 0, \"arrowwidth\": 1}, \"autotypenumbers\": \"strict\", \"coloraxis\": {\"colorbar\": {\"outlinewidth\": 0, \"ticks\": \"\"}}, \"colorscale\": {\"diverging\": [[0, \"#8e0152\"], [0.1, \"#c51b7d\"], [0.2, \"#de77ae\"], [0.3, \"#f1b6da\"], [0.4, \"#fde0ef\"], [0.5, \"#f7f7f7\"], [0.6, \"#e6f5d0\"], [0.7, \"#b8e186\"], [0.8, \"#7fbc41\"], [0.9, \"#4d9221\"], [1, \"#276419\"]], \"sequential\": [[0.0, \"#0d0887\"], [0.1111111111111111, \"#46039f\"], [0.2222222222222222, \"#7201a8\"], [0.3333333333333333, \"#9c179e\"], [0.4444444444444444, \"#bd3786\"], [0.5555555555555556, \"#d8576b\"], [0.6666666666666666, \"#ed7953\"], [0.7777777777777778, \"#fb9f3a\"], [0.8888888888888888, \"#fdca26\"], [1.0, \"#f0f921\"]], \"sequentialminus\": [[0.0, \"#0d0887\"], [0.1111111111111111, \"#46039f\"], [0.2222222222222222, \"#7201a8\"], [0.3333333333333333, \"#9c179e\"], [0.4444444444444444, \"#bd3786\"], [0.5555555555555556, \"#d8576b\"], [0.6666666666666666, \"#ed7953\"], [0.7777777777777778, \"#fb9f3a\"], [0.8888888888888888, \"#fdca26\"], [1.0, \"#f0f921\"]]}, \"colorway\": [\"#636efa\", \"#EF553B\", \"#00cc96\", \"#ab63fa\", \"#FFA15A\", \"#19d3f3\", \"#FF6692\", \"#B6E880\", \"#FF97FF\", \"#FECB52\"], \"font\": {\"color\": \"#2a3f5f\"}, \"geo\": {\"bgcolor\": \"white\", \"lakecolor\": \"white\", \"landcolor\": \"#E5ECF6\", \"showlakes\": true, \"showland\": true, \"subunitcolor\": \"white\"}, \"hoverlabel\": {\"align\": \"left\"}, \"hovermode\": \"closest\", \"mapbox\": {\"style\": \"light\"}, \"paper_bgcolor\": \"white\", \"plot_bgcolor\": \"#E5ECF6\", \"polar\": {\"angularaxis\": {\"gridcolor\": \"white\", \"linecolor\": \"white\", \"ticks\": \"\"}, \"bgcolor\": \"#E5ECF6\", \"radialaxis\": {\"gridcolor\": \"white\", \"linecolor\": \"white\", \"ticks\": \"\"}}, \"scene\": {\"xaxis\": {\"backgroundcolor\": \"#E5ECF6\", \"gridcolor\": \"white\", \"gridwidth\": 2, \"linecolor\": \"white\", \"showbackground\": true, \"ticks\": \"\", \"zerolinecolor\": \"white\"}, \"yaxis\": {\"backgroundcolor\": \"#E5ECF6\", \"gridcolor\": \"white\", \"gridwidth\": 2, \"linecolor\": \"white\", \"showbackground\": true, \"ticks\": \"\", \"zerolinecolor\": \"white\"}, \"zaxis\": {\"backgroundcolor\": \"#E5ECF6\", \"gridcolor\": \"white\", \"gridwidth\": 2, \"linecolor\": \"white\", \"showbackground\": true, \"ticks\": \"\", \"zerolinecolor\": \"white\"}}, \"shapedefaults\": {\"line\": {\"color\": \"#2a3f5f\"}}, \"ternary\": {\"aaxis\": {\"gridcolor\": \"white\", \"linecolor\": \"white\", \"ticks\": \"\"}, \"baxis\": {\"gridcolor\": \"white\", \"linecolor\": \"white\", \"ticks\": \"\"}, \"bgcolor\": \"#E5ECF6\", \"caxis\": {\"gridcolor\": \"white\", \"linecolor\": \"white\", \"ticks\": \"\"}}, \"title\": {\"x\": 0.05}, \"xaxis\": {\"automargin\": true, \"gridcolor\": \"white\", \"linecolor\": \"white\", \"ticks\": \"\", \"title\": {\"standoff\": 15}, \"zerolinecolor\": \"white\", \"zerolinewidth\": 2}, \"yaxis\": {\"automargin\": true, \"gridcolor\": \"white\", \"linecolor\": \"white\", \"ticks\": \"\", \"title\": {\"standoff\": 15}, \"zerolinecolor\": \"white\", \"zerolinewidth\": 2}}}, \"xaxis\": {\"anchor\": \"y2\", \"domain\": [0.0, 1.0], \"zeroline\": false}, \"yaxis\": {\"anchor\": \"free\", \"domain\": [0.0, 1], \"position\": 0.0}},                        {\"responsive\": true}                    ).then(function(){\n",
       "                            \n",
       "var gd = document.getElementById('091d95ab-7ffb-464e-b80c-709891171ccf');\n",
       "var x = new MutationObserver(function (mutations, observer) {{\n",
       "        var display = window.getComputedStyle(gd).display;\n",
       "        if (!display || display === 'none') {{\n",
       "            console.log([gd, 'removed!']);\n",
       "            Plotly.purge(gd);\n",
       "            observer.disconnect();\n",
       "        }}\n",
       "}});\n",
       "\n",
       "// Listen for the removal of the full notebook cells\n",
       "var notebookContainer = gd.closest('#notebook-container');\n",
       "if (notebookContainer) {{\n",
       "    x.observe(notebookContainer, {childList: true});\n",
       "}}\n",
       "\n",
       "// Listen for the clearing of the current output cell\n",
       "var outputEl = gd.closest('.output');\n",
       "if (outputEl) {{\n",
       "    x.observe(outputEl, {childList: true});\n",
       "}}\n",
       "\n",
       "                        })                };                });            </script>        </div>"
      ]
     },
     "metadata": {},
     "output_type": "display_data"
    }
   ],
   "source": []
  },
  {
   "cell_type": "code",
   "execution_count": 293,
   "id": "5b050192",
   "metadata": {},
   "outputs": [
    {
     "data": {
      "text/plain": [
       "hour\n",
       "0      6150\n",
       "1      4136\n",
       "2      2298\n",
       "3      1121\n",
       "4      1069\n",
       "5      3789\n",
       "6     10841\n",
       "7     25805\n",
       "8     41795\n",
       "9     30211\n",
       "10    26304\n",
       "11    30303\n",
       "12    35247\n",
       "13    36271\n",
       "14    36494\n",
       "15    40875\n",
       "16    50542\n",
       "17    61922\n",
       "18    51750\n",
       "19    36472\n",
       "20    25226\n",
       "21    18494\n",
       "22    13733\n",
       "23     9152\n",
       "Name: bike_id, dtype: int64"
      ]
     },
     "execution_count": 293,
     "metadata": {},
     "output_type": "execute_result"
    }
   ],
   "source": [
    "df['hour'] = df['start_time'].dt.hour\n",
    "counts_hours = df.groupby(by=\"hour\")['bike_id'].count()\n",
    "counts_hours"
   ]
  },
  {
   "cell_type": "code",
   "execution_count": 297,
   "id": "7996f640",
   "metadata": {},
   "outputs": [
    {
     "data": {
      "image/png": "[encoded data removed]",
      "text/plain": [
       "<Figure size 720x432 with 1 Axes>"
      ]
     },
     "metadata": {
      "needs_background": "light"
     },
     "output_type": "display_data"
    }
   ],
   "source": [
    "fig = plt.figure(figsize=(10,6))\n",
    "ax = fig.add_subplot(1,1,1)\n",
    "ax.bar(means['hour'],means['duration'])\n",
    "\n",
    "ax.title.set_text('Distribution of rides during the day')"
   ]
  },
  {
   "cell_type": "code",
   "execution_count": 298,
   "id": "3a0c5df1",
   "metadata": {},
   "outputs": [
    {
     "ename": "ValueError",
     "evalue": "shape mismatch: objects cannot be broadcast to a single shape",
     "output_type": "error",
     "traceback": [
      "\u001b[1;31m---------------------------------------------------------------------------\u001b[0m",
      "\u001b[1;31mValueError\u001b[0m                                Traceback (most recent call last)",
      "\u001b[1;32m<ipython-input-298-1a08916fcf56>\u001b[0m in \u001b[0;36m<module>\u001b[1;34m\u001b[0m\n\u001b[0;32m      1\u001b[0m \u001b[0mfig\u001b[0m \u001b[1;33m=\u001b[0m \u001b[0mplt\u001b[0m\u001b[1;33m.\u001b[0m\u001b[0mfigure\u001b[0m\u001b[1;33m(\u001b[0m\u001b[0mfigsize\u001b[0m\u001b[1;33m=\u001b[0m\u001b[1;33m(\u001b[0m\u001b[1;36m10\u001b[0m\u001b[1;33m,\u001b[0m\u001b[1;36m6\u001b[0m\u001b[1;33m)\u001b[0m\u001b[1;33m)\u001b[0m\u001b[1;33m\u001b[0m\u001b[1;33m\u001b[0m\u001b[0m\n\u001b[0;32m      2\u001b[0m \u001b[0max\u001b[0m \u001b[1;33m=\u001b[0m \u001b[0mfig\u001b[0m\u001b[1;33m.\u001b[0m\u001b[0madd_subplot\u001b[0m\u001b[1;33m(\u001b[0m\u001b[1;36m1\u001b[0m\u001b[1;33m,\u001b[0m\u001b[1;36m1\u001b[0m\u001b[1;33m,\u001b[0m\u001b[1;36m1\u001b[0m\u001b[1;33m)\u001b[0m\u001b[1;33m\u001b[0m\u001b[1;33m\u001b[0m\u001b[0m\n\u001b[1;32m----> 3\u001b[1;33m \u001b[0max\u001b[0m\u001b[1;33m.\u001b[0m\u001b[0mbar\u001b[0m\u001b[1;33m(\u001b[0m\u001b[0mcounts_hours\u001b[0m\u001b[1;33m.\u001b[0m\u001b[0mindex\u001b[0m\u001b[1;33m,\u001b[0m\u001b[0mdf\u001b[0m\u001b[1;33m[\u001b[0m\u001b[1;34m'start_time'\u001b[0m\u001b[1;33m]\u001b[0m\u001b[1;33m.\u001b[0m\u001b[0mdt\u001b[0m\u001b[1;33m.\u001b[0m\u001b[0mhour\u001b[0m\u001b[1;33m)\u001b[0m\u001b[1;33m\u001b[0m\u001b[1;33m\u001b[0m\u001b[0m\n\u001b[0m\u001b[0;32m      4\u001b[0m \u001b[1;33m\u001b[0m\u001b[0m\n\u001b[0;32m      5\u001b[0m \u001b[0max\u001b[0m\u001b[1;33m.\u001b[0m\u001b[0mtitle\u001b[0m\u001b[1;33m.\u001b[0m\u001b[0mset_text\u001b[0m\u001b[1;33m(\u001b[0m\u001b[1;34m'Distribution of rides during the day'\u001b[0m\u001b[1;33m)\u001b[0m\u001b[1;33m\u001b[0m\u001b[1;33m\u001b[0m\u001b[0m\n",
      "\u001b[1;32m~\\anaconda3\\lib\\site-packages\\matplotlib\\__init__.py\u001b[0m in \u001b[0;36minner\u001b[1;34m(ax, data, *args, **kwargs)\u001b[0m\n\u001b[0;32m   1445\u001b[0m     \u001b[1;32mdef\u001b[0m \u001b[0minner\u001b[0m\u001b[1;33m(\u001b[0m\u001b[0max\u001b[0m\u001b[1;33m,\u001b[0m \u001b[1;33m*\u001b[0m\u001b[0margs\u001b[0m\u001b[1;33m,\u001b[0m \u001b[0mdata\u001b[0m\u001b[1;33m=\u001b[0m\u001b[1;32mNone\u001b[0m\u001b[1;33m,\u001b[0m \u001b[1;33m**\u001b[0m\u001b[0mkwargs\u001b[0m\u001b[1;33m)\u001b[0m\u001b[1;33m:\u001b[0m\u001b[1;33m\u001b[0m\u001b[1;33m\u001b[0m\u001b[0m\n\u001b[0;32m   1446\u001b[0m         \u001b[1;32mif\u001b[0m \u001b[0mdata\u001b[0m \u001b[1;32mis\u001b[0m \u001b[1;32mNone\u001b[0m\u001b[1;33m:\u001b[0m\u001b[1;33m\u001b[0m\u001b[1;33m\u001b[0m\u001b[0m\n\u001b[1;32m-> 1447\u001b[1;33m             \u001b[1;32mreturn\u001b[0m \u001b[0mfunc\u001b[0m\u001b[1;33m(\u001b[0m\u001b[0max\u001b[0m\u001b[1;33m,\u001b[0m \u001b[1;33m*\u001b[0m\u001b[0mmap\u001b[0m\u001b[1;33m(\u001b[0m\u001b[0msanitize_sequence\u001b[0m\u001b[1;33m,\u001b[0m \u001b[0margs\u001b[0m\u001b[1;33m)\u001b[0m\u001b[1;33m,\u001b[0m \u001b[1;33m**\u001b[0m\u001b[0mkwargs\u001b[0m\u001b[1;33m)\u001b[0m\u001b[1;33m\u001b[0m\u001b[1;33m\u001b[0m\u001b[0m\n\u001b[0m\u001b[0;32m   1448\u001b[0m \u001b[1;33m\u001b[0m\u001b[0m\n\u001b[0;32m   1449\u001b[0m         \u001b[0mbound\u001b[0m \u001b[1;33m=\u001b[0m \u001b[0mnew_sig\u001b[0m\u001b[1;33m.\u001b[0m\u001b[0mbind\u001b[0m\u001b[1;33m(\u001b[0m\u001b[0max\u001b[0m\u001b[1;33m,\u001b[0m \u001b[1;33m*\u001b[0m\u001b[0margs\u001b[0m\u001b[1;33m,\u001b[0m \u001b[1;33m**\u001b[0m\u001b[0mkwargs\u001b[0m\u001b[1;33m)\u001b[0m\u001b[1;33m\u001b[0m\u001b[1;33m\u001b[0m\u001b[0m\n",
      "\u001b[1;32m~\\anaconda3\\lib\\site-packages\\matplotlib\\axes\\_axes.py\u001b[0m in \u001b[0;36mbar\u001b[1;34m(self, x, height, width, bottom, align, **kwargs)\u001b[0m\n\u001b[0;32m   2428\u001b[0m                 \u001b[0myerr\u001b[0m \u001b[1;33m=\u001b[0m \u001b[0mself\u001b[0m\u001b[1;33m.\u001b[0m\u001b[0m_convert_dx\u001b[0m\u001b[1;33m(\u001b[0m\u001b[0myerr\u001b[0m\u001b[1;33m,\u001b[0m \u001b[0my0\u001b[0m\u001b[1;33m,\u001b[0m \u001b[0my\u001b[0m\u001b[1;33m,\u001b[0m \u001b[0mself\u001b[0m\u001b[1;33m.\u001b[0m\u001b[0mconvert_yunits\u001b[0m\u001b[1;33m)\u001b[0m\u001b[1;33m\u001b[0m\u001b[1;33m\u001b[0m\u001b[0m\n\u001b[0;32m   2429\u001b[0m \u001b[1;33m\u001b[0m\u001b[0m\n\u001b[1;32m-> 2430\u001b[1;33m         x, height, width, y, linewidth = np.broadcast_arrays(\n\u001b[0m\u001b[0;32m   2431\u001b[0m             \u001b[1;31m# Make args iterable too.\u001b[0m\u001b[1;33m\u001b[0m\u001b[1;33m\u001b[0m\u001b[1;33m\u001b[0m\u001b[0m\n\u001b[0;32m   2432\u001b[0m             np.atleast_1d(x), height, width, y, linewidth)\n",
      "\u001b[1;32m<__array_function__ internals>\u001b[0m in \u001b[0;36mbroadcast_arrays\u001b[1;34m(*args, **kwargs)\u001b[0m\n",
      "\u001b[1;32m~\\anaconda3\\lib\\site-packages\\numpy\\lib\\stride_tricks.py\u001b[0m in \u001b[0;36mbroadcast_arrays\u001b[1;34m(subok, *args)\u001b[0m\n\u001b[0;32m    256\u001b[0m     \u001b[0margs\u001b[0m \u001b[1;33m=\u001b[0m \u001b[1;33m[\u001b[0m\u001b[0mnp\u001b[0m\u001b[1;33m.\u001b[0m\u001b[0marray\u001b[0m\u001b[1;33m(\u001b[0m\u001b[0m_m\u001b[0m\u001b[1;33m,\u001b[0m \u001b[0mcopy\u001b[0m\u001b[1;33m=\u001b[0m\u001b[1;32mFalse\u001b[0m\u001b[1;33m,\u001b[0m \u001b[0msubok\u001b[0m\u001b[1;33m=\u001b[0m\u001b[0msubok\u001b[0m\u001b[1;33m)\u001b[0m \u001b[1;32mfor\u001b[0m \u001b[0m_m\u001b[0m \u001b[1;32min\u001b[0m \u001b[0margs\u001b[0m\u001b[1;33m]\u001b[0m\u001b[1;33m\u001b[0m\u001b[1;33m\u001b[0m\u001b[0m\n\u001b[0;32m    257\u001b[0m \u001b[1;33m\u001b[0m\u001b[0m\n\u001b[1;32m--> 258\u001b[1;33m     \u001b[0mshape\u001b[0m \u001b[1;33m=\u001b[0m \u001b[0m_broadcast_shape\u001b[0m\u001b[1;33m(\u001b[0m\u001b[1;33m*\u001b[0m\u001b[0margs\u001b[0m\u001b[1;33m)\u001b[0m\u001b[1;33m\u001b[0m\u001b[1;33m\u001b[0m\u001b[0m\n\u001b[0m\u001b[0;32m    259\u001b[0m \u001b[1;33m\u001b[0m\u001b[0m\n\u001b[0;32m    260\u001b[0m     \u001b[1;32mif\u001b[0m \u001b[0mall\u001b[0m\u001b[1;33m(\u001b[0m\u001b[0marray\u001b[0m\u001b[1;33m.\u001b[0m\u001b[0mshape\u001b[0m \u001b[1;33m==\u001b[0m \u001b[0mshape\u001b[0m \u001b[1;32mfor\u001b[0m \u001b[0marray\u001b[0m \u001b[1;32min\u001b[0m \u001b[0margs\u001b[0m\u001b[1;33m)\u001b[0m\u001b[1;33m:\u001b[0m\u001b[1;33m\u001b[0m\u001b[1;33m\u001b[0m\u001b[0m\n",
      "\u001b[1;32m~\\anaconda3\\lib\\site-packages\\numpy\\lib\\stride_tricks.py\u001b[0m in \u001b[0;36m_broadcast_shape\u001b[1;34m(*args)\u001b[0m\n\u001b[0;32m    187\u001b[0m     \u001b[1;31m# use the old-iterator because np.nditer does not handle size 0 arrays\u001b[0m\u001b[1;33m\u001b[0m\u001b[1;33m\u001b[0m\u001b[1;33m\u001b[0m\u001b[0m\n\u001b[0;32m    188\u001b[0m     \u001b[1;31m# consistently\u001b[0m\u001b[1;33m\u001b[0m\u001b[1;33m\u001b[0m\u001b[1;33m\u001b[0m\u001b[0m\n\u001b[1;32m--> 189\u001b[1;33m     \u001b[0mb\u001b[0m \u001b[1;33m=\u001b[0m \u001b[0mnp\u001b[0m\u001b[1;33m.\u001b[0m\u001b[0mbroadcast\u001b[0m\u001b[1;33m(\u001b[0m\u001b[1;33m*\u001b[0m\u001b[0margs\u001b[0m\u001b[1;33m[\u001b[0m\u001b[1;33m:\u001b[0m\u001b[1;36m32\u001b[0m\u001b[1;33m]\u001b[0m\u001b[1;33m)\u001b[0m\u001b[1;33m\u001b[0m\u001b[1;33m\u001b[0m\u001b[0m\n\u001b[0m\u001b[0;32m    190\u001b[0m     \u001b[1;31m# unfortunately, it cannot handle 32 or more arguments directly\u001b[0m\u001b[1;33m\u001b[0m\u001b[1;33m\u001b[0m\u001b[1;33m\u001b[0m\u001b[0m\n\u001b[0;32m    191\u001b[0m     \u001b[1;32mfor\u001b[0m \u001b[0mpos\u001b[0m \u001b[1;32min\u001b[0m \u001b[0mrange\u001b[0m\u001b[1;33m(\u001b[0m\u001b[1;36m32\u001b[0m\u001b[1;33m,\u001b[0m \u001b[0mlen\u001b[0m\u001b[1;33m(\u001b[0m\u001b[0margs\u001b[0m\u001b[1;33m)\u001b[0m\u001b[1;33m,\u001b[0m \u001b[1;36m31\u001b[0m\u001b[1;33m)\u001b[0m\u001b[1;33m:\u001b[0m\u001b[1;33m\u001b[0m\u001b[1;33m\u001b[0m\u001b[0m\n",
      "\u001b[1;31mValueError\u001b[0m: shape mismatch: objects cannot be broadcast to a single shape"
     ]
    },
    {
     "data": {
      "image/png": "[encoded data removed]",
      "text/plain": [
       "<Figure size 720x432 with 1 Axes>"
      ]
     },
     "metadata": {
      "needs_background": "light"
     },
     "output_type": "display_data"
    }
   ],
   "source": [
    "fig = plt.figure(figsize=(10,6))\n",
    "ax = fig.add_subplot(1,1,1)\n",
    "ax.bar(counts_hours.index,df['start_time'].dt.hour)\n",
    "\n",
    "ax.title.set_text('Distribution of rides during the day')"
   ]
  },
  {
   "cell_type": "code",
   "execution_count": null,
   "id": "28c3a1c3",
   "metadata": {},
   "outputs": [],
   "source": [
    "go.Figure(data=go.Bar(x=counts.index, y=counts.values),layout=layout)"
   ]
  },
  {
   "cell_type": "code",
   "execution_count": 44,
   "id": "94cfaf63",
   "metadata": {},
   "outputs": [],
   "source": [
    "df['weekday'] = df['start_time'].dt.weekday\n",
    "\n",
    "counts = df.groupby(by=\"weekday\")['bike_id'].count()"
   ]
  },
  {
   "cell_type": "code",
   "execution_count": null,
   "id": "ece65b63",
   "metadata": {},
   "outputs": [],
   "source": []
  },
  {
   "cell_type": "code",
   "execution_count": 181,
   "id": "b0e47cf5",
   "metadata": {},
   "outputs": [
    {
     "data": {
      "image/png": "[encoded data removed]",
      "text/plain": [
       "<Figure size 720x432 with 1 Axes>"
      ]
     },
     "metadata": {
      "needs_background": "light"
     },
     "output_type": "display_data"
    }
   ],
   "source": [
    "fig = plt.figure(figsize=(10,6))\n",
    "ax = fig.add_subplot(1,1,1)\n",
    "ax.bar(counts.index,counts.values)\n",
    "\n",
    "ax.title.set_text('Distribution of rides during the week')"
   ]
  },
  {
   "cell_type": "code",
   "execution_count": null,
   "id": "ddc36781",
   "metadata": {},
   "outputs": [],
   "source": [
    "\n",
    "\n",
    "\n",
    "\n",
    "\n"
   ]
  },
  {
   "cell_type": "code",
   "execution_count": 208,
   "id": "d07a6e1f",
   "metadata": {},
   "outputs": [
    {
     "data": {
      "text/html": [
       "<div>\n",
       "<style scoped>\n",
       "    .dataframe tbody tr th:only-of-type {\n",
       "        vertical-align: middle;\n",
       "    }\n",
       "\n",
       "    .dataframe tbody tr th {\n",
       "        vertical-align: top;\n",
       "    }\n",
       "\n",
       "    .dataframe thead th {\n",
       "        text-align: right;\n",
       "    }\n",
       "</style>\n",
       "<table border=\"1\" class=\"dataframe\">\n",
       "  <thead>\n",
       "    <tr style=\"text-align: right;\">\n",
       "      <th></th>\n",
       "      <th>duration</th>\n",
       "      <th>start_time</th>\n",
       "      <th>stop_time</th>\n",
       "      <th>start_id</th>\n",
       "      <th>start_name</th>\n",
       "      <th>start_lat</th>\n",
       "      <th>start_long</th>\n",
       "      <th>end_id</th>\n",
       "      <th>end_name</th>\n",
       "      <th>end_lat</th>\n",
       "      <th>end_long</th>\n",
       "      <th>bike_id</th>\n",
       "      <th>user_type</th>\n",
       "      <th>year</th>\n",
       "      <th>month</th>\n",
       "      <th>hour</th>\n",
       "    </tr>\n",
       "  </thead>\n",
       "  <tbody>\n",
       "    <tr>\n",
       "      <th>0</th>\n",
       "      <td>790</td>\n",
       "      <td>2019-01-12 00:01:25</td>\n",
       "      <td>2019-01-12 00:14:35</td>\n",
       "      <td>370</td>\n",
       "      <td>Dartmouth St at Newbury St</td>\n",
       "      <td>42.350961</td>\n",
       "      <td>-71.077828</td>\n",
       "      <td>33</td>\n",
       "      <td>Kenmore Square</td>\n",
       "      <td>42.348706</td>\n",
       "      <td>-71.097009</td>\n",
       "      <td>5133</td>\n",
       "      <td>Subscriber</td>\n",
       "      <td>2019</td>\n",
       "      <td>12</td>\n",
       "      <td>0</td>\n",
       "    </tr>\n",
       "    <tr>\n",
       "      <th>1</th>\n",
       "      <td>166</td>\n",
       "      <td>2019-01-12 00:05:43</td>\n",
       "      <td>2019-01-12 00:08:29</td>\n",
       "      <td>80</td>\n",
       "      <td>MIT Stata Center at Vassar St / Main St</td>\n",
       "      <td>42.362131</td>\n",
       "      <td>-71.091156</td>\n",
       "      <td>67</td>\n",
       "      <td>MIT at Mass Ave / Amherst St</td>\n",
       "      <td>42.358100</td>\n",
       "      <td>-71.093198</td>\n",
       "      <td>2653</td>\n",
       "      <td>Subscriber</td>\n",
       "      <td>2019</td>\n",
       "      <td>12</td>\n",
       "      <td>0</td>\n",
       "    </tr>\n",
       "    <tr>\n",
       "      <th>2</th>\n",
       "      <td>323</td>\n",
       "      <td>2019-01-12 00:08:29</td>\n",
       "      <td>2019-01-12 00:13:52</td>\n",
       "      <td>381</td>\n",
       "      <td>Inman Square at Springfield St.</td>\n",
       "      <td>42.374384</td>\n",
       "      <td>-71.100157</td>\n",
       "      <td>221</td>\n",
       "      <td>Verizon Innovation Hub 10 Ware Street</td>\n",
       "      <td>42.372509</td>\n",
       "      <td>-71.113054</td>\n",
       "      <td>4875</td>\n",
       "      <td>Subscriber</td>\n",
       "      <td>2019</td>\n",
       "      <td>12</td>\n",
       "      <td>0</td>\n",
       "    </tr>\n",
       "    <tr>\n",
       "      <th>3</th>\n",
       "      <td>709</td>\n",
       "      <td>2019-01-12 00:08:39</td>\n",
       "      <td>2019-01-12 00:20:28</td>\n",
       "      <td>185</td>\n",
       "      <td>Third at Binney</td>\n",
       "      <td>42.365445</td>\n",
       "      <td>-71.082771</td>\n",
       "      <td>184</td>\n",
       "      <td>Sidney Research Campus/ Erie Street at Waverly</td>\n",
       "      <td>42.357753</td>\n",
       "      <td>-71.103934</td>\n",
       "      <td>2116</td>\n",
       "      <td>Subscriber</td>\n",
       "      <td>2019</td>\n",
       "      <td>12</td>\n",
       "      <td>0</td>\n",
       "    </tr>\n",
       "    <tr>\n",
       "      <th>4</th>\n",
       "      <td>332</td>\n",
       "      <td>2019-01-12 00:10:09</td>\n",
       "      <td>2019-01-12 00:15:41</td>\n",
       "      <td>221</td>\n",
       "      <td>Verizon Innovation Hub 10 Ware Street</td>\n",
       "      <td>42.372509</td>\n",
       "      <td>-71.113054</td>\n",
       "      <td>89</td>\n",
       "      <td>Harvard Law School at Mass Ave / Jarvis St</td>\n",
       "      <td>42.379011</td>\n",
       "      <td>-71.119945</td>\n",
       "      <td>6156</td>\n",
       "      <td>Subscriber</td>\n",
       "      <td>2019</td>\n",
       "      <td>12</td>\n",
       "      <td>0</td>\n",
       "    </tr>\n",
       "  </tbody>\n",
       "</table>\n",
       "</div>"
      ],
      "text/plain": [
       "   duration          start_time           stop_time  start_id  \\\n",
       "0       790 2019-01-12 00:01:25 2019-01-12 00:14:35       370   \n",
       "1       166 2019-01-12 00:05:43 2019-01-12 00:08:29        80   \n",
       "2       323 2019-01-12 00:08:29 2019-01-12 00:13:52       381   \n",
       "3       709 2019-01-12 00:08:39 2019-01-12 00:20:28       185   \n",
       "4       332 2019-01-12 00:10:09 2019-01-12 00:15:41       221   \n",
       "\n",
       "                                start_name  start_lat  start_long  end_id  \\\n",
       "0               Dartmouth St at Newbury St  42.350961  -71.077828      33   \n",
       "1  MIT Stata Center at Vassar St / Main St  42.362131  -71.091156      67   \n",
       "2          Inman Square at Springfield St.  42.374384  -71.100157     221   \n",
       "3                          Third at Binney  42.365445  -71.082771     184   \n",
       "4    Verizon Innovation Hub 10 Ware Street  42.372509  -71.113054      89   \n",
       "\n",
       "                                         end_name    end_lat   end_long  \\\n",
       "0                                  Kenmore Square  42.348706 -71.097009   \n",
       "1                    MIT at Mass Ave / Amherst St  42.358100 -71.093198   \n",
       "2           Verizon Innovation Hub 10 Ware Street  42.372509 -71.113054   \n",
       "3  Sidney Research Campus/ Erie Street at Waverly  42.357753 -71.103934   \n",
       "4      Harvard Law School at Mass Ave / Jarvis St  42.379011 -71.119945   \n",
       "\n",
       "   bike_id   user_type  year  month  hour  \n",
       "0     5133  Subscriber  2019     12     0  \n",
       "1     2653  Subscriber  2019     12     0  \n",
       "2     4875  Subscriber  2019     12     0  \n",
       "3     2116  Subscriber  2019     12     0  \n",
       "4     6156  Subscriber  2019     12     0  "
      ]
     },
     "execution_count": 208,
     "metadata": {},
     "output_type": "execute_result"
    }
   ],
   "source": [
    "df.['start_lat']"
   ]
  },
  {
   "cell_type": "code",
   "execution_count": 209,
   "id": "ae575091",
   "metadata": {},
   "outputs": [],
   "source": [
    "colors = ['rgb(239,243,255)','rgb(189,215,231)','rgb(107,174,214)','rgb(33,113,181)']"
   ]
  },
  {
   "cell_type": "code",
   "execution_count": 214,
   "id": "59f8fcce",
   "metadata": {},
   "outputs": [],
   "source": []
  },
  {
   "cell_type": "code",
   "execution_count": 238,
   "id": "03433a02",
   "metadata": {},
   "outputs": [],
   "source": [
    "cases = go.Scattergeo(\n",
    "        lon = df['start_long'],\n",
    "        lat = df['start_lat'],\n",
    "        marker = dict(\n",
    "            \n",
    "            opacity = .4,\n",
    "            line = dict(width = 0)\n",
    "        ))\n",
    "\n",
    "layout = go.Layout(\n",
    "    title = 'Hey look! It\\'s a scatter plot on a map!',\n",
    "    geo = dict(\n",
    "        \n",
    "        scope = 'usa',\n",
    "        showframe = False,\n",
    "        showcoastlines = True,\n",
    "        showland = True,\n",
    "        landcolor = \"rgb(229, 22, 229)\",\n",
    "        countrycolor = \"rgb(255, 25, 255)\" ,\n",
    "        coastlinecolor = \"rgb(25, 255, 255)\",\n",
    "        projection = dict(\n",
    "            type = 'mercator'\n",
    "        )\n",
    "        \n",
    "    ),\n",
    "    legend = dict(\n",
    "           traceorder = 'reversed'\n",
    "    )\n",
    ")\n",
    "\n",
    "\n",
    "fig = go.Figure(layout=layout, data=cases)"
   ]
  },
  {
   "cell_type": "code",
   "execution_count": 235,
   "id": "2b8208d9",
   "metadata": {},
   "outputs": [],
   "source": [
    "import plotly.io as pio\n",
    "pio.renderers.default='notebook'\n"
   ]
  },
  {
   "cell_type": "code",
   "execution_count": 259,
   "id": "7abdcc74",
   "metadata": {},
   "outputs": [
    {
     "data": {
      "text/html": [
       "<div>                            <div id=\"c915809d-de08-44aa-bea3-8aebadd9a55a\" class=\"plotly-graph-div\" style=\"height:525px; width:100%;\"></div>            <script type=\"text/javascript\">                require([\"plotly\"], function(Plotly) {                    window.PLOTLYENV=window.PLOTLYENV || {};                                    if (document.getElementById(\"c915809d-de08-44aa-bea3-8aebadd9a55a\")) {                    Plotly.newPlot(                        \"c915809d-de08-44aa-bea3-8aebadd9a55a\",                        [{\"lat\": [42.35096144, 42.36213123, 42.37438409, 42.36544486, 42.37250865, 42.36264779, 42.366277, 42.370803, 42.34652004, 42.34652004, 42.39329263, 42.36507, 42.366621, 42.35317809, 42.36599433, 42.33741748, 42.33741748, 42.35317809, 42.36135838, 42.352409, 42.352409, 42.376369, 42.345392, 42.335741, 42.351356, 42.36955298, 42.34958942, 42.341598, 42.352175, 42.35317809, 42.38393225, 42.36121165, 42.3625, 42.292917, 42.396969, 42.3581, 42.396969, 42.3625, 42.36121165, 42.36507, 42.373268, 42.36507, 42.36242784, 42.34924377, 42.37412455, 42.345901, 42.341598, 42.354979, 42.37967148, 42.32039374, 42.309572, 42.39648358, 42.36254854, 42.36242784, 42.351146, 42.351356, 42.3595732, 42.3625, 42.36346469, 42.3625, 42.36919032, 42.38674802, 42.37487847, 42.371848, 42.348706, 42.370677, 42.370677, 42.376369, 42.366621, 42.335741, 42.3391085, 42.34953017, 42.309572, 42.40203828, 42.351356, 42.33758601, 42.33624445, 42.35154735, 42.33554308, 42.34895285, 42.34827839, 42.373379, 42.34835863, 42.38952436, 42.37207658, 42.37927325, 42.363796, 42.35775309, 42.34807412, 42.33833424, 42.35991176, 42.331184, 42.35560121, 42.3294633, 42.37250865, 42.34135616, 42.3581, 42.378965, 42.38042947, 42.37438409, 42.36860524, 42.347241, 42.34953017, 42.338629, 42.370677, 42.350406, 42.32760387, 42.33758601, 42.36079297, 42.33758601, 42.37119728, 42.34155985, 42.36426344, 42.365673, 42.36507, 42.400877, 42.338629, 42.39407224, 42.35317809, 42.34922469, 42.292917, 42.3391085, 42.387995, 42.3595732, 42.3385146, 42.366426, 42.309054, 42.36608797, 42.351586, 42.35775309, 42.36346469, 42.3740832, 42.35991176, 42.3581, 42.33554308, 42.28277901, 42.363796, 42.309054, 42.35553628, 42.3595732, 42.348706, 42.37487847, 42.372969, 42.372969, 42.33595898, 42.36544486, 42.35148193, 42.365673, 42.38363402, 42.35169202, 42.37438409, 42.36356016, 42.371848, 42.366277, 42.36264779, 42.3581, 42.33209606, 42.370803, 42.32039374, 42.38952436, 42.316966, 42.35560121, 42.36121165, 42.316966, 42.37438409, 42.28630716, 42.34924377, 42.3722168, 42.33274392, 42.3581, 42.370803, 42.36079297, 42.3572185, 42.335741, 42.345392, 42.34024645, 42.39223284, 42.32143814, 42.34924377, 42.34894857, 42.3382668, 42.300923, 42.3595732, 42.370803, 42.34366582, 42.33624445, 42.32143814, 42.39790817, 42.35560121, 42.3595732, 42.35775309, 42.392766, 42.353334, 42.377945, 42.33595898, 42.34954403, 42.35317809, 42.38567579, 42.35154735, 42.35775309, 42.363796, 42.3572185, 42.35317809, 42.346563, 42.34924377, 42.36178044, 42.363871, 42.372969, 42.331184, 42.36178044, 42.306539, 42.34254914, 42.34807412, 42.363871, 42.366277, 42.36599433, 42.36507, 42.29606705, 42.371848, 42.347241, 42.36507, 42.32143814, 42.362811, 42.34924377, 42.34054262, 42.380998, 42.380998, 42.380998, 42.380998, 42.406302, 42.34922469, 42.37119728, 42.36079297, 42.37438409, 42.36079297, 42.36242784, 42.345901, 42.345901, 42.352175, 42.36178044, 42.33554308, 42.380857, 42.3595732, 42.369536, 42.352261, 42.371848, 42.35560121, 42.343749, 42.34895285, 42.35560121, 42.34155985, 42.36860524, 42.37119728, 42.3595732, 42.36242784, 42.396969, 42.36224179, 42.3334, 42.371848, 42.33978053, 42.345901, 42.3494261, 42.369885, 42.36426344, 42.36550729, 42.375603, 42.39782213, 42.36860524, 42.32784317, 42.34135616, 42.370803, 42.34521562, 42.351356, 42.3572185, 42.34953017, 42.352409, 42.373231, 42.35980252, 42.377945, 42.36599433, 42.34366582, 42.34254914, 42.36507, 42.36264779, 42.352409, 42.32538436, 42.3581, 42.36550729, 42.37967148, 42.370803, 42.398365, 42.398365, 42.33664795, 42.35775309, 42.34652004, 42.36955298, 42.372969, 42.34521562, 42.35775309, 42.35991176, 42.36608797, 42.35096144, 42.3391085, 42.376369, 42.36178044, 42.370677, 42.366621, 42.348706, 42.38717463, 42.34366582, 42.373231, 42.370803, 42.366621, 42.38363402, 42.34155985, 42.34155985, 42.34054262, 42.372969, 42.398365, 42.36213123, 42.345392, 42.378965, 42.38614141, 42.366277, 42.3385146, 42.3595732, 42.39678589, 42.34652004, 42.34652004, 42.35169202, 42.36507, 42.366426, 42.36599433, 42.341332, 42.33624445, 42.3391085, 42.35892, 42.397828, 42.377945, 42.34960945, 42.39120972, 42.380287, 42.34366582, 42.3106, 42.38363402, 42.35560121, 42.35560121, 42.370677, 42.36860524, 42.36254854, 42.36154571, 42.352261, 42.379011, 42.345901, 42.3595732, 42.369536, 42.36178044, 42.363871, 42.3572185, 42.353334, 42.35560121, 42.353334, 42.363871, 42.33978053, 42.3581, 42.371848, 42.34465063, 42.37150494, 42.37207658, 42.37207658, 42.34922469, 42.33978053, 42.35169202, 42.345392, 42.363796, 42.347241, 42.34953017, 42.366426, 42.37438409, 42.37927325, 42.33624445, 42.366426, 42.3722168, 42.34881026, 42.3106, 42.38567579, 42.34807412, 42.379011, 42.380287, 42.366621, 42.34827839, 42.35169202, 42.34953017, 42.3595732, 42.36544486, 42.34922469, 42.366426, 42.34924377, 42.3595732, 42.370677, 42.35553628, 42.306539, 42.36079297, 42.33595898, 42.35668335, 42.34366582, 42.33595898, 42.32984299, 42.36264779, 42.344792, 42.36507, 42.3385146, 42.3595732, 42.379772, 42.3388956, 42.35169202, 42.33462893, 42.33462893, 42.2873611, 42.39558846, 42.34366582, 42.36346469, 42.377945, 42.40203828, 42.35182807, 42.36224179, 42.365673, 42.352261, 42.341332, 42.31886468, 42.36955298, 42.37842, 42.372969, 42.377945, 42.35775309, 42.3595732, 42.345901, 42.373231, 42.38032335, 42.351356, 42.36919032, 42.366277, 42.348706, 42.366277, 42.386781, 42.3581, 42.35775309, 42.34054262, 42.35775309, 42.37119728, 42.36544486, 42.344137, 42.35169202, 42.37412455, 42.316966, 42.37438409, 42.396969, 42.36242784, 42.386781, 42.387995, 42.36955298, 42.3385146, 42.345901, 42.36224179, 42.36242784, 42.3581, 42.38674802, 42.373268, 42.34954403, 42.3391085, 42.36544486, 42.35169202, 42.36178044, 42.373268, 42.331184, 42.35560121, 42.36213123, 42.36884408, 42.32984299, 42.366426, 42.386844, 42.370803, 42.31218918, 42.37967148, 42.36919032, 42.35154735, 42.34827839, 42.36507, 42.36264779, 42.34521562, 42.34278116, 42.37842, 42.33376473, 42.3494261, 42.366277, 42.347241, 42.34807412, 42.36242784, 42.380287, 42.34521562, 42.34953017, 42.336448, 42.371848, 42.34992828, 42.396105, 42.383405, 42.32293117, 42.36919032, 42.34807412, 42.37412455, 42.34619708, 42.3525878, 42.34652004, 42.3595732, 42.39407224, 42.379011, 42.35560121, 42.316966, 42.3385146, 42.348706, 42.366426, 42.36919032, 42.3294633, 42.35276621, 42.3572185, 42.35154735, 42.35154735, 42.33978053, 42.341598, 42.36213123, 42.341598, 42.341598, 42.34835863, 42.36426344, 42.34894857, 42.38674802, 42.34155985, 42.352409, 42.34254914, 42.366426, 42.341332, 42.39407224, 42.37412455, 42.3595732, 42.3382668, 42.35553628, 42.3572185, 42.344137, 42.35169202, 42.37927325, 42.35775309, 42.37438409, 42.37438409, 42.33554308, 42.3625, 42.36507, 42.380857, 42.34366582, 42.352175, 42.33462893, 42.34854543, 42.36599433, 42.362811, 42.362811, 42.34922469, 42.35775309, 42.38032335, 42.3581, 42.3625, 42.3581, 42.366277, 42.366277, 42.35668335, 42.366621, 42.3581, 42.370677, 42.38100143, 42.3581, 42.377945, 42.34366582, 42.348706, 42.34894857, 42.34960945, 42.36507, 42.3602737, 42.345392, 42.36213123, 42.36254854, 42.366426, 42.34827839, 42.38952436, 42.3951715, 42.34954403, 42.387995, 42.33658555, 42.3339227, 42.370803, 42.34619708, 42.35169202, 42.36769018, 42.34465063, 42.36242784, 42.344137, 42.383405, 42.36507, 42.371848, 42.363796, 42.331184, 42.341598, 42.3581, 42.35553628, 42.35096144, 42.35096144, 42.38952436, 42.34881026, 42.3385146, 42.3581, 42.344137, 42.370677, 42.35317809, 42.362811, 42.380998, 42.3339227, 42.3595732, 42.287072, 42.3951715, 42.344792, 42.379011, 42.373231, 42.363796, 42.346563, 42.36507, 42.351356, 42.344792, 42.37842, 42.38032335, 42.352409, 42.352261, 42.35169202, 42.338629, 42.36919032, 42.36041775, 42.36041775, 42.353334, 42.36769018, 42.363871, 42.37967148, 42.34366582, 42.36242784, 42.341598, 42.36264779, 42.36544486, 42.37927325, 42.387995, 42.37927325, 42.351146, 42.35096144, 42.3581, 42.38078817, 42.3595732, 42.354979, 42.369885, 42.36860524, 42.3572185, 42.34254914, 42.36860524, 42.36955298, 42.3572185, 42.366621, 42.35668335, 42.34024645, 42.35668335, 42.35560121, 42.36769018, 42.34254914, 42.36264779, 42.34827839, 42.39638681, 42.380287, 42.34652004, 42.34465063, 42.34465063, 42.34465063, 42.34854543, 42.37438409, 42.3636929, 42.396969, 42.35892, 42.3581, 42.396969, 42.396969, 42.3581, 42.3581, 42.3581, 42.373268, 42.3334, 42.352175, 42.358155, 42.341598, 42.3595732, 42.36178044, 42.34619708, 42.3722168, 42.378338, 42.365673, 42.316966, 42.366426, 42.348706, 42.370803, 42.34465063, 42.34521562, 42.358155, 42.34958942, 42.38567579, 42.34958942, 42.34465063, 42.36599433, 42.36154571, 42.36507, 42.36884408, 42.3595732, 42.3581, 42.365673, 42.3581, 42.38100143, 42.34155985, 42.33758601, 42.3581, 42.326599, 42.36224179, 42.3339227, 42.36507, 42.3572185, 42.34827839, 42.3595732, 42.36769018, 42.36178044, 42.398365, 42.366981, 42.35096144, 42.373379, 42.33509899, 42.36242784, 42.3494261, 42.36121165, 42.36507, 42.392766, 42.34954403, 42.3494261, 42.363796, 42.363871, 42.37207658, 42.36242784, 42.34054262, 42.363796, 42.34521562, 42.387995, 42.35775309, 42.36507, 42.36507, 42.387995, 42.3581, 42.37438409, 42.37438409, 42.34024645, 42.37438409, 42.34922469, 42.34652004, 42.3595732, 42.371848, 42.344137, 42.38363402, 42.36507, 42.37927325, 42.370803, 42.36507, 42.36178044, 42.370803, 42.36213123, 42.37438409, 42.33624445, 42.33595898, 42.3572185, 42.34155985, 42.375603, 42.363871, 42.373268, 42.37842, 42.38100143, 42.351356, 42.3385146, 42.36135838, 42.3581, 42.32143814, 42.34992828, 42.34619708, 42.387995, 42.387995, 42.352261, 42.37207658, 42.350406, 42.3572185, 42.34366582, 42.34827839, 42.38165061, 42.352175, 42.38614141, 42.378338, 42.38165061, 42.34652004, 42.37119728, 42.36507, 42.332817, 42.34254914, 42.34652004, 42.35560121, 42.353334, 42.36242784, 42.344792, 42.3581, 42.366426, 42.37544913, 42.397828, 42.37250865, 42.357143, 42.34278116, 42.331184, 42.3581, 42.36346469, 42.3572185, 42.352261, 42.37119728, 42.310579, 42.36346469, 42.34827839, 42.3581, 42.36135838, 42.396969, 42.353334, 42.36507, 42.341598, 42.34366582, 42.335741, 42.378338, 42.38674802, 42.31218918, 42.39678589, 42.36507, 42.36919032, 42.39782213, 42.33741748, 42.3581, 42.36079297, 42.396969, 42.37967148, 42.37438409, 42.371848, 42.35668335, 42.35096144, 42.34807412, 42.39120972, 42.397828, 42.35148193, 42.373268, 42.34054262, 42.3294633, 42.376369, 42.316966, 42.316966, 42.373268, 42.3581, 42.352175, 42.34992828, 42.347241, 42.392766, 42.34992828, 42.3385146, 42.36507, 42.35980252, 42.3572185, 42.351586, 42.366621, 42.34135616, 42.36254854, 42.373231, 42.35096144, 42.35560121, 42.373268, 42.341598, 42.36079297, 42.366277, 42.34054262, 42.36242784, 42.363796, 42.36242784, 42.36242784, 42.370677, 42.34958942, 42.36544486, 42.366981, 42.36507, 42.352261, 42.3595732, 42.379772, 42.37207658, 42.352261, 42.36507, 42.36426344, 42.40449, 42.35980252, 42.32176526, 42.36507, 42.34465063, 42.363796, 42.37412455, 42.36507, 42.348706, 42.3494261, 42.36242784, 42.35668335, 42.35775309, 42.35169202, 42.35096144, 42.387995, 42.34054262, 42.363796, 42.396969, 42.34734473, 42.36919032, 42.34835863, 42.397828, 42.34922469, 42.36154571, 42.36346469, 42.38952436, 42.387995, 42.366981, 42.350406, 42.345392, 42.331184, 42.344796, 42.36544486, 42.3572185, 42.34734473, 42.362811, 42.378965, 42.34011512, 42.37119728, 42.3602737, 42.352409, 42.38614141, 42.372969, 42.373268, 42.383405, 42.373268, 42.383405, 42.37967148, 42.36507, 42.380287, 42.36507, 42.35560121, 42.34776345, 42.34135616, 42.37119728, 42.378965, 42.35560121, 42.32784317, 42.37438409, 42.35148193, 42.309796, 42.3625, 42.36213123, 42.3722168, 42.39223284, 42.34652004, 42.37478629, 42.3581, 42.34366582, 42.34366582, 42.33023071, 42.380287, 42.36507, 42.370803, 42.3385146, 42.373268, 42.36121165, 42.3385146, 42.366426, 42.36544486, 42.34465063, 42.36599433, 42.36599433, 42.379011, 42.36507, 42.34278116, 42.32984299, 42.32538436, 42.35560121, 42.35560121, 42.38363402, 42.35317809, 42.363796, 42.366621, 42.37207658, 42.36599433, 42.36608797, 42.39407224, 42.38952436, 42.34619708, 42.373379, 42.363732, 42.341332, 42.373379, 42.38522394, 42.3595732, 42.310579, 42.3595732, 42.38267828, 42.373268, 42.35560121, 42.3581, 42.352261, 42.37842, 42.36507, 42.36599433, 42.335741, 42.35096144, 42.35169202, 42.3722168, 42.34922469, 42.397828, 42.300923, 42.400877, 42.34619708, 42.34366582, 42.373268, 42.373268, 42.33741748, 42.373268, 42.38032335, 42.3581, 42.366981, 42.3595732, 42.35148193, 42.351356, 42.366426, 42.34924377, 42.3581, 42.351356, 42.341598, 42.380287, 42.35560121, 42.35182807, 42.373268, 42.373379, 42.380287, 42.386844, 42.37478629, 42.310579, 42.396969, 42.33978053, 42.3581, 42.352175, 42.34924377, 42.363796, 42.351146, 42.3581, 42.36507, 42.34465063, 42.3382668, 42.34894857, 42.363871, 42.3595732, 42.373379, 42.363871, 42.332817, 42.37207658, 42.37119728, 42.36507, 42.34835863, 42.345392, 42.37438409, 42.37438409, 42.3625, 42.30412793, 42.34366582, 42.351146, 42.351146, 42.33595898, 42.34366582, 42.36955298, 42.3595732, 42.34155985, 42.35154735, 42.35991176, 42.309054, 42.34953017, 42.37207658, 42.35560121, 42.2873611, 42.36213123, 42.38393225, 42.34924377, 42.34155985, 42.36955298, 42.39407224, 42.3595732, 42.3572185, 42.3595732, 42.363796, 42.3581, 42.3581, 42.3581, 42.3595732, 42.33833424, 42.35182807, 42.36599433, 42.32143814, 42.37119728, 42.37927325, 42.3391085, 42.352175, 42.34807412, 42.34155985, 42.33274392, 42.36242784, 42.396105, 42.32293117, 42.34827839, 42.35775309, 42.34652004, 42.34465063, 42.406302, 42.378965, 42.36346469, 42.34619708, 42.36599433, 42.35096144, 42.36264779, 42.35096144, 42.35892, 42.35317809, 42.35169202, 42.38952436, 42.3388956, 42.300923, 42.36507, 42.3294633, 42.398365, 42.370803, 42.345901, 42.37438409, 42.38032335, 42.3625, 42.34807412, 42.36161932, 42.366277, 42.36507, 42.366277, 42.36161932, 42.350406, 42.341598, 42.34619708, 42.34254914, 42.366981, 42.387995, 42.34954403, 42.376369, 42.373231, 42.348706, 42.37438409, 42.366426, 42.3391085, 42.3581, 42.396969, 42.366426, 42.36544486, 42.341598, 42.36544486, 42.34135616, 42.34366582, 42.362811, 42.352175, 42.37250865, 42.38614141, 42.36135838, 42.34835863, 42.39638681, 42.352409, 42.35154735, 42.34135616, 42.3625, 42.36507, 42.377945, 42.33741748, 42.3391085, 42.3595732, 42.3581, 42.34652004, 42.3581, 42.372969, 42.373379, 42.370677, 42.35169202, 42.35553628, 42.36507, 42.34619708, 42.36346469, 42.373231, 42.34924377, 42.34924377, 42.36507, 42.341598, 42.34992828, 42.36544486, 42.38717463, 42.341598, 42.372969, 42.3581, 42.34652004, 42.32143814, 42.3334, 42.38952436, 42.34954403, 42.373268, 42.3385146, 42.346563, 42.358155, 42.36507, 42.3481, 42.3481, 42.3481, 42.373268, 42.373231, 42.338629, 42.373268, 42.36356016, 42.373268, 42.36079297, 42.31886468, 42.37438409, 42.31886468, 42.326599, 42.362811, 42.33595898, 42.36435589, 42.351146, 42.351146, 42.34369056, 42.351146, 42.351146, 42.34369056, 42.36264779, 42.36264779, 42.36264779, 42.379011, 42.35169202, 42.35169202, 42.36264779, 42.36264779, 42.3572185, 42.35317809, 42.35317809, 42.35317809, 42.35182807, 42.348706, 42.400877, 42.400877, 42.373268, 42.36213123, 42.35169202, 42.36346469, 42.34740621, 42.3510045, 42.3510045, 42.351356, 42.36125722, 42.36346469, 42.36346469, 42.36125722, 42.36346469, 42.376369, 42.347241, 42.352261, 42.34960945, 42.35656092, 42.352409, 42.35656092, 42.347241, 42.396969, 42.34024645, 42.34953017, 42.35656092, 42.35656092, 42.35656092, 42.352175, 42.34135616, 42.35775309, 42.34135616, 42.372969, 42.372969, 42.3581, 42.3595732, 42.362811, 42.352175, 42.36264779, 42.36264779, 42.3581, 42.38614141, 42.348706, 42.348706, 42.336448, 42.348706, 42.383405, 42.35169202, 42.35892, 42.354659, 42.292917, 42.292917, 42.379584, 42.377945, 42.363796, 42.363796, 42.350406, 42.346563, 42.36599433, 42.341814, 42.345392, 42.380287, 42.34924377, 42.36544486, 42.36079297, 42.380287, 42.36079297, 42.380287, 42.36608797, 42.35553628, 42.35553628, 42.35082681, 42.336448, 42.3494261, 42.3494261, 42.36608797, 42.3388956, 42.3581, 42.35668335, 42.35257609, 42.35668335, 42.35257609, 42.3581, 42.352409, 42.372969, 42.34521562, 42.373268, 42.348706, 42.36213123, 42.35317809, 42.36955298, 42.3829443, 42.349496, 42.36544486, 42.351356, 42.36213123, 42.3294633, 42.366277, 42.349496, 42.35169202, 42.373268, 42.373268, 42.36860524, 42.34992828, 42.34992828, 42.35317809, 42.372969, 42.37250865, 42.36912158, 42.36079297, 42.37250865, 42.36912158, 42.36079297, 42.3388956, 42.3388956, 42.34521562, 42.34521562, 42.33658555, 42.30791, 42.38717463, 42.38717463, 42.352409, 42.352409, 42.38717463, 42.34954403, 42.338629, 42.341814, 42.38717463, 42.366277, 42.36125722, 42.33949454, 42.33462893, 42.35096144, 42.35096144, 42.3294633, 42.358155, 42.35533502, 42.36426344, 42.33023071, 42.37207658, 42.35082681, 42.36264779, 42.36264779, 42.36264779, 42.354979, 42.36860524, 42.354979, 42.37250865, 42.366277, 42.34922469, 42.34922469, 42.33023071, 42.36264779, 42.34652004, 42.36544486, 42.352261, 42.352261, 42.37150494, 42.3385146, 42.32760387, 42.32760387, 42.32760387, 42.32760387, 42.36860524, 42.36860524, 42.36860524, 42.34960945, 42.39044949, 42.366426, 42.37842, 42.352261, 42.36544486, 42.37150494, 42.36544486, 42.33758601, 42.345733, 42.36125722, 42.36125722, 42.347241, 42.37207658, 42.34404051, 42.34404051, 42.37207658, 42.34366582, 42.37207658, 42.34960945, 42.3595732, 42.36178044, 42.33658555, 42.36346469, 42.36346469, 42.36213123, 42.33658555, 42.347241, 42.34960945, 42.37207658, 42.37207658, 42.36599433, 42.36213123, 42.34373095, 42.348717, 42.34835863, 42.35182807, 42.400877, 42.400877, 42.400877, 42.3494261, 42.400877, 42.3294633, 42.33509899, 42.366621, 42.36912158, 42.34958942, 42.34807412, 42.33664795, 42.34953017, 42.34465063, 42.379584, 42.3595732, 42.32039374, 42.36135838, 42.366426, 42.331184, 42.3625, 42.341598, 42.352261, 42.352409, 42.347241, 42.347241, 42.347241, 42.353334, 42.39189812, 42.353334, 42.388966, 42.34894857, 42.37412455, 42.34895285, 42.34953017, 42.34953017, 42.343749, 42.363796, 42.34992828, 42.3494261, 42.35154735, 42.32293117, 42.3581, 42.353334, 42.378338, 42.34465063, 42.34807412, 42.36125722, 42.331184, 42.33509899, 42.371848, 42.36507, 42.34135616, 42.341598, 42.34960945, 42.33554308, 42.348717, 42.34992828, 42.33509899, 42.35553628, 42.34303291, 42.347241, 42.300664, 42.377945, 42.347241, 42.341598, 42.34881026, 42.33509899, 42.34953017, 42.349496, 42.320561, 42.34369056, 42.33509899, 42.37500235, 42.3598254, 42.348706, 42.35276621, 42.366621, 42.36224179, 42.35892, 42.34521562, 42.3334, 42.33509899, 42.34366582, 42.3334, 42.3334, 42.34366582, 42.33949454, 42.38032335, 42.3388956, 42.3595732, 42.373379, 42.348762, 42.34303291, 42.3936, 42.3572185, 42.392766, 42.35082681, 42.3625, 42.33624445, 42.36178044, 42.34827839, 42.338629, 42.362811, 42.366426, 42.36912158, 42.3339227, 42.315692, 42.34827839, 42.38762811, 42.36426344, 42.36346469, 42.34254914, 42.34827839, 42.34521562, 42.386844, 42.3388956, 42.35082681, 42.3339227, 42.33209606, 42.338629, 42.34958942, 42.373268, 42.316902, 42.34954403, 42.34521562, 42.353334, 42.3481, 42.3481, 42.34958942, 42.352261, 42.36526032, 42.35775309, 42.35775309, 42.36125722, 42.36125722, 42.331184, 42.33274392, 42.34958942, 42.36346469, 42.379011, 42.3581, 42.35553628, 42.362811, 42.3581, 42.34922469, 42.33658555, 42.36507, 42.33658555, 42.36912158, 42.36507, 42.36912158, 42.366426, 42.33462893, 42.37207658, 42.3382668, 42.34373095, 42.33758601, 42.29266593, 42.341814, 42.33376473, 42.3581, 42.362811, 42.3951715, 42.352175, 42.35560121, 42.300923, 42.38445226, 42.3636929, 42.34366582, 42.310579, 42.350406, 42.352409, 42.350406, 42.352409, 42.349496, 42.37842, 42.36125722, 42.31886468, 42.3602737, 42.38830554, 42.36435589, 42.34992828, 42.3602737, 42.35656092, 42.365673, 42.375603, 42.354659, 42.34286835, 42.37250865, 42.38717463, 42.36599433, 42.341814, 42.29266593, 42.35560121, 42.3501061, 42.366621, 42.366621, 42.348717, 42.300923, 42.377022, 42.377022, 42.378965, 42.33949454, 42.35656092, 42.34807412, 42.34366582, 42.3598254, 42.33462893, 42.3388956, 42.341598, 42.35553628, 42.35553628, 42.34835863, 42.373268, 42.36079297, 42.32143814, 42.34734473, 42.34953017, 42.373268, 42.338629, 42.36507, 42.36599433, 42.36125722, 42.345901, 42.343749, 42.3595732, 42.33833424, 42.332817, 42.34011512, 42.34474225, 42.345901, 42.39407224, 42.33023071, 42.345392, 42.32143814, 42.37438409, 42.35114198, 42.39189812, 42.32176526, 42.39189812, 42.317642, 42.35656092, 42.34373095, 42.37250865, 42.34924377, 42.40933007, 42.35082681, 42.34924377, 42.341332, 42.36254854, 42.36254854, 42.388966, 42.38567579, 42.375603, 42.371848, 42.371848, 42.35114198, 42.35114198, 42.39223284, 42.38614141, 42.33624445, 42.3595732, 42.36125722, 42.3595732, 42.3983606, 42.369885, 42.373379, 42.378338, 42.346563, 42.397828, 42.3595732, 42.380287, 42.34366582, 42.366426, 42.33595898, 42.371848, 42.292917, 42.36955298, 42.36154571, 42.3598254, 42.366426, 42.396969, 42.35560121, 42.35560121, 42.300923, 42.3595732, 42.300923, 42.34373095, 42.36264779, 42.38952436, 42.36426344, 42.354979, 42.34369056, 42.352409, 42.37500235, 42.37150494, 42.352261, 42.37250865, 42.341814, 42.3595732, 42.344792, 42.366621, 42.366621, 42.345392, 42.345392, 42.35082681, 42.345392, 42.35154735, 42.37478629, 42.363871, 42.345392, 42.369885, 42.33639915, 42.34652004, 42.36346469, 42.36346469, 42.35057, 42.34303291, 42.34827839, 42.37119728, 42.34024645, 42.36242784, 42.376369, 42.35553628, 42.36135838, 42.370677, 42.36125722, 42.370803, 42.3572185, 42.36860524, 42.34178089, 42.35560121, 42.34776345, 42.34953017, 42.35560121, 42.34776345, 42.370677, 42.34960945, 42.37207658, 42.37207658, 42.36912158, 42.341814, 42.36079297, 42.392525, 42.369885, 42.362811, 42.34894857, 42.38100143, 42.341332, 42.352261, 42.35668335, 42.352409, 42.34894857, 42.373379, 42.34922469, 42.331184, 42.38445226, 42.366277, 42.41608484, 42.38042947, 42.36254854, 42.36507, 42.33509899, 42.38445226, 42.35732922, 42.348717, 42.35775309, 42.37842, 42.363796, 42.34366582, 42.370677, 42.35082681, 42.379011, 42.362811, 42.38445226, 42.33639915, 42.33639915, 42.36346469, 42.34254914, 42.38445226, 42.35082681, 42.336448, 42.366981, 42.379011, 42.362811, 42.358155, 42.358155, 42.3595732, 42.35082681, 42.370677, 42.35276621, 42.3572185, 42.3595732, 42.35154735, 42.33624445, 42.380287, 42.341332, 42.373268, 42.363871, 42.366277, 42.3598254, 42.369885, 42.35553628, 42.36356016, 42.3602737, 42.34286835, 42.316966, 42.36912158, 42.363796, 42.36085937, 42.36085937, 42.34303291, 42.33741748, 42.35560121, 42.34303291, 42.39108438, 42.341598, 42.373379, 42.34924377, 42.34924377, 42.38952436, 42.38952436, 42.34652004, 42.38100143, 42.3625, 42.31886468, 42.31886468, 42.3572185, 42.3572185, 42.34157472, 42.41250451, 42.32143814, 42.36955298, 42.34465063, 42.40449, 42.34286835, 42.36550729, 42.35560121, 42.366426, 42.316902, 42.36264779, 42.377945, 42.397828, 42.35082681, 42.35082681, 42.377945, 42.388966, 42.34465063, 42.3595732, 42.351586, 42.351356, 42.3581, 42.34465063, 42.36346469, 42.36530095, 42.36242784, 42.373268, 42.36135838, 42.36178044, 42.37500235, 42.38762811, 42.372969, 42.392766, 42.3722168, 42.341814, 42.371848, 42.36125722, 42.3598254, 42.300923, 42.37150494, 42.37119728, 42.3572185, 42.351146, 42.383405, 42.35317809, 42.348762, 42.372969, 42.3382668, 42.366277, 42.3572185, 42.39223284, 42.346563, 42.35775309, 42.370803, 42.346563, 42.36860524, 42.36860524, 42.346563, 42.344792, 42.37438409, 42.309054, 42.346563, 42.35155308, 42.36125722, 42.370803, 42.310579, 42.34854543, 42.363871, 42.3595732, 42.310579, 42.39239749, 42.3339227, 42.362811, 42.363796, 42.39648358, 42.362811, 42.35991176, 42.36444157, 42.363871, 42.36507, 42.34373095, 42.36264779, 42.3572185, 42.36507, 42.36125722, 42.365673, 42.33462893, 42.388966, 42.380287, 42.3595732, 42.38032335, 42.36955298, 42.36125722, 42.34807412, 42.36507, 42.36955298, 42.34958942, 42.32176526, 42.3572185, 42.349496, 42.36125722, 42.34135616, 42.375603, 42.375603, 42.352261, 42.32039374, 42.34740621, 42.375603, 42.375603, 42.34740621, 42.36507, 42.36435589, 42.351356, 42.351356, 42.32176526, 42.36955298, 42.36608797, 42.392766, 42.36608797, 42.36426344, 42.366426, 42.34922469, 42.33978053, 42.34960945, 42.396969, 42.36599433, 42.366426, 42.34465063, 42.396969, 42.35317809, 42.36507, 42.370677, 42.30785224, 42.370677, 42.370803, 42.36079297, 42.387995, 42.345392, 42.34286835, 42.356052, 42.36884408, 42.320561, 42.35317809, 42.36599433, 42.33274392, 42.34366582, 42.365673, 42.338629, 42.37207658, 42.338629, 42.387995, 42.37119728, 42.34521562, 42.341814, 42.353334, 42.34922469, 42.348717, 42.36507, 42.34366582, 42.36125722, 42.37250865, 42.348706, 42.3581, 42.36079297, 42.349496, 42.36079297, 42.36079297, 42.37250865, 42.375603, 42.348706, 42.38032335, 42.362811, 42.36135838, 42.36575798, 42.37250865, 42.348717, 42.366621, 42.348717, 42.38165061, 42.35317809, 42.362811, 42.35154735, 42.38567579, 42.33741748, 42.397828, 42.3572185, 42.3572185, 42.373231, 42.370803, 42.373231, 42.34465063, 42.36530095, 42.366426, 42.362811, 42.376369, 42.34740621, 42.34135616, 42.34135616, 42.33624445, 42.356052, 42.36213123, 42.3388956, 42.38165061, 42.36435589, 42.36041775, 42.34465063, 42.36435589, 42.36435589, 42.36041775, 42.36346469, 42.36507, 42.33741748, 42.37150494, 42.38674802, 42.36507, 42.3339227, 42.338629, 42.3391085, 42.36550729, 42.3636929, 42.37207658, 42.33047365, 42.36435589, 42.36346469, 42.37842, 42.341332, 42.3602737, 42.3481, 42.3602737, 42.300923, 42.363871, 42.37438409, 42.36550729, 42.37544913, 42.34366582, 42.3581, 42.3595732, 42.32760387, 42.38032335, 42.33741748, 42.36242784, 42.34807412, 42.370803, 42.34807412, 42.352175, 42.3388956, 42.34652004, 42.35991176, 42.31786021, 42.3388956, 42.36550729, 42.36135838, 42.32760387, 42.37927325, 42.358155, 42.358155, 42.34652004, 42.36435589, 42.35169202, 42.35148193, 42.400877, 42.315692, 42.36530095, 42.358155, 42.3595732, 42.35082681, 42.33741748, 42.36530095, 42.35082681, 42.37250865, 42.345392, 42.33595898, 42.36530095, 42.36507, 42.36530095, 42.338629, 42.379584, 42.379584, 42.345392, 42.35169202, 42.38952436, 42.379011, 42.379584, 42.36178044, 42.35082681, 42.41143223, 42.396105, 42.36860524, 42.36507, 42.34652004, 42.35082681, 42.36608797, 42.36426344, 42.36507, 42.33274392, 42.35560121, 42.35533502, 42.3595732, 42.34652004, 42.336448, 42.33741748, 42.352261, 42.352261, 42.34157472, 42.3385146, 42.348762, 42.33624445, 42.347241, 42.354979, 42.366621, 42.35560121, 42.3829443, 42.33758601, 42.3572185, 42.3572185, 42.365673, 42.363871, 42.3572185, 42.366621, 42.33624445, 42.365673, 42.38674802, 42.3481, 42.34953017, 42.33741748, 42.343749, 42.379011, 42.379011, 42.36264779, 42.35560121, 42.387995, 42.352409, 42.370677, 42.373379, 42.39223284, 42.377022, 42.36507, 42.3595732, 42.379011, 42.3595732, 42.335741, 42.3595732, 42.36178741, 42.33949454, 42.36544486, 42.36544486, 42.3595732, 42.36507, 42.34827839, 42.34827839, 42.3481, 42.3481, 42.41608484, 42.36544486, 42.3481, 42.39407224, 42.34924377, 42.3481, 42.40449, 42.3388956, 42.37412455, 42.370677, 42.33978053, 42.365673, 42.365673, 42.3388956, 42.37412455, 42.34404051, 42.35775309, 42.3385146, 42.373379, 42.352409, 42.33741748, 42.37119728, 42.376369, 42.3494261, 42.36356016, 42.36346469, 42.37842, 42.35114198, 42.3581, 42.38952436, 42.37150494, 42.3385146, 42.363871, 42.352261, 42.366426, 42.37119728, 42.366621, 42.3572185, 42.36242784, 42.3572185, 42.34960945, 42.366426, 42.3572185, 42.352261, 42.33462893, 42.386844, 42.34366582, 42.33624445, 42.37438409, 42.35668335, 42.37250865, 42.380287, 42.37438409, 42.34924377, 42.36154571, 42.348717, 42.388966, 42.36774122, 42.348762, 42.3481, 42.38614141, 42.35169202, 42.35317809, 42.36300378, 42.36550729, 42.36242784, 42.35154735, 42.36550729, 42.348706, 42.36955298, 42.373379, 42.3339227, 42.365673, 42.35553628, 42.35082681, 42.34807412, 42.33658555, 42.38830554, 42.352409, 42.36955298, 42.348717, 42.33658555, 42.34254914, 42.33658555, 42.34303291, 42.36955298, 42.341814, 42.3572185, 42.36860524, 42.36079297, 42.3598254, 42.38032335, 42.36224179, 42.35560121, 42.36955298, 42.3598254, 42.3572185, 42.33376473, 42.379584, 42.29167943, 42.348717, 42.345733, 42.348717, 42.36599433, 42.36955298, 42.34254914, 42.3391085, 42.3572185, 42.354979, 42.34157472, 42.34521562, 42.365673, 42.34366582, 42.34740621, 42.366426, 42.36912158, 42.38170676, 42.33376473, 42.35775309, 42.36435589, 42.34465063, 42.36178741, 42.37412455, 42.34369056, 42.3598254, 42.2856944, 42.37119728, 42.36178044, 42.34135616, 42.32760387, 42.36178044, 42.3936, 42.36178741, 42.371848, 42.3625, 42.36544486, 42.34366582, 42.3602737, 42.341814, 42.33833424, 42.34922469, 42.341598, 42.366277, 42.37207658, 42.36242784, 42.3572185, 42.34922469, 42.341598, 42.370677, 42.353334, 42.353334, 42.3391085, 42.36125722, 42.3391085, 42.36544486, 42.3339227, 42.344792, 42.353334, 42.35082681, 42.36507, 42.344792, 42.36213123, 42.352409, 42.33509899, 42.344792, 42.3572185, 42.362811, 42.35155308, 42.351146, 42.3625, 42.351146, 42.36264779, 42.33978053, 42.33978053, 42.36530095, 42.36356016, 42.36530095, 42.341332, 42.3391085, 42.34740621, 42.37412455, 42.35096144, 42.34369056, 42.378338, 42.34465063, 42.352261, 42.352261, 42.352261, 42.378338, 42.36507, 42.387995, 42.34366582, 42.34254914, 42.35775309, 42.35257609, 42.34521562, 42.35169202, 42.36154571, 42.34366582, 42.36125722, 42.34366582, 42.36426344, 42.35257609, 42.36213123, 42.373268], \"lon\": [-71.07782811, -71.09115601, -71.10015746, -71.08277142, -71.11305356, -71.10006094, -71.09169, -71.104412, -71.08065777, -71.08065777, -71.0724476, -71.1031, -71.114214, -71.04817357, -71.09522222, -71.10286117, -71.10286117, -71.04817357, -71.09670274, -71.062679, -71.062679, -71.114025, -71.069616, -71.03877, -71.059367, -71.08579015, -71.07946779, -71.123338, -71.055547, -71.04817357, -71.13961272, -71.0653062, -71.08822, -71.06575, -71.123024, -71.093198, -71.123024, -71.08822, -71.0653062, -71.1031, -71.118579, -71.1031, -71.08495474, -71.0972821, -71.054812, -71.063187, -71.123338, -71.063348, -71.0954931, -71.05355408, -71.0729, -71.0654676, -71.05737358, -71.08495474, -71.066289, -71.059367, -71.10129476, -71.08822, -71.10057324, -71.08822, -71.11714125, -71.11901879, -71.06383499, -71.060292, -71.097009, -71.076529, -71.076529, -71.114025, -71.114214, -71.03877, -71.0514432, -71.13022771, -71.0729, -71.12653291, -71.059367, -71.09627098, -71.08798563, -71.12126246, -71.1506152, -71.16031677, -71.08044855, -71.111075, -71.13997217, -71.1169414, -71.08995434, -71.10341903, -71.129164, -71.10393405, -71.07657015, -71.1305093, -71.05142981, -71.095171, -71.10394478, -71.0901582, -71.11305356, -71.08336953, -71.093198, -71.068607, -71.06055722, -71.10015746, -71.09930186, -71.105301, -71.13022771, -71.1065, -71.076529, -71.108279, -71.1108917, -71.09627098, -71.07118962, -71.09627098, -71.09759867, -71.06886953, -71.1182757, -71.064263, -71.1031, -71.116772, -71.1065, -71.11133695, -71.04817357, -71.13275303, -71.06575, -71.0514432, -71.119084, -71.10129476, -71.07404083, -71.105495, -71.11543, -71.08633604, -71.04569256, -71.10393405, -71.10057324, -71.03274185, -71.05142981, -71.093198, -71.1506152, -71.15728851, -71.129164, -71.11543, -71.0728687, -71.10129476, -71.097009, -71.06383499, -71.094445, -71.094445, -71.046229, -71.08277142, -71.04436085, -71.064263, -71.10855814, -71.11903489, -71.10015746, -71.08216792, -71.060292, -71.09169, -71.10006094, -71.093198, -71.12845883, -71.104412, -71.05355408, -71.1169414, -71.104374, -71.10394478, -71.0653062, -71.104374, -71.10015746, -71.12820532, -71.0972821, -71.12188071, -71.11626681, -71.093198, -71.104412, -71.07118962, -71.11387163, -71.03877, -71.069616, -71.15168806, -71.07746601, -71.09126061, -71.0972821, -71.15027189, -71.13894682, -71.114249, -71.10129476, -71.104412, -71.08582377, -71.08798563, -71.09126061, -71.14797131, -71.10394478, -71.10129476, -71.10393405, -71.129042, -71.137313, -71.116865, -71.046229, -71.07242074, -71.04817357, -71.11412136, -71.12126246, -71.10393405, -71.129164, -71.11387163, -71.04817357, -71.128374, -71.0972821, -71.10809952, -71.050877, -71.094445, -71.095171, -71.10809952, -71.107669, -71.07421449, -71.07657015, -71.050877, -71.09169, -71.09522222, -71.1031, -71.116012, -71.060292, -71.105301, -71.1031, -71.09126061, -71.056067, -71.0972821, -71.08138848, -71.08721308, -71.08721308, -71.08721308, -71.08721308, -71.132446, -71.13275303, -71.09759867, -71.07118962, -71.10015746, -71.07118962, -71.08495474, -71.063187, -71.063187, -71.055547, -71.10809952, -71.1506152, -71.070629, -71.10129476, -71.039431, -71.123831, -71.060292, -71.10394478, -71.062256, -71.16031677, -71.10394478, -71.06886953, -71.09930186, -71.09759867, -71.10129476, -71.08495474, -71.123024, -71.08311072, -71.02495, -71.060292, -71.1213335, -71.063187, -71.0620996, -71.069957, -71.1182757, -71.0801376, -71.064608, -71.1060667, -71.09930186, -71.12536222, -71.08336953, -71.104412, -71.06384031, -71.059367, -71.11387163, -71.13022771, -71.062679, -71.120886, -71.05960783, -71.116865, -71.09522222, -71.08582377, -71.07421449, -71.1031, -71.10006094, -71.062679, -71.12177596, -71.093198, -71.0801376, -71.0954931, -71.104412, -71.107818, -71.107818, -71.0689446, -71.10393405, -71.08065777, -71.08579015, -71.094445, -71.06384031, -71.10393405, -71.05142981, -71.08633604, -71.07782811, -71.0514432, -71.114025, -71.10809952, -71.076529, -71.114214, -71.097009, -71.08714389, -71.08582377, -71.120886, -71.104412, -71.114214, -71.10855814, -71.06886953, -71.06886953, -71.08138848, -71.094445, -71.107818, -71.09115601, -71.069616, -71.068607, -71.0782814, -71.09169, -71.07404083, -71.10129476, -71.10237297, -71.08065777, -71.08065777, -71.11903489, -71.1031, -71.105495, -71.09522222, -71.076847, -71.08798563, -71.0514432, -71.057629, -71.130516, -71.116865, -71.10391524, -71.12260755, -71.125107, -71.08582377, -71.0539, -71.10855814, -71.10394478, -71.10394478, -71.076529, -71.09930186, -71.05737358, -71.13776207, -71.123831, -71.119945, -71.063187, -71.10129476, -71.039431, -71.10809952, -71.050877, -71.11387163, -71.137313, -71.10394478, -71.137313, -71.050877, -71.1213335, -71.093198, -71.060292, -71.09732501, -71.07249312, -71.08995434, -71.08995434, -71.13275303, -71.1213335, -71.11903489, -71.069616, -71.129164, -71.105301, -71.13022771, -71.105495, -71.10015746, -71.10341903, -71.08798563, -71.105495, -71.12188071, -71.04167744, -71.0539, -71.11412136, -71.07657015, -71.119945, -71.125107, -71.114214, -71.08044855, -71.11903489, -71.13022771, -71.10129476, -71.08277142, -71.13275303, -71.105495, -71.0972821, -71.10129476, -71.076529, -71.0728687, -71.107669, -71.07118962, -71.046229, -71.06166646, -71.08582377, -71.046229, -71.08386572, -71.10006094, -71.044024, -71.1031, -71.07404083, -71.10129476, -71.027448, -71.08149976, -71.11903489, -71.10407918, -71.10407918, -71.071111, -71.14260614, -71.08582377, -71.10057324, -71.116865, -71.12653291, -71.06781138, -71.08311072, -71.064263, -71.123831, -71.076847, -71.04536798, -71.08579015, -71.105668, -71.094445, -71.116865, -71.10393405, -71.10129476, -71.063187, -71.120886, -71.10878613, -71.059367, -71.11714125, -71.09169, -71.097009, -71.09169, -71.006098, -71.093198, -71.10393405, -71.08138848, -71.10393405, -71.09759867, -71.08277142, -71.052608, -71.11903489, -71.054812, -71.104374, -71.10015746, -71.123024, -71.08495474, -71.006098, -71.119084, -71.08579015, -71.07404083, -71.063187, -71.08311072, -71.08495474, -71.093198, -71.11901879, -71.118579, -71.07242074, -71.0514432, -71.08277142, -71.11903489, -71.10809952, -71.118579, -71.095171, -71.10394478, -71.09115601, -71.03977829, -71.08386572, -71.105495, -71.09812, -71.104412, -71.03648586, -71.0954931, -71.11714125, -71.12126246, -71.08044855, -71.1031, -71.10006094, -71.06384031, -71.05747275, -71.105668, -71.12046447, -71.0620996, -71.09169, -71.105301, -71.07657015, -71.08495474, -71.125107, -71.06384031, -71.13022771, -71.023739, -71.060292, -71.07739207, -71.139459, -71.107593, -71.10014141, -71.11714125, -71.07657015, -71.054812, -71.10728681, -71.06764905, -71.08065777, -71.10129476, -71.11133695, -71.119945, -71.10394478, -71.104374, -71.07404083, -71.097009, -71.105495, -71.11714125, -71.0901582, -71.15988486, -71.11387163, -71.12126246, -71.12126246, -71.1213335, -71.123338, -71.09115601, -71.123338, -71.123338, -71.13997217, -71.1182757, -71.15027189, -71.11901879, -71.06886953, -71.062679, -71.07421449, -71.105495, -71.076847, -71.11133695, -71.054812, -71.10129476, -71.13894682, -71.0728687, -71.11387163, -71.052608, -71.11903489, -71.10341903, -71.10393405, -71.10015746, -71.10015746, -71.1506152, -71.08822, -71.1031, -71.070629, -71.08582377, -71.055547, -71.10407918, -71.06559185, -71.09522222, -71.056067, -71.056067, -71.13275303, -71.10393405, -71.10878613, -71.093198, -71.08822, -71.093198, -71.09169, -71.09169, -71.06166646, -71.114214, -71.093198, -71.076529, -71.10402523, -71.093198, -71.116865, -71.08582377, -71.097009, -71.15027189, -71.10391524, -71.1031, -71.12852452, -71.069616, -71.09115601, -71.05737358, -71.105495, -71.08044855, -71.1169414, -71.09850592, -71.07242074, -71.119084, -71.09886996, -71.10446509, -71.104412, -71.10728681, -71.11903489, -71.07116282, -71.09732501, -71.08495474, -71.052608, -71.107593, -71.1031, -71.060292, -71.129164, -71.095171, -71.123338, -71.093198, -71.0728687, -71.07782811, -71.07782811, -71.1169414, -71.04167744, -71.07404083, -71.093198, -71.052608, -71.076529, -71.04817357, -71.056067, -71.08721308, -71.10446509, -71.10129476, -71.127754, -71.09850592, -71.044024, -71.119945, -71.120886, -71.129164, -71.128374, -71.1031, -71.059367, -71.044024, -71.105668, -71.10878613, -71.062679, -71.123831, -71.11903489, -71.1065, -71.11714125, -71.05752244, -71.05752244, -71.137313, -71.07116282, -71.050877, -71.0954931, -71.08582377, -71.08495474, -71.123338, -71.10006094, -71.08277142, -71.10341903, -71.119084, -71.10341903, -71.066289, -71.07782811, -71.093198, -71.15412891, -71.10129476, -71.063348, -71.069957, -71.09930186, -71.11387163, -71.07421449, -71.09930186, -71.08579015, -71.11387163, -71.114214, -71.06166646, -71.15168806, -71.06166646, -71.10394478, -71.07116282, -71.07421449, -71.10006094, -71.08044855, -71.12011306, -71.125107, -71.08065777, -71.09732501, -71.09732501, -71.09732501, -71.06559185, -71.10015746, -71.0875672, -71.123024, -71.057629, -71.093198, -71.123024, -71.123024, -71.093198, -71.093198, -71.093198, -71.118579, -71.02495, -71.055547, -71.052163, -71.123338, -71.10129476, -71.10809952, -71.10728681, -71.12188071, -71.048927, -71.064263, -71.104374, -71.105495, -71.097009, -71.104412, -71.09732501, -71.06384031, -71.052163, -71.07946779, -71.11412136, -71.07946779, -71.09732501, -71.09522222, -71.13776207, -71.1031, -71.03977829, -71.10129476, -71.093198, -71.064263, -71.093198, -71.10402523, -71.06886953, -71.09627098, -71.093198, -71.066498, -71.08311072, -71.10446509, -71.1031, -71.11387163, -71.08044855, -71.10129476, -71.07116282, -71.10809952, -71.107818, -71.076472, -71.07782811, -71.111075, -71.07903779, -71.08495474, -71.0620996, -71.0653062, -71.1031, -71.129042, -71.07242074, -71.0620996, -71.129164, -71.050877, -71.08995434, -71.08495474, -71.08138848, -71.129164, -71.06384031, -71.119084, -71.10393405, -71.1031, -71.1031, -71.119084, -71.093198, -71.10015746, -71.10015746, -71.15168806, -71.10015746, -71.13275303, -71.08065777, -71.10129476, -71.060292, -71.052608, -71.10855814, -71.1031, -71.10341903, -71.104412, -71.1031, -71.10809952, -71.104412, -71.09115601, -71.10015746, -71.08798563, -71.046229, -71.11387163, -71.06886953, -71.064608, -71.050877, -71.118579, -71.105668, -71.10402523, -71.059367, -71.07404083, -71.09670274, -71.093198, -71.09126061, -71.07739207, -71.10728681, -71.119084, -71.119084, -71.123831, -71.08995434, -71.108279, -71.11387163, -71.08582377, -71.08044855, -71.13426981, -71.055547, -71.0782814, -71.048927, -71.13426981, -71.08065777, -71.09759867, -71.1031, -71.081198, -71.07421449, -71.08065777, -71.10394478, -71.137313, -71.08495474, -71.044024, -71.093198, -71.105495, -71.03918549, -71.130516, -71.11305356, -71.050699, -71.05747275, -71.095171, -71.093198, -71.10057324, -71.11387163, -71.123831, -71.09759867, -71.107341, -71.10057324, -71.08044855, -71.093198, -71.09670274, -71.123024, -71.137313, -71.1031, -71.123338, -71.08582377, -71.03877, -71.048927, -71.11901879, -71.03648586, -71.10237297, -71.1031, -71.11714125, -71.1060667, -71.10286117, -71.093198, -71.07118962, -71.123024, -71.0954931, -71.10015746, -71.060292, -71.06166646, -71.07782811, -71.07657015, -71.12260755, -71.130516, -71.04436085, -71.118579, -71.08138848, -71.0901582, -71.114025, -71.104374, -71.104374, -71.118579, -71.093198, -71.055547, -71.07739207, -71.105301, -71.129042, -71.07739207, -71.07404083, -71.1031, -71.05960783, -71.11387163, -71.04569256, -71.114214, -71.08336953, -71.05737358, -71.120886, -71.07782811, -71.10394478, -71.118579, -71.123338, -71.07118962, -71.09169, -71.08138848, -71.08495474, -71.129164, -71.08495474, -71.08495474, -71.076529, -71.07946779, -71.08277142, -71.076472, -71.1031, -71.123831, -71.10129476, -71.027448, -71.08995434, -71.123831, -71.1031, -71.1182757, -71.123413, -71.05960783, -71.10984161, -71.1031, -71.09732501, -71.129164, -71.054812, -71.1031, -71.097009, -71.0620996, -71.08495474, -71.06166646, -71.10393405, -71.11903489, -71.07782811, -71.119084, -71.08138848, -71.129164, -71.123024, -71.10016808, -71.11714125, -71.13997217, -71.130516, -71.13275303, -71.13776207, -71.10057324, -71.1169414, -71.119084, -71.076472, -71.108279, -71.069616, -71.095171, -71.031614, -71.08277142, -71.11387163, -71.10016808, -71.056067, -71.068607, -71.10061884, -71.09759867, -71.12852452, -71.062679, -71.0782814, -71.094445, -71.118579, -71.107593, -71.118579, -71.107593, -71.0954931, -71.1031, -71.125107, -71.1031, -71.10394478, -71.04535997, -71.08336953, -71.09759867, -71.068607, -71.10394478, -71.12536222, -71.10015746, -71.04436085, -71.092225, -71.08822, -71.09115601, -71.12188071, -71.07746601, -71.08065777, -71.13320231, -71.093198, -71.08582377, -71.08582377, -71.05060093, -71.125107, -71.1031, -71.104412, -71.07404083, -71.118579, -71.0653062, -71.07404083, -71.105495, -71.08277142, -71.09732501, -71.09522222, -71.09522222, -71.119945, -71.1031, -71.05747275, -71.08386572, -71.12177596, -71.10394478, -71.10394478, -71.10855814, -71.04817357, -71.129164, -71.114214, -71.08995434, -71.09522222, -71.08633604, -71.11133695, -71.1169414, -71.10728681, -71.111075, -71.124565, -71.076847, -71.111075, -71.01063069, -71.10129476, -71.107341, -71.10129476, -71.14347895, -71.118579, -71.10394478, -71.093198, -71.123831, -71.105668, -71.1031, -71.09522222, -71.03877, -71.07782811, -71.11903489, -71.12188071, -71.13275303, -71.130516, -71.114249, -71.116772, -71.10728681, -71.08582377, -71.118579, -71.118579, -71.10286117, -71.118579, -71.10878613, -71.093198, -71.076472, -71.10129476, -71.04436085, -71.059367, -71.105495, -71.0972821, -71.093198, -71.059367, -71.123338, -71.125107, -71.10394478, -71.06781138, -71.118579, -71.111075, -71.125107, -71.09812, -71.13320231, -71.107341, -71.123024, -71.1213335, -71.093198, -71.055547, -71.0972821, -71.129164, -71.066289, -71.093198, -71.1031, -71.09732501, -71.13894682, -71.15027189, -71.050877, -71.10129476, -71.111075, -71.050877, -71.081198, -71.08995434, -71.09759867, -71.1031, -71.13997217, -71.069616, -71.10015746, -71.10015746, -71.08822, -71.07929528, -71.08582377, -71.066289, -71.066289, -71.046229, -71.08582377, -71.08579015, -71.10129476, -71.06886953, -71.12126246, -71.05142981, -71.11543, -71.13022771, -71.08995434, -71.10394478, -71.071111, -71.09115601, -71.13961272, -71.0972821, -71.06886953, -71.08579015, -71.11133695, -71.10129476, -71.11387163, -71.10129476, -71.129164, -71.093198, -71.093198, -71.093198, -71.10129476, -71.1305093, -71.06781138, -71.09522222, -71.09126061, -71.09759867, -71.10341903, -71.0514432, -71.055547, -71.07657015, -71.06886953, -71.11626681, -71.08495474, -71.139459, -71.10014141, -71.08044855, -71.10393405, -71.08065777, -71.09732501, -71.132446, -71.068607, -71.10057324, -71.10728681, -71.09522222, -71.07782811, -71.10006094, -71.07782811, -71.057629, -71.04817357, -71.11903489, -71.1169414, -71.08149976, -71.114249, -71.1031, -71.0901582, -71.107818, -71.104412, -71.063187, -71.10015746, -71.10878613, -71.08822, -71.07657015, -71.08043551, -71.09169, -71.1031, -71.09169, -71.08043551, -71.108279, -71.123338, -71.10728681, -71.07421449, -71.076472, -71.119084, -71.07242074, -71.114025, -71.120886, -71.097009, -71.10015746, -71.105495, -71.0514432, -71.093198, -71.123024, -71.105495, -71.08277142, -71.123338, -71.08277142, -71.08336953, -71.08582377, -71.056067, -71.055547, -71.11305356, -71.0782814, -71.09670274, -71.13997217, -71.12011306, -71.062679, -71.12126246, -71.08336953, -71.08822, -71.1031, -71.116865, -71.10286117, -71.0514432, -71.10129476, -71.093198, -71.08065777, -71.093198, -71.094445, -71.111075, -71.076529, -71.11903489, -71.0728687, -71.1031, -71.10728681, -71.10057324, -71.120886, -71.0972821, -71.0972821, -71.1031, -71.123338, -71.07739207, -71.08277142, -71.08714389, -71.123338, -71.094445, -71.093198, -71.08065777, -71.09126061, -71.02495, -71.1169414, -71.07242074, -71.118579, -71.07404083, -71.128374, -71.052163, -71.1031, -71.03764, -71.03764, -71.03764, -71.118579, -71.120886, -71.1065, -71.118579, -71.08216792, -71.118579, -71.07118962, -71.04536798, -71.10015746, -71.04536798, -71.066498, -71.056067, -71.046229, -71.06959369, -71.066289, -71.066289, -71.10235287, -71.066289, -71.066289, -71.10235287, -71.10006094, -71.10006094, -71.10006094, -71.119945, -71.11903489, -71.11903489, -71.10006094, -71.10006094, -71.11387163, -71.04817357, -71.04817357, -71.04817357, -71.06781138, -71.097009, -71.116772, -71.116772, -71.118579, -71.09115601, -71.11903489, -71.10057324, -71.08678415, -71.04930013, -71.04930013, -71.059367, -71.06528744, -71.10057324, -71.10057324, -71.06528744, -71.10057324, -71.114025, -71.105301, -71.123831, -71.10391524, -71.14167538, -71.062679, -71.14167538, -71.105301, -71.123024, -71.15168806, -71.13022771, -71.14167538, -71.14167538, -71.14167538, -71.055547, -71.08336953, -71.10393405, -71.08336953, -71.094445, -71.094445, -71.093198, -71.10129476, -71.056067, -71.055547, -71.10006094, -71.10006094, -71.093198, -71.0782814, -71.097009, -71.097009, -71.023739, -71.097009, -71.107593, -71.11903489, -71.057629, -71.053181, -71.06575, -71.06575, -71.095236, -71.116865, -71.129164, -71.129164, -71.108279, -71.128374, -71.09522222, -71.090179, -71.069616, -71.125107, -71.0972821, -71.08277142, -71.07118962, -71.125107, -71.07118962, -71.125107, -71.08633604, -71.0728687, -71.0728687, -71.08981088, -71.023739, -71.0620996, -71.0620996, -71.08633604, -71.08149976, -71.093198, -71.06166646, -71.06764405, -71.06166646, -71.06764405, -71.093198, -71.062679, -71.094445, -71.06384031, -71.118579, -71.097009, -71.09115601, -71.04817357, -71.08579015, -71.12449831, -71.10057592, -71.08277142, -71.059367, -71.09115601, -71.0901582, -71.09169, -71.10057592, -71.11903489, -71.118579, -71.118579, -71.09930186, -71.07739207, -71.07739207, -71.04817357, -71.094445, -71.11305356, -71.11638672, -71.07118962, -71.11305356, -71.11638672, -71.07118962, -71.08149976, -71.08149976, -71.06384031, -71.06384031, -71.09886996, -71.080952, -71.08714389, -71.08714389, -71.062679, -71.062679, -71.08714389, -71.07242074, -71.1065, -71.090179, -71.08714389, -71.09169, -71.06528744, -71.08020781, -71.10407918, -71.07782811, -71.07782811, -71.0901582, -71.052163, -71.05822917, -71.1182757, -71.05060093, -71.08995434, -71.08981088, -71.10006094, -71.10006094, -71.10006094, -71.063348, -71.09930186, -71.063348, -71.11305356, -71.09169, -71.13275303, -71.13275303, -71.05060093, -71.10006094, -71.08065777, -71.08277142, -71.123831, -71.123831, -71.07249312, -71.07404083, -71.1108917, -71.1108917, -71.1108917, -71.1108917, -71.09930186, -71.09930186, -71.09930186, -71.10391524, -71.1085595, -71.105495, -71.105668, -71.123831, -71.08277142, -71.07249312, -71.08277142, -71.09627098, -71.100694, -71.06528744, -71.06528744, -71.105301, -71.08995434, -71.05737627, -71.05737627, -71.08995434, -71.08582377, -71.08995434, -71.10391524, -71.10129476, -71.10809952, -71.09886996, -71.10057324, -71.10057324, -71.09115601, -71.09886996, -71.105301, -71.10391524, -71.08995434, -71.08995434, -71.09522222, -71.09115601, -71.11614107, -71.085954, -71.13997217, -71.06781138, -71.116772, -71.116772, -71.116772, -71.0620996, -71.116772, -71.0901582, -71.07903779, -71.114214, -71.11638672, -71.07946779, -71.07657015, -71.0689446, -71.13022771, -71.09732501, -71.095236, -71.10129476, -71.05355408, -71.09670274, -71.105495, -71.095171, -71.08822, -71.123338, -71.123831, -71.062679, -71.105301, -71.105301, -71.105301, -71.137313, -71.09745376, -71.137313, -71.132788, -71.15027189, -71.054812, -71.16031677, -71.13022771, -71.13022771, -71.062256, -71.129164, -71.07739207, -71.0620996, -71.12126246, -71.10014141, -71.093198, -71.137313, -71.048927, -71.09732501, -71.07657015, -71.06528744, -71.095171, -71.07903779, -71.060292, -71.1031, -71.08336953, -71.123338, -71.10391524, -71.1506152, -71.085954, -71.07739207, -71.07903779, -71.0728687, -71.0668873, -71.105301, -71.060295, -71.116865, -71.105301, -71.123338, -71.04167744, -71.07903779, -71.13022771, -71.10057592, -71.06198, -71.10235287, -71.07903779, -71.14871614, -71.05979576, -71.097009, -71.15988486, -71.114214, -71.08311072, -71.057629, -71.06384031, -71.02495, -71.07903779, -71.08582377, -71.02495, -71.02495, -71.08582377, -71.08020781, -71.10878613, -71.08149976, -71.10129476, -71.111075, -71.082383, -71.0668873, -71.143941, -71.11387163, -71.129042, -71.08981088, -71.08822, -71.08798563, -71.10809952, -71.08044855, -71.1065, -71.056067, -71.105495, -71.11638672, -71.10446509, -71.098634, -71.08044855, -71.08318716, -71.1182757, -71.10057324, -71.07421449, -71.08044855, -71.06384031, -71.09812, -71.08149976, -71.08981088, -71.10446509, -71.12845883, -71.1065, -71.07946779, -71.118579, -71.091946, -71.07242074, -71.06384031, -71.137313, -71.03764, -71.03764, -71.07946779, -71.123831, -71.18573324, -71.10393405, -71.10393405, -71.06528744, -71.06528744, -71.095171, -71.11626681, -71.07946779, -71.10057324, -71.119945, -71.093198, -71.0728687, -71.056067, -71.093198, -71.13275303, -71.09886996, -71.1031, -71.09886996, -71.11638672, -71.1031, -71.11638672, -71.105495, -71.10407918, -71.08995434, -71.13894682, -71.11614107, -71.09627098, -71.12119539, -71.090179, -71.12046447, -71.093198, -71.056067, -71.09850592, -71.055547, -71.10394478, -71.114249, -71.07514855, -71.0875672, -71.08582377, -71.107341, -71.108279, -71.062679, -71.108279, -71.062679, -71.10057592, -71.105668, -71.06528744, -71.04536798, -71.12852452, -71.11067977, -71.06959369, -71.07739207, -71.12852452, -71.14167538, -71.064263, -71.064608, -71.053181, -71.14127841, -71.11305356, -71.08714389, -71.09522222, -71.090179, -71.12119539, -71.10394478, -71.07720464, -71.114214, -71.114214, -71.085954, -71.114249, -71.056605, -71.056605, -71.068607, -71.08020781, -71.14167538, -71.07657015, -71.08582377, -71.05979576, -71.10407918, -71.08149976, -71.123338, -71.0728687, -71.0728687, -71.13997217, -71.118579, -71.07118962, -71.09126061, -71.10016808, -71.13022771, -71.118579, -71.1065, -71.1031, -71.09522222, -71.06528744, -71.063187, -71.062256, -71.10129476, -71.1305093, -71.081198, -71.10061884, -71.07648162, -71.063187, -71.11133695, -71.05060093, -71.069616, -71.09126061, -71.10015746, -71.07329249, -71.09745376, -71.10984161, -71.09745376, -71.056664, -71.14167538, -71.11614107, -71.11305356, -71.0972821, -71.06381878, -71.08981088, -71.0972821, -71.076847, -71.05737358, -71.05737358, -71.132788, -71.11412136, -71.064608, -71.060292, -71.060292, -71.07329249, -71.07329249, -71.07746601, -71.0782814, -71.08798563, -71.10129476, -71.06528744, -71.10129476, -71.06373843, -71.069957, -71.111075, -71.048927, -71.128374, -71.130516, -71.10129476, -71.125107, -71.08582377, -71.105495, -71.046229, -71.060292, -71.06575, -71.08579015, -71.13776207, -71.05979576, -71.105495, -71.123024, -71.10394478, -71.10394478, -71.114249, -71.10129476, -71.114249, -71.11614107, -71.10006094, -71.1169414, -71.1182757, -71.063348, -71.10235287, -71.062679, -71.14871614, -71.07249312, -71.123831, -71.11305356, -71.090179, -71.10129476, -71.044024, -71.114214, -71.114214, -71.069616, -71.069616, -71.08981088, -71.069616, -71.12126246, -71.13320231, -71.050877, -71.069616, -71.069957, -71.07306711, -71.08065777, -71.10057324, -71.10057324, -71.166491, -71.0668873, -71.08044855, -71.09759867, -71.15168806, -71.08495474, -71.114025, -71.0728687, -71.09670274, -71.076529, -71.06528744, -71.104412, -71.11387163, -71.09930186, -71.03987017, -71.10394478, -71.04535997, -71.13022771, -71.10394478, -71.04535997, -71.076529, -71.10391524, -71.08995434, -71.08995434, -71.11638672, -71.090179, -71.07118962, -71.105587, -71.069957, -71.056067, -71.15027189, -71.10402523, -71.076847, -71.123831, -71.06166646, -71.062679, -71.15027189, -71.111075, -71.13275303, -71.095171, -71.07514855, -71.09169, -71.15315407, -71.06055722, -71.05737358, -71.1031, -71.07903779, -71.07514855, -71.1467354, -71.085954, -71.10393405, -71.105668, -71.129164, -71.08582377, -71.076529, -71.08981088, -71.119945, -71.056067, -71.07514855, -71.07306711, -71.07306711, -71.10057324, -71.07421449, -71.07514855, -71.08981088, -71.023739, -71.076472, -71.119945, -71.056067, -71.052163, -71.052163, -71.10129476, -71.08981088, -71.076529, -71.15988486, -71.11387163, -71.10129476, -71.12126246, -71.08798563, -71.125107, -71.076847, -71.118579, -71.050877, -71.09169, -71.05979576, -71.069957, -71.0728687, -71.08216792, -71.12852452, -71.14127841, -71.104374, -71.11638672, -71.129164, -71.08551858, -71.08551858, -71.0668873, -71.10286117, -71.10394478, -71.0668873, -71.09039426, -71.123338, -71.111075, -71.0972821, -71.0972821, -71.1169414, -71.1169414, -71.08065777, -71.10402523, -71.08822, -71.04536798, -71.04536798, -71.11387163, -71.11387163, -71.0689044, -71.05842225, -71.09126061, -71.08579015, -71.09732501, -71.123413, -71.14127841, -71.0801376, -71.10394478, -71.105495, -71.091946, -71.10006094, -71.116865, -71.130516, -71.08981088, -71.08981088, -71.116865, -71.132788, -71.09732501, -71.10129476, -71.04569256, -71.059367, -71.093198, -71.09732501, -71.10057324, -71.06092191, -71.08495474, -71.118579, -71.09670274, -71.10809952, -71.14871614, -71.08318716, -71.094445, -71.129042, -71.12188071, -71.090179, -71.060292, -71.06528744, -71.05979576, -71.114249, -71.07249312, -71.09759867, -71.11387163, -71.066289, -71.107593, -71.04817357, -71.082383, -71.094445, -71.13894682, -71.09169, -71.11387163, -71.07746601, -71.128374, -71.10393405, -71.104412, -71.128374, -71.09930186, -71.09930186, -71.128374, -71.044024, -71.10015746, -71.11543, -71.128374, -71.07569031, -71.06528744, -71.104412, -71.107341, -71.06559185, -71.050877, -71.10129476, -71.107341, -71.15058332, -71.10446509, -71.056067, -71.129164, -71.0654676, -71.056067, -71.05142981, -71.18091374, -71.050877, -71.1031, -71.11614107, -71.10006094, -71.11387163, -71.1031, -71.06528744, -71.064263, -71.10407918, -71.132788, -71.125107, -71.10129476, -71.10878613, -71.08579015, -71.06528744, -71.07657015, -71.1031, -71.08579015, -71.07946779, -71.10984161, -71.11387163, -71.10057592, -71.06528744, -71.08336953, -71.064608, -71.064608, -71.123831, -71.05355408, -71.08678415, -71.064608, -71.064608, -71.08678415, -71.1031, -71.06959369, -71.059367, -71.059367, -71.10984161, -71.08579015, -71.08633604, -71.129042, -71.08633604, -71.1182757, -71.105495, -71.13275303, -71.1213335, -71.10391524, -71.123024, -71.09522222, -71.105495, -71.09732501, -71.123024, -71.04817357, -71.1031, -71.076529, -71.06512249, -71.076529, -71.104412, -71.07118962, -71.119084, -71.069616, -71.14127841, -71.069849, -71.03977829, -71.06198, -71.04817357, -71.09522222, -71.11626681, -71.08582377, -71.064263, -71.1065, -71.08995434, -71.1065, -71.119084, -71.09759867, -71.06384031, -71.090179, -71.137313, -71.13275303, -71.085954, -71.1031, -71.08582377, -71.06528744, -71.11305356, -71.097009, -71.093198, -71.07118962, -71.10057592, -71.07118962, -71.07118962, -71.11305356, -71.064608, -71.097009, -71.10878613, -71.056067, -71.09670274, -71.07699394, -71.11305356, -71.085954, -71.114214, -71.085954, -71.13426981, -71.04817357, -71.056067, -71.12126246, -71.11412136, -71.10286117, -71.130516, -71.11387163, -71.11387163, -71.120886, -71.104412, -71.120886, -71.09732501, -71.06092191, -71.105495, -71.056067, -71.114025, -71.08678415, -71.08336953, -71.08336953, -71.08798563, -71.069849, -71.09115601, -71.08149976, -71.13426981, -71.06959369, -71.05752244, -71.09732501, -71.06959369, -71.06959369, -71.05752244, -71.10057324, -71.1031, -71.10286117, -71.07249312, -71.11901879, -71.1031, -71.10446509, -71.1065, -71.0514432, -71.0801376, -71.0875672, -71.08995434, -71.05701685, -71.06959369, -71.10057324, -71.105668, -71.076847, -71.12852452, -71.03764, -71.12852452, -71.114249, -71.050877, -71.10015746, -71.0801376, -71.03918549, -71.08582377, -71.093198, -71.10129476, -71.1108917, -71.10878613, -71.10286117, -71.08495474, -71.07657015, -71.104412, -71.07657015, -71.055547, -71.08149976, -71.08065777, -71.05142981, -71.07798629, -71.08149976, -71.0801376, -71.09670274, -71.1108917, -71.10341903, -71.052163, -71.052163, -71.08065777, -71.06959369, -71.11903489, -71.04436085, -71.116772, -71.098634, -71.06092191, -71.052163, -71.10129476, -71.08981088, -71.10286117, -71.06092191, -71.08981088, -71.11305356, -71.069616, -71.046229, -71.06092191, -71.1031, -71.06092191, -71.1065, -71.095236, -71.095236, -71.069616, -71.11903489, -71.1169414, -71.119945, -71.095236, -71.10809952, -71.08981088, -71.06823265, -71.139459, -71.09930186, -71.1031, -71.08065777, -71.08981088, -71.08633604, -71.1182757, -71.1031, -71.11626681, -71.10394478, -71.05822917, -71.10129476, -71.08065777, -71.023739, -71.10286117, -71.123831, -71.123831, -71.0689044, -71.07404083, -71.082383, -71.08798563, -71.105301, -71.063348, -71.114214, -71.10394478, -71.12449831, -71.09627098, -71.11387163, -71.11387163, -71.064263, -71.050877, -71.11387163, -71.114214, -71.08798563, -71.064263, -71.11901879, -71.03764, -71.13022771, -71.10286117, -71.062256, -71.119945, -71.119945, -71.10006094, -71.10394478, -71.119084, -71.062679, -71.076529, -71.111075, -71.07746601, -71.056605, -71.1031, -71.10129476, -71.119945, -71.10129476, -71.03877, -71.10129476, -71.14393111, -71.08020781, -71.08277142, -71.08277142, -71.10129476, -71.1031, -71.08044855, -71.08044855, -71.03764, -71.03764, -71.15315407, -71.08277142, -71.03764, -71.11133695, -71.0972821, -71.03764, -71.123413, -71.08149976, -71.054812, -71.076529, -71.1213335, -71.064263, -71.064263, -71.08149976, -71.054812, -71.05737627, -71.10393405, -71.07404083, -71.111075, -71.062679, -71.10286117, -71.09759867, -71.114025, -71.0620996, -71.08216792, -71.10057324, -71.105668, -71.07329249, -71.093198, -71.1169414, -71.07249312, -71.07404083, -71.050877, -71.123831, -71.105495, -71.09759867, -71.114214, -71.11387163, -71.08495474, -71.11387163, -71.10391524, -71.105495, -71.11387163, -71.123831, -71.10407918, -71.09812, -71.08582377, -71.08798563, -71.10015746, -71.06166646, -71.11305356, -71.125107, -71.10015746, -71.0972821, -71.13776207, -71.085954, -71.132788, -71.03335975, -71.082383, -71.03764, -71.0782814, -71.11903489, -71.04817357, -71.08974038, -71.0801376, -71.08495474, -71.12126246, -71.0801376, -71.097009, -71.08579015, -71.111075, -71.10446509, -71.064263, -71.0728687, -71.08981088, -71.07657015, -71.09886996, -71.11067977, -71.062679, -71.08579015, -71.085954, -71.09886996, -71.07421449, -71.09886996, -71.0668873, -71.08579015, -71.090179, -71.11387163, -71.09930186, -71.07118962, -71.05979576, -71.10878613, -71.08311072, -71.10394478, -71.08579015, -71.05979576, -71.11387163, -71.12046447, -71.095236, -71.05726346, -71.085954, -71.100694, -71.085954, -71.09522222, -71.08579015, -71.07421449, -71.0514432, -71.11387163, -71.063348, -71.0689044, -71.06384031, -71.064263, -71.08582377, -71.08678415, -71.105495, -71.11638672, -71.08377187, -71.12046447, -71.10393405, -71.06959369, -71.09732501, -71.14393111, -71.054812, -71.10235287, -71.05979576, -71.0641389, -71.09759867, -71.10809952, -71.08336953, -71.1108917, -71.10809952, -71.143941, -71.14393111, -71.060292, -71.08822, -71.08277142, -71.08582377, -71.12852452, -71.090179, -71.1305093, -71.13275303, -71.123338, -71.09169, -71.08995434, -71.08495474, -71.11387163, -71.13275303, -71.123338, -71.076529, -71.137313, -71.137313, -71.0514432, -71.06528744, -71.0514432, -71.08277142, -71.10446509, -71.044024, -71.137313, -71.08981088, -71.1031, -71.044024, -71.09115601, -71.062679, -71.07903779, -71.044024, -71.11387163, -71.056067, -71.07569031, -71.066289, -71.08822, -71.066289, -71.10006094, -71.1213335, -71.1213335, -71.06092191, -71.08216792, -71.06092191, -71.076847, -71.0514432, -71.08678415, -71.054812, -71.07782811, -71.10235287, -71.048927, -71.09732501, -71.123831, -71.123831, -71.123831, -71.048927, -71.1031, -71.119084, -71.08582377, -71.07421449, -71.10393405, -71.06764405, -71.06384031, -71.11903489, -71.13776207, -71.08582377, -71.06528744, -71.08582377, -71.1182757, -71.06764405, -71.09115601, -71.118579], \"marker\": {\"color\": [2019, 2019, 2019, 2019, 2019, 2019, 2019, 2019, 2019, 2019, 2019, 2019, 2019, 2019, 2019, 2019, 2019, 2019, 2019, 2019, 2019, 2019, 2019, 2019, 2019, 2019, 2019, 2019, 2019, 2019, 2019, 2019, 2019, 2019, 2019, 2019, 2019, 2019, 2019, 2019, 2019, 2019, 2019, 2019, 2019, 2019, 2019, 2019, 2019, 2019, 2019, 2019, 2019, 2019, 2019, 2019, 2019, 2019, 2019, 2019, 2019, 2019, 2019, 2019, 2019, 2019, 2019, 2019, 2019, 2019, 2019, 2019, 2019, 2019, 2019, 2019, 2019, 2019, 2019, 2019, 2019, 2019, 2019, 2019, 2019, 2019, 2019, 2019, 2019, 2019, 2019, 2019, 2019, 2019, 2019, 2019, 2019, 2019, 2019, 2019, 2019, 2019, 2019, 2019, 2019, 2019, 2019, 2019, 2019, 2019, 2019, 2019, 2019, 2019, 2019, 2019, 2019, 2019, 2019, 2019, 2019, 2019, 2019, 2019, 2019, 2019, 2019, 2019, 2019, 2019, 2019, 2019, 2019, 2019, 2019, 2019, 2019, 2019, 2019, 2019, 2019, 2019, 2019, 2019, 2019, 2019, 2019, 2019, 2019, 2019, 2019, 2019, 2019, 2019, 2019, 2019, 2019, 2019, 2019, 2019, 2019, 2019, 2019, 2019, 2019, 2019, 2019, 2019, 2019, 2019, 2019, 2019, 2019, 2019, 2019, 2019, 2019, 2019, 2019, 2019, 2019, 2019, 2019, 2019, 2019, 2019, 2019, 2019, 2019, 2019, 2019, 2019, 2019, 2019, 2019, 2019, 2019, 2019, 2019, 2019, 2019, 2019, 2019, 2019, 2019, 2019, 2019, 2019, 2019, 2019, 2019, 2019, 2019, 2019, 2019, 2019, 2019, 2019, 2019, 2019, 2019, 2019, 2019, 2019, 2019, 2019, 2019, 2019, 2019, 2019, 2019, 2019, 2019, 2019, 2019, 2019, 2019, 2019, 2019, 2019, 2019, 2019, 2019, 2019, 2019, 2019, 2019, 2019, 2019, 2019, 2019, 2019, 2019, 2019, 2019, 2019, 2019, 2019, 2019, 2019, 2019, 2019, 2019, 2019, 2019, 2019, 2019, 2019, 2019, 2019, 2019, 2019, 2019, 2019, 2019, 2019, 2019, 2019, 2019, 2019, 2019, 2019, 2019, 2019, 2019, 2019, 2019, 2019, 2019, 2019, 2019, 2019, 2019, 2019, 2019, 2019, 2019, 2019, 2019, 2019, 2019, 2019, 2019, 2019, 2019, 2019, 2019, 2019, 2019, 2019, 2019, 2019, 2019, 2019, 2019, 2019, 2019, 2019, 2019, 2019, 2019, 2019, 2019, 2019, 2019, 2019, 2019, 2019, 2019, 2019, 2019, 2019, 2019, 2019, 2019, 2019, 2019, 2019, 2019, 2019, 2019, 2019, 2019, 2019, 2019, 2019, 2019, 2019, 2019, 2019, 2019, 2019, 2019, 2019, 2019, 2019, 2019, 2019, 2019, 2019, 2019, 2019, 2019, 2019, 2019, 2019, 2019, 2019, 2019, 2019, 2019, 2019, 2019, 2019, 2019, 2019, 2019, 2019, 2019, 2019, 2019, 2019, 2019, 2019, 2019, 2019, 2019, 2019, 2019, 2019, 2019, 2019, 2019, 2019, 2019, 2019, 2019, 2019, 2019, 2019, 2019, 2019, 2019, 2019, 2019, 2019, 2019, 2019, 2019, 2019, 2019, 2019, 2019, 2019, 2019, 2019, 2019, 2019, 2019, 2019, 2019, 2019, 2019, 2019, 2019, 2019, 2019, 2019, 2019, 2019, 2019, 2019, 2019, 2019, 2019, 2019, 2019, 2019, 2019, 2019, 2019, 2019, 2019, 2019, 2019, 2019, 2019, 2019, 2019, 2019, 2019, 2019, 2019, 2019, 2019, 2019, 2019, 2019, 2019, 2019, 2019, 2019, 2019, 2019, 2019, 2019, 2019, 2019, 2019, 2019, 2019, 2019, 2019, 2019, 2019, 2019, 2019, 2019, 2019, 2019, 2019, 2019, 2019, 2019, 2019, 2019, 2019, 2019, 2019, 2019, 2019, 2019, 2019, 2019, 2019, 2019, 2019, 2019, 2019, 2019, 2019, 2019, 2019, 2019, 2019, 2019, 2019, 2019, 2019, 2019, 2019, 2019, 2019, 2019, 2019, 2019, 2019, 2019, 2019, 2019, 2019, 2019, 2019, 2019, 2019, 2019, 2019, 2019, 2019, 2019, 2019, 2019, 2019, 2019, 2019, 2019, 2019, 2019, 2019, 2019, 2019, 2019, 2019, 2019, 2019, 2019, 2019, 2019, 2019, 2019, 2019, 2019, 2019, 2019, 2019, 2019, 2019, 2019, 2019, 2019, 2019, 2019, 2019, 2019, 2019, 2019, 2019, 2019, 2019, 2019, 2019, 2019, 2019, 2019, 2019, 2019, 2019, 2019, 2019, 2019, 2019, 2019, 2019, 2019, 2019, 2019, 2019, 2019, 2019, 2019, 2019, 2019, 2019, 2019, 2019, 2019, 2019, 2019, 2019, 2019, 2019, 2019, 2019, 2019, 2019, 2019, 2019, 2019, 2019, 2019, 2019, 2019, 2019, 2019, 2019, 2019, 2019, 2019, 2019, 2019, 2019, 2019, 2019, 2019, 2019, 2019, 2019, 2019, 2019, 2019, 2019, 2019, 2019, 2019, 2019, 2019, 2019, 2019, 2019, 2019, 2019, 2019, 2019, 2019, 2019, 2019, 2019, 2019, 2019, 2019, 2019, 2019, 2019, 2019, 2019, 2019, 2019, 2019, 2019, 2019, 2019, 2019, 2019, 2019, 2019, 2019, 2019, 2019, 2019, 2019, 2019, 2019, 2019, 2019, 2019, 2019, 2019, 2019, 2019, 2019, 2019, 2019, 2019, 2019, 2019, 2019, 2019, 2019, 2019, 2019, 2019, 2019, 2019, 2019, 2019, 2019, 2019, 2019, 2019, 2019, 2019, 2019, 2019, 2019, 2019, 2019, 2019, 2019, 2019, 2019, 2019, 2019, 2019, 2019, 2019, 2019, 2019, 2019, 2019, 2019, 2019, 2019, 2019, 2019, 2019, 2019, 2019, 2019, 2019, 2019, 2019, 2019, 2019, 2019, 2019, 2019, 2019, 2019, 2019, 2019, 2019, 2019, 2019, 2019, 2019, 2019, 2019, 2019, 2019, 2019, 2019, 2019, 2019, 2019, 2019, 2019, 2019, 2019, 2019, 2019, 2019, 2019, 2019, 2019, 2019, 2019, 2019, 2019, 2019, 2019, 2019, 2019, 2019, 2019, 2019, 2019, 2019, 2019, 2019, 2019, 2019, 2019, 2019, 2019, 2019, 2019, 2019, 2019, 2019, 2019, 2019, 2019, 2019, 2019, 2019, 2019, 2019, 2019, 2019, 2019, 2019, 2019, 2019, 2019, 2019, 2019, 2019, 2019, 2019, 2019, 2019, 2019, 2019, 2019, 2019, 2019, 2019, 2019, 2019, 2019, 2019, 2019, 2019, 2019, 2019, 2019, 2019, 2019, 2019, 2019, 2019, 2019, 2019, 2019, 2019, 2019, 2019, 2019, 2019, 2019, 2019, 2019, 2019, 2019, 2019, 2019, 2019, 2019, 2019, 2019, 2019, 2019, 2019, 2019, 2019, 2019, 2019, 2019, 2019, 2019, 2019, 2019, 2019, 2019, 2019, 2019, 2019, 2019, 2019, 2019, 2019, 2019, 2019, 2019, 2019, 2019, 2019, 2019, 2019, 2019, 2019, 2019, 2019, 2019, 2019, 2019, 2019, 2019, 2019, 2019, 2019, 2019, 2019, 2019, 2019, 2019, 2019, 2019, 2019, 2019, 2019, 2019, 2019, 2019, 2019, 2019, 2019, 2019, 2019, 2019, 2019, 2019, 2019, 2019, 2019, 2019, 2019, 2019, 2019, 2019, 2019, 2019, 2019, 2019, 2019, 2019, 2019, 2019, 2019, 2019, 2019, 2019, 2019, 2019, 2019, 2019, 2019, 2019, 2019, 2019, 2019, 2019, 2019, 2019, 2019, 2019, 2019, 2019, 2019, 2019, 2019, 2019, 2019, 2019, 2019, 2019, 2019, 2019, 2019, 2019, 2019, 2019, 2019, 2019, 2019, 2019, 2019, 2019, 2019, 2019, 2019, 2019, 2019, 2019, 2019, 2019, 2019, 2019, 2019, 2019, 2019, 2019, 2019, 2019, 2019, 2019, 2019, 2019, 2019, 2019, 2019, 2019, 2019, 2019, 2019, 2019, 2019, 2019, 2019, 2019, 2019, 2019, 2019, 2019, 2019, 2019, 2019, 2019, 2019, 2019, 2019, 2019, 2019, 2019, 2019, 2019, 2019, 2019, 2019, 2019, 2019, 2019, 2019, 2019, 2019, 2019, 2019, 2019, 2019, 2019, 2019, 2019, 2019, 2019, 2019, 2019, 2019, 2019, 2019, 2019, 2019, 2019, 2019, 2019, 2019, 2019, 2019, 2019, 2019, 2019, 2019, 2019, 2019, 2019, 2019, 2019, 2019, 2019, 2019, 2019, 2019, 2019, 2019, 2019, 2019, 2019, 2019, 2019, 2019, 2019, 2019, 2019, 2019, 2019, 2019, 2019, 2019, 2019, 2019, 2019, 2019, 2019, 2019, 2019, 2019, 2019, 2019, 2019, 2019, 2019, 2019, 2019, 2019, 2019, 2019, 2019, 2019, 2019, 2019, 2019, 2019, 2019, 2019, 2019, 2019, 2019, 2019, 2019, 2019, 2019, 2019, 2019, 2019, 2019, 2019, 2019, 2019, 2019, 2019, 2019, 2019, 2019, 2019, 2019, 2019, 2019, 2019, 2019, 2019, 2019, 2019, 2019, 2019, 2019, 2019, 2019, 2019, 2019, 2019, 2019, 2019, 2019, 2019, 2019, 2019, 2019, 2019, 2019, 2019, 2019, 2019, 2019, 2019, 2019, 2019, 2019, 2019, 2019, 2019, 2019, 2019, 2019, 2019, 2019, 2019, 2019, 2019, 2019, 2019, 2019, 2019, 2019, 2019, 2019, 2019, 2019, 2019, 2019, 2019, 2019, 2019, 2019, 2019, 2019, 2019, 2019, 2019, 2019, 2019, 2019, 2019, 2019, 2019, 2019, 2019, 2019, 2019, 2019, 2019, 2019, 2019, 2019, 2019, 2019, 2019, 2019, 2019, 2019, 2019, 2019, 2019, 2019, 2019, 2019, 2019, 2019, 2019, 2019, 2019, 2019, 2019, 2019, 2019, 2019, 2019, 2019, 2019, 2019, 2019, 2020, 2020, 2020, 2020, 2020, 2020, 2020, 2020, 2020, 2020, 2020, 2020, 2020, 2020, 2020, 2020, 2020, 2020, 2020, 2020, 2020, 2020, 2020, 2020, 2020, 2020, 2020, 2020, 2020, 2020, 2020, 2020, 2020, 2020, 2020, 2020, 2020, 2020, 2020, 2020, 2020, 2020, 2020, 2020, 2020, 2020, 2020, 2020, 2020, 2020, 2020, 2020, 2020, 2020, 2020, 2020, 2020, 2020, 2020, 2020, 2020, 2020, 2020, 2020, 2020, 2020, 2020, 2020, 2020, 2020, 2020, 2020, 2020, 2020, 2020, 2020, 2020, 2020, 2020, 2020, 2020, 2020, 2020, 2020, 2020, 2020, 2020, 2020, 2020, 2020, 2020, 2020, 2020, 2020, 2020, 2020, 2020, 2020, 2020, 2020, 2020, 2020, 2020, 2020, 2020, 2020, 2020, 2020, 2020, 2020, 2020, 2020, 2020, 2020, 2020, 2020, 2020, 2020, 2020, 2020, 2020, 2020, 2020, 2020, 2020, 2020, 2020, 2020, 2020, 2020, 2020, 2020, 2020, 2020, 2020, 2020, 2020, 2020, 2020, 2020, 2020, 2020, 2020, 2020, 2020, 2020, 2020, 2020, 2020, 2020, 2020, 2020, 2020, 2020, 2020, 2020, 2020, 2020, 2020, 2020, 2020, 2020, 2020, 2020, 2020, 2020, 2020, 2020, 2020, 2020, 2020, 2020, 2020, 2020, 2020, 2020, 2020, 2020, 2020, 2020, 2020, 2020, 2020, 2020, 2020, 2020, 2020, 2020, 2020, 2020, 2020, 2020, 2020, 2020, 2020, 2020, 2020, 2020, 2020, 2020, 2020, 2020, 2020, 2020, 2020, 2020, 2020, 2020, 2020, 2020, 2020, 2020, 2020, 2020, 2020, 2020, 2020, 2020, 2020, 2020, 2020, 2020, 2020, 2020, 2020, 2020, 2020, 2020, 2020, 2020, 2020, 2020, 2020, 2020, 2020, 2020, 2020, 2020, 2020, 2020, 2020, 2020, 2020, 2020, 2020, 2020, 2020, 2020, 2020, 2020, 2020, 2020, 2020, 2020, 2020, 2020, 2020, 2020, 2020, 2020, 2020, 2020, 2020, 2020, 2020, 2020, 2020, 2020, 2020, 2020, 2020, 2020, 2020, 2020, 2020, 2020, 2020, 2020, 2020, 2020, 2020, 2020, 2020, 2020, 2020, 2020, 2020, 2020, 2020, 2020, 2020, 2020, 2020, 2020, 2020, 2020, 2020, 2020, 2020, 2020, 2020, 2020, 2020, 2020, 2020, 2020, 2020, 2020, 2020, 2020, 2020, 2020, 2020, 2020, 2020, 2020, 2020, 2020, 2020, 2020, 2020, 2020, 2020, 2020, 2020, 2020, 2020, 2020, 2020, 2020, 2020, 2020, 2020, 2020, 2020, 2020, 2020, 2020, 2020, 2020, 2020, 2020, 2020, 2020, 2020, 2020, 2020, 2020, 2020, 2020, 2020, 2020, 2020, 2020, 2020, 2020, 2020, 2020, 2020, 2020, 2020, 2020, 2020, 2020, 2020, 2020, 2020, 2020, 2020, 2020, 2020, 2020, 2020, 2020, 2020, 2020, 2020, 2020, 2020, 2020, 2020, 2020, 2020, 2020, 2020, 2020, 2020, 2020, 2020, 2020, 2020, 2020, 2020, 2020, 2020, 2020, 2020, 2020, 2020, 2020, 2020, 2020, 2020, 2020, 2020, 2020, 2020, 2020, 2020, 2020, 2020, 2020, 2020, 2020, 2020, 2020, 2020, 2020, 2020, 2020, 2020, 2020, 2020, 2020, 2020, 2020, 2020, 2020, 2020, 2020, 2020, 2020, 2020, 2020, 2020, 2020, 2020, 2020, 2020, 2020, 2020, 2020, 2020, 2020, 2020, 2020, 2020, 2020, 2020, 2020, 2020, 2020, 2020, 2020, 2020, 2020, 2020, 2020, 2020, 2020, 2020, 2020, 2020, 2020, 2020, 2020, 2020, 2020, 2020, 2020, 2020, 2020, 2020, 2020, 2020, 2020, 2020, 2020, 2020, 2020, 2020, 2020, 2020, 2020, 2020, 2020, 2020, 2020, 2020, 2020, 2020, 2020, 2020, 2020, 2020, 2020, 2020, 2020, 2020, 2020, 2020, 2020, 2020, 2020, 2020, 2020, 2020, 2020, 2020, 2020, 2020, 2020, 2020, 2020, 2020, 2020, 2020, 2020, 2020, 2020, 2020, 2020, 2020, 2020, 2020, 2020, 2020, 2020, 2020, 2020, 2020, 2020, 2020, 2020, 2020, 2020, 2020, 2020, 2020, 2020, 2020, 2020, 2020, 2020, 2020, 2020, 2020, 2020, 2020, 2020, 2020, 2020, 2020, 2020, 2020, 2020, 2020, 2020, 2020, 2020, 2020, 2020, 2020, 2020, 2020, 2020, 2020, 2020, 2020, 2020, 2020, 2020, 2020, 2020, 2020, 2020, 2020, 2020, 2020, 2020, 2020, 2020, 2020, 2020, 2020, 2020, 2020, 2020, 2020, 2020, 2020, 2020, 2020, 2020, 2020, 2020, 2020, 2020, 2020, 2020, 2020, 2020, 2020, 2020, 2020, 2020, 2020, 2020, 2020, 2020, 2020, 2020, 2020, 2020, 2020, 2020, 2020, 2020, 2020, 2020, 2020, 2020, 2020, 2020, 2020, 2020, 2020, 2020, 2020, 2020, 2020, 2020, 2020, 2020, 2020, 2020, 2020, 2020, 2020, 2020, 2020, 2020, 2020, 2020, 2020, 2020, 2020, 2020, 2020, 2020, 2020, 2020, 2020, 2020, 2020, 2020, 2020, 2020, 2020, 2020, 2020, 2020, 2020, 2020, 2020, 2020, 2020, 2020, 2020, 2020, 2020, 2020, 2020, 2020, 2020, 2020, 2020, 2020, 2020, 2020, 2020, 2020, 2020, 2020, 2020, 2020, 2020, 2020, 2020, 2020, 2020, 2020, 2020, 2020, 2020, 2020, 2020, 2020, 2020, 2020, 2020, 2020, 2020, 2020, 2020, 2020, 2020, 2020, 2020, 2020, 2020, 2020, 2020, 2020, 2020, 2020, 2020, 2020, 2020, 2020, 2020, 2020, 2020, 2020, 2020, 2020, 2020, 2020, 2020, 2020, 2020, 2020, 2020, 2020, 2020, 2020, 2020, 2020, 2020, 2020, 2020, 2020, 2020, 2020, 2020, 2020, 2020, 2020, 2020, 2020, 2020, 2020, 2020, 2020, 2020, 2020, 2020, 2020, 2020, 2020, 2020, 2020, 2020, 2020, 2020, 2020, 2020, 2020, 2020, 2020, 2020, 2020, 2020, 2020, 2020, 2020, 2020, 2020, 2020, 2020, 2020, 2020, 2020, 2020, 2020, 2020, 2020, 2020, 2020, 2020, 2020, 2020, 2020, 2020, 2020, 2020, 2020, 2020, 2020, 2020, 2020, 2020, 2020, 2020, 2020, 2020, 2020, 2020, 2020, 2020, 2020, 2020, 2020, 2020, 2020, 2020, 2020, 2020, 2020, 2020, 2020, 2020, 2020, 2020, 2020, 2020, 2020, 2020, 2020, 2020, 2020, 2020, 2020, 2020, 2020, 2020, 2020, 2020, 2020, 2020, 2020, 2020, 2020, 2020, 2020, 2020, 2020, 2020, 2020, 2020, 2020, 2020, 2020, 2020, 2020, 2020, 2020, 2020, 2020, 2020, 2020, 2020, 2020, 2020, 2020, 2020, 2020, 2020, 2020, 2020, 2020, 2020, 2020, 2020, 2020, 2020, 2020, 2020, 2020, 2020, 2020, 2020, 2020, 2020, 2020, 2020, 2020, 2020, 2020, 2020, 2020, 2020, 2020, 2020, 2020, 2020, 2020, 2020, 2020, 2020, 2020, 2020, 2020, 2020, 2020, 2020, 2020, 2020, 2020, 2020, 2020, 2020, 2020, 2020, 2020, 2020, 2020, 2020, 2020, 2020, 2020, 2020, 2020, 2020, 2020, 2020, 2020, 2020, 2020, 2020, 2020, 2020, 2020, 2020, 2020, 2020, 2020, 2020, 2020, 2020, 2020, 2020, 2020, 2020, 2020, 2020, 2020, 2020, 2020, 2020, 2020, 2020, 2020, 2020, 2020, 2020, 2020, 2020, 2020, 2020, 2020, 2020, 2020, 2020, 2020, 2020, 2020, 2020, 2020, 2020, 2020, 2020, 2020, 2020, 2020, 2020, 2020, 2020, 2020, 2020, 2020, 2020, 2020, 2020, 2020, 2020, 2020, 2020, 2020, 2020, 2020, 2020, 2020, 2020, 2020, 2020, 2020, 2020, 2020, 2020, 2020, 2020, 2020, 2020, 2020, 2020, 2020, 2020, 2020, 2020, 2020, 2020, 2020, 2020, 2020, 2020, 2020, 2020, 2020, 2020, 2020, 2020, 2020, 2020, 2020, 2020, 2020, 2020, 2020, 2020, 2020, 2020, 2020, 2020, 2020, 2020, 2020, 2020, 2020, 2020, 2020, 2020, 2020, 2020, 2020, 2020, 2020, 2020, 2020, 2020, 2020, 2020, 2020, 2020, 2020, 2020, 2020, 2020, 2020, 2020, 2020, 2020, 2020, 2020, 2020, 2020, 2020, 2020, 2020, 2020, 2020, 2020, 2020, 2020, 2020, 2020, 2020, 2020, 2020, 2020, 2020, 2020, 2020, 2020, 2020, 2020, 2020, 2020, 2020, 2020, 2020, 2020, 2020, 2020, 2020, 2020, 2020, 2020, 2020, 2020, 2020, 2020, 2020, 2020, 2020, 2020, 2020, 2020, 2020, 2020, 2020, 2020, 2020, 2020, 2020, 2020, 2020, 2020, 2020, 2020, 2020, 2020, 2020, 2020, 2020, 2020, 2020, 2020, 2020, 2020, 2020, 2020, 2020, 2020, 2020, 2020, 2020, 2020, 2020, 2020, 2020, 2020, 2020, 2020, 2020, 2020, 2020, 2020, 2020, 2020, 2020, 2020, 2020, 2020, 2020, 2020, 2020, 2020, 2020, 2020, 2020, 2020, 2020, 2020, 2020, 2020, 2020, 2020, 2020, 2020, 2020, 2020, 2020, 2020, 2020, 2020, 2020, 2020, 2020, 2020, 2020, 2020, 2020, 2020, 2020, 2020, 2020, 2020, 2020, 2020, 2020, 2020, 2020, 2020, 2020, 2020, 2020, 2020, 2020, 2020, 2020, 2020, 2020, 2020, 2020, 2020, 2020, 2020, 2020, 2020, 2020, 2020, 2020, 2020, 2020, 2020, 2020, 2020, 2020, 2020, 2020, 2020, 2020, 2020, 2020, 2020, 2020, 2020, 2020]}, \"mode\": \"markers\", \"type\": \"scattermapbox\"}],                        {\"mapbox\": {\"accesstoken\": \"pk.eyJ1IjoibWFyaWV0YWFzY3giLCJhIjoiY2twazhpbG9hMXQzNTJwcmlid20ycXNyaiJ9.WIiHwd33qORzzmSWfFxNtw\", \"center\": {\"lat\": 42.35, \"lon\": -71.06}, \"zoom\": 11}, \"template\": {\"data\": {\"bar\": [{\"error_x\": {\"color\": \"#2a3f5f\"}, \"error_y\": {\"color\": \"#2a3f5f\"}, \"marker\": {\"line\": {\"color\": \"#E5ECF6\", \"width\": 0.5}}, \"type\": \"bar\"}], \"barpolar\": [{\"marker\": {\"line\": {\"color\": \"#E5ECF6\", \"width\": 0.5}}, \"type\": \"barpolar\"}], \"carpet\": [{\"aaxis\": {\"endlinecolor\": \"#2a3f5f\", \"gridcolor\": \"white\", \"linecolor\": \"white\", \"minorgridcolor\": \"white\", \"startlinecolor\": \"#2a3f5f\"}, \"baxis\": {\"endlinecolor\": \"#2a3f5f\", \"gridcolor\": \"white\", \"linecolor\": \"white\", \"minorgridcolor\": \"white\", \"startlinecolor\": \"#2a3f5f\"}, \"type\": \"carpet\"}], \"choropleth\": [{\"colorbar\": {\"outlinewidth\": 0, \"ticks\": \"\"}, \"type\": \"choropleth\"}], \"contour\": [{\"colorbar\": {\"outlinewidth\": 0, \"ticks\": \"\"}, \"colorscale\": [[0.0, \"#0d0887\"], [0.1111111111111111, \"#46039f\"], [0.2222222222222222, \"#7201a8\"], [0.3333333333333333, \"#9c179e\"], [0.4444444444444444, \"#bd3786\"], [0.5555555555555556, \"#d8576b\"], [0.6666666666666666, \"#ed7953\"], [0.7777777777777778, \"#fb9f3a\"], [0.8888888888888888, \"#fdca26\"], [1.0, \"#f0f921\"]], \"type\": \"contour\"}], \"contourcarpet\": [{\"colorbar\": {\"outlinewidth\": 0, \"ticks\": \"\"}, \"type\": \"contourcarpet\"}], \"heatmap\": [{\"colorbar\": {\"outlinewidth\": 0, \"ticks\": \"\"}, \"colorscale\": [[0.0, \"#0d0887\"], [0.1111111111111111, \"#46039f\"], [0.2222222222222222, \"#7201a8\"], [0.3333333333333333, \"#9c179e\"], [0.4444444444444444, \"#bd3786\"], [0.5555555555555556, \"#d8576b\"], [0.6666666666666666, \"#ed7953\"], [0.7777777777777778, \"#fb9f3a\"], [0.8888888888888888, \"#fdca26\"], [1.0, \"#f0f921\"]], \"type\": \"heatmap\"}], \"heatmapgl\": [{\"colorbar\": {\"outlinewidth\": 0, \"ticks\": \"\"}, \"colorscale\": [[0.0, \"#0d0887\"], [0.1111111111111111, \"#46039f\"], [0.2222222222222222, \"#7201a8\"], [0.3333333333333333, \"#9c179e\"], [0.4444444444444444, \"#bd3786\"], [0.5555555555555556, \"#d8576b\"], [0.6666666666666666, \"#ed7953\"], [0.7777777777777778, \"#fb9f3a\"], [0.8888888888888888, \"#fdca26\"], [1.0, \"#f0f921\"]], \"type\": \"heatmapgl\"}], \"histogram\": [{\"marker\": {\"colorbar\": {\"outlinewidth\": 0, \"ticks\": \"\"}}, \"type\": \"histogram\"}], \"histogram2d\": [{\"colorbar\": {\"outlinewidth\": 0, \"ticks\": \"\"}, \"colorscale\": [[0.0, \"#0d0887\"], [0.1111111111111111, \"#46039f\"], [0.2222222222222222, \"#7201a8\"], [0.3333333333333333, \"#9c179e\"], [0.4444444444444444, \"#bd3786\"], [0.5555555555555556, \"#d8576b\"], [0.6666666666666666, \"#ed7953\"], [0.7777777777777778, \"#fb9f3a\"], [0.8888888888888888, \"#fdca26\"], [1.0, \"#f0f921\"]], \"type\": \"histogram2d\"}], \"histogram2dcontour\": [{\"colorbar\": {\"outlinewidth\": 0, \"ticks\": \"\"}, \"colorscale\": [[0.0, \"#0d0887\"], [0.1111111111111111, \"#46039f\"], [0.2222222222222222, \"#7201a8\"], [0.3333333333333333, \"#9c179e\"], [0.4444444444444444, \"#bd3786\"], [0.5555555555555556, \"#d8576b\"], [0.6666666666666666, \"#ed7953\"], [0.7777777777777778, \"#fb9f3a\"], [0.8888888888888888, \"#fdca26\"], [1.0, \"#f0f921\"]], \"type\": \"histogram2dcontour\"}], \"mesh3d\": [{\"colorbar\": {\"outlinewidth\": 0, \"ticks\": \"\"}, \"type\": \"mesh3d\"}], \"parcoords\": [{\"line\": {\"colorbar\": {\"outlinewidth\": 0, \"ticks\": \"\"}}, \"type\": \"parcoords\"}], \"pie\": [{\"automargin\": true, \"type\": \"pie\"}], \"scatter\": [{\"marker\": {\"colorbar\": {\"outlinewidth\": 0, \"ticks\": \"\"}}, \"type\": \"scatter\"}], \"scatter3d\": [{\"line\": {\"colorbar\": {\"outlinewidth\": 0, \"ticks\": \"\"}}, \"marker\": {\"colorbar\": {\"outlinewidth\": 0, \"ticks\": \"\"}}, \"type\": \"scatter3d\"}], \"scattercarpet\": [{\"marker\": {\"colorbar\": {\"outlinewidth\": 0, \"ticks\": \"\"}}, \"type\": \"scattercarpet\"}], \"scattergeo\": [{\"marker\": {\"colorbar\": {\"outlinewidth\": 0, \"ticks\": \"\"}}, \"type\": \"scattergeo\"}], \"scattergl\": [{\"marker\": {\"colorbar\": {\"outlinewidth\": 0, \"ticks\": \"\"}}, \"type\": \"scattergl\"}], \"scattermapbox\": [{\"marker\": {\"colorbar\": {\"outlinewidth\": 0, \"ticks\": \"\"}}, \"type\": \"scattermapbox\"}], \"scatterpolar\": [{\"marker\": {\"colorbar\": {\"outlinewidth\": 0, \"ticks\": \"\"}}, \"type\": \"scatterpolar\"}], \"scatterpolargl\": [{\"marker\": {\"colorbar\": {\"outlinewidth\": 0, \"ticks\": \"\"}}, \"type\": \"scatterpolargl\"}], \"scatterternary\": [{\"marker\": {\"colorbar\": {\"outlinewidth\": 0, \"ticks\": \"\"}}, \"type\": \"scatterternary\"}], \"surface\": [{\"colorbar\": {\"outlinewidth\": 0, \"ticks\": \"\"}, \"colorscale\": [[0.0, \"#0d0887\"], [0.1111111111111111, \"#46039f\"], [0.2222222222222222, \"#7201a8\"], [0.3333333333333333, \"#9c179e\"], [0.4444444444444444, \"#bd3786\"], [0.5555555555555556, \"#d8576b\"], [0.6666666666666666, \"#ed7953\"], [0.7777777777777778, \"#fb9f3a\"], [0.8888888888888888, \"#fdca26\"], [1.0, \"#f0f921\"]], \"type\": \"surface\"}], \"table\": [{\"cells\": {\"fill\": {\"color\": \"#EBF0F8\"}, \"line\": {\"color\": \"white\"}}, \"header\": {\"fill\": {\"color\": \"#C8D4E3\"}, \"line\": {\"color\": \"white\"}}, \"type\": \"table\"}]}, \"layout\": {\"annotationdefaults\": {\"arrowcolor\": \"#2a3f5f\", \"arrowhead\": 0, \"arrowwidth\": 1}, \"autotypenumbers\": \"strict\", \"coloraxis\": {\"colorbar\": {\"outlinewidth\": 0, \"ticks\": \"\"}}, \"colorscale\": {\"diverging\": [[0, \"#8e0152\"], [0.1, \"#c51b7d\"], [0.2, \"#de77ae\"], [0.3, \"#f1b6da\"], [0.4, \"#fde0ef\"], [0.5, \"#f7f7f7\"], [0.6, \"#e6f5d0\"], [0.7, \"#b8e186\"], [0.8, \"#7fbc41\"], [0.9, \"#4d9221\"], [1, \"#276419\"]], \"sequential\": [[0.0, \"#0d0887\"], [0.1111111111111111, \"#46039f\"], [0.2222222222222222, \"#7201a8\"], [0.3333333333333333, \"#9c179e\"], [0.4444444444444444, \"#bd3786\"], [0.5555555555555556, \"#d8576b\"], [0.6666666666666666, \"#ed7953\"], [0.7777777777777778, \"#fb9f3a\"], [0.8888888888888888, \"#fdca26\"], [1.0, \"#f0f921\"]], \"sequentialminus\": [[0.0, \"#0d0887\"], [0.1111111111111111, \"#46039f\"], [0.2222222222222222, \"#7201a8\"], [0.3333333333333333, \"#9c179e\"], [0.4444444444444444, \"#bd3786\"], [0.5555555555555556, \"#d8576b\"], [0.6666666666666666, \"#ed7953\"], [0.7777777777777778, \"#fb9f3a\"], [0.8888888888888888, \"#fdca26\"], [1.0, \"#f0f921\"]]}, \"colorway\": [\"#636efa\", \"#EF553B\", \"#00cc96\", \"#ab63fa\", \"#FFA15A\", \"#19d3f3\", \"#FF6692\", \"#B6E880\", \"#FF97FF\", \"#FECB52\"], \"font\": {\"color\": \"#2a3f5f\"}, \"geo\": {\"bgcolor\": \"white\", \"lakecolor\": \"white\", \"landcolor\": \"#E5ECF6\", \"showlakes\": true, \"showland\": true, \"subunitcolor\": \"white\"}, \"hoverlabel\": {\"align\": \"left\"}, \"hovermode\": \"closest\", \"mapbox\": {\"style\": \"light\"}, \"paper_bgcolor\": \"white\", \"plot_bgcolor\": \"#E5ECF6\", \"polar\": {\"angularaxis\": {\"gridcolor\": \"white\", \"linecolor\": \"white\", \"ticks\": \"\"}, \"bgcolor\": \"#E5ECF6\", \"radialaxis\": {\"gridcolor\": \"white\", \"linecolor\": \"white\", \"ticks\": \"\"}}, \"scene\": {\"xaxis\": {\"backgroundcolor\": \"#E5ECF6\", \"gridcolor\": \"white\", \"gridwidth\": 2, \"linecolor\": \"white\", \"showbackground\": true, \"ticks\": \"\", \"zerolinecolor\": \"white\"}, \"yaxis\": {\"backgroundcolor\": \"#E5ECF6\", \"gridcolor\": \"white\", \"gridwidth\": 2, \"linecolor\": \"white\", \"showbackground\": true, \"ticks\": \"\", \"zerolinecolor\": \"white\"}, \"zaxis\": {\"backgroundcolor\": \"#E5ECF6\", \"gridcolor\": \"white\", \"gridwidth\": 2, \"linecolor\": \"white\", \"showbackground\": true, \"ticks\": \"\", \"zerolinecolor\": \"white\"}}, \"shapedefaults\": {\"line\": {\"color\": \"#2a3f5f\"}}, \"ternary\": {\"aaxis\": {\"gridcolor\": \"white\", \"linecolor\": \"white\", \"ticks\": \"\"}, \"baxis\": {\"gridcolor\": \"white\", \"linecolor\": \"white\", \"ticks\": \"\"}, \"bgcolor\": \"#E5ECF6\", \"caxis\": {\"gridcolor\": \"white\", \"linecolor\": \"white\", \"ticks\": \"\"}}, \"title\": {\"x\": 0.05}, \"xaxis\": {\"automargin\": true, \"gridcolor\": \"white\", \"linecolor\": \"white\", \"ticks\": \"\", \"title\": {\"standoff\": 15}, \"zerolinecolor\": \"white\", \"zerolinewidth\": 2}, \"yaxis\": {\"automargin\": true, \"gridcolor\": \"white\", \"linecolor\": \"white\", \"ticks\": \"\", \"title\": {\"standoff\": 15}, \"zerolinecolor\": \"white\", \"zerolinewidth\": 2}}}},                        {\"responsive\": true}                    ).then(function(){\n",
       "                            \n",
       "var gd = document.getElementById('c915809d-de08-44aa-bea3-8aebadd9a55a');\n",
       "var x = new MutationObserver(function (mutations, observer) {{\n",
       "        var display = window.getComputedStyle(gd).display;\n",
       "        if (!display || display === 'none') {{\n",
       "            console.log([gd, 'removed!']);\n",
       "            Plotly.purge(gd);\n",
       "            observer.disconnect();\n",
       "        }}\n",
       "}});\n",
       "\n",
       "// Listen for the removal of the full notebook cells\n",
       "var notebookContainer = gd.closest('#notebook-container');\n",
       "if (notebookContainer) {{\n",
       "    x.observe(notebookContainer, {childList: true});\n",
       "}}\n",
       "\n",
       "// Listen for the clearing of the current output cell\n",
       "var outputEl = gd.closest('.output');\n",
       "if (outputEl) {{\n",
       "    x.observe(outputEl, {childList: true});\n",
       "}}\n",
       "\n",
       "                        })                };                });            </script>        </div>"
      ]
     },
     "metadata": {},
     "output_type": "display_data"
    }
   ],
   "source": [
    "\n",
    "# Create the figure and feed it all the prepared columns\n",
    "fig = go.Figure(\n",
    "    go.Scattermapbox(\n",
    "        lon = df['start_long'],\n",
    "        lat = df['start_lat'],\n",
    "        mode='markers',\n",
    "        marker=go.scattermapbox.Marker(\n",
    "           \n",
    "            color=df['year']\n",
    "        )\n",
    "    )\n",
    ")\n",
    "\n",
    "# Specify layout information\n",
    "fig.update_layout(\n",
    "    mapbox=dict(\n",
    "        accesstoken='pk.eyJ1IjoibWFyaWV0YWFzY3giLCJhIjoiY2twazhpbG9hMXQzNTJwcmlid20ycXNyaiJ9.WIiHwd33qORzzmSWfFxNtw', #\n",
    "        center=go.layout.mapbox.Center(lat=42.35, lon=-71.06),\n",
    "        zoom=11\n",
    "    )\n",
    ")\n",
    "\n",
    "\n",
    "fig.show()"
   ]
  },
  {
   "cell_type": "code",
   "execution_count": 242,
   "id": "8637c75a",
   "metadata": {},
   "outputs": [
    {
     "ename": "FileNotFoundError",
     "evalue": "[Errno 2] No such file or directory: '.mapbox_token'",
     "output_type": "error",
     "traceback": [
      "\u001b[1;31m---------------------------------------------------------------------------\u001b[0m",
      "\u001b[1;31mFileNotFoundError\u001b[0m                         Traceback (most recent call last)",
      "\u001b[1;32m<ipython-input-242-51ca8108c050>\u001b[0m in \u001b[0;36m<module>\u001b[1;34m\u001b[0m\n\u001b[0;32m      1\u001b[0m \u001b[1;32mimport\u001b[0m \u001b[0mplotly\u001b[0m\u001b[1;33m.\u001b[0m\u001b[0mexpress\u001b[0m \u001b[1;32mas\u001b[0m \u001b[0mpx\u001b[0m\u001b[1;33m\u001b[0m\u001b[1;33m\u001b[0m\u001b[0m\n\u001b[1;32m----> 2\u001b[1;33m \u001b[0mpx\u001b[0m\u001b[1;33m.\u001b[0m\u001b[0mset_mapbox_access_token\u001b[0m\u001b[1;33m(\u001b[0m\u001b[0mopen\u001b[0m\u001b[1;33m(\u001b[0m\u001b[1;34m\".mapbox_token\"\u001b[0m\u001b[1;33m)\u001b[0m\u001b[1;33m.\u001b[0m\u001b[0mread\u001b[0m\u001b[1;33m(\u001b[0m\u001b[1;33m)\u001b[0m\u001b[1;33m)\u001b[0m\u001b[1;33m\u001b[0m\u001b[1;33m\u001b[0m\u001b[0m\n\u001b[0m\u001b[0;32m      3\u001b[0m \u001b[0mdf\u001b[0m \u001b[1;33m=\u001b[0m \u001b[0mpx\u001b[0m\u001b[1;33m.\u001b[0m\u001b[0mdata\u001b[0m\u001b[1;33m.\u001b[0m\u001b[0mcarshare\u001b[0m\u001b[1;33m(\u001b[0m\u001b[1;33m)\u001b[0m\u001b[1;33m\u001b[0m\u001b[1;33m\u001b[0m\u001b[0m\n\u001b[0;32m      4\u001b[0m fig = px.scatter_mapbox(df, lat=\"centroid_lat\", lon=\"centroid_lon\",     color=\"peak_hour\", size=\"car_hours\",\n\u001b[0;32m      5\u001b[0m                   color_continuous_scale=px.colors.cyclical.IceFire, size_max=15, zoom=10)\n",
      "\u001b[1;31mFileNotFoundError\u001b[0m: [Errno 2] No such file or directory: '.mapbox_token'"
     ]
    }
   ],
   "source": [
    "import plotly.express as px\n",
    "px.set_mapbox_access_token(open(\".mapbox_token\").read())\n",
    "df = px.data.carshare()''\n",
    "fig = px.scatter_mapbox(df, lat=\"centroid_lat\", lon=\"centroid_lon\",     color=\"peak_hour\", size=\"car_hours\",\n",
    "                  color_continuous_scale=px.colors.cyclical.IceFire, size_max=15, zoom=10)\n",
    "fig.show()"
   ]
  },
  {
   "cell_type": "code",
   "execution_count": 314,
   "id": "5c9cc5a1",
   "metadata": {},
   "outputs": [],
   "source": [
    "\n",
    "df['hour'] = df['start_time'].dt.hour\n",
    "value1='hour'"
   ]
  },
  {
   "cell_type": "code",
   "execution_count": 315,
   "id": "c27cf8a7",
   "metadata": {},
   "outputs": [],
   "source": [
    "    counts = df.groupby(by=value1)['bike_id'].count()\n",
    "    means = df.groupby(by=value1).mean()\n",
    "    means.reset_index(inplace=True)"
   ]
  },
  {
   "cell_type": "code",
   "execution_count": 319,
   "id": "21005217",
   "metadata": {},
   "outputs": [
    {
     "data": {
      "text/html": [
       "<div>                            <div id=\"8ae582fe-0973-40e5-a2c6-1d81017ed8b2\" class=\"plotly-graph-div\" style=\"height:525px; width:100%;\"></div>            <script type=\"text/javascript\">                require([\"plotly\"], function(Plotly) {                    window.PLOTLYENV=window.PLOTLYENV || {};                                    if (document.getElementById(\"8ae582fe-0973-40e5-a2c6-1d81017ed8b2\")) {                    Plotly.newPlot(                        \"8ae582fe-0973-40e5-a2c6-1d81017ed8b2\",                        [{\"marker\": {\"color\": \"#68b0ab\"}, \"type\": \"bar\", \"x\": [0, 1, 2, 3, 4, 5, 6, 7, 8, 9, 10, 11, 12, 13, 14, 15, 16, 17, 18, 19, 20, 21, 22, 23], \"y\": [3006.8652032520326, 4016.130560928433, 4580.583550913838, 3976.3122212310436, 13753.965388213284, 1740.2787015043548, 1207.5558527811088, 1056.2521991862043, 949.8990788371815, 1017.6945152427924, 1462.8979622871045, 1750.3152823152823, 1772.19269725083, 1635.5283835571117, 1854.9905737929523, 1871.3930519877676, 1401.9511099679476, 1430.6287103129744, 1677.989314009662, 1572.584338670761, 1680.1900023784983, 1858.2311019790202, 2098.6739969416735, 2387.700502622378]}],                        {\"template\": {\"data\": {\"bar\": [{\"error_x\": {\"color\": \"#2a3f5f\"}, \"error_y\": {\"color\": \"#2a3f5f\"}, \"marker\": {\"line\": {\"color\": \"#E5ECF6\", \"width\": 0.5}}, \"type\": \"bar\"}], \"barpolar\": [{\"marker\": {\"line\": {\"color\": \"#E5ECF6\", \"width\": 0.5}}, \"type\": \"barpolar\"}], \"carpet\": [{\"aaxis\": {\"endlinecolor\": \"#2a3f5f\", \"gridcolor\": \"white\", \"linecolor\": \"white\", \"minorgridcolor\": \"white\", \"startlinecolor\": \"#2a3f5f\"}, \"baxis\": {\"endlinecolor\": \"#2a3f5f\", \"gridcolor\": \"white\", \"linecolor\": \"white\", \"minorgridcolor\": \"white\", \"startlinecolor\": \"#2a3f5f\"}, \"type\": \"carpet\"}], \"choropleth\": [{\"colorbar\": {\"outlinewidth\": 0, \"ticks\": \"\"}, \"type\": \"choropleth\"}], \"contour\": [{\"colorbar\": {\"outlinewidth\": 0, \"ticks\": \"\"}, \"colorscale\": [[0.0, \"#0d0887\"], [0.1111111111111111, \"#46039f\"], [0.2222222222222222, \"#7201a8\"], [0.3333333333333333, \"#9c179e\"], [0.4444444444444444, \"#bd3786\"], [0.5555555555555556, \"#d8576b\"], [0.6666666666666666, \"#ed7953\"], [0.7777777777777778, \"#fb9f3a\"], [0.8888888888888888, \"#fdca26\"], [1.0, \"#f0f921\"]], \"type\": \"contour\"}], \"contourcarpet\": [{\"colorbar\": {\"outlinewidth\": 0, \"ticks\": \"\"}, \"type\": \"contourcarpet\"}], \"heatmap\": [{\"colorbar\": {\"outlinewidth\": 0, \"ticks\": \"\"}, \"colorscale\": [[0.0, \"#0d0887\"], [0.1111111111111111, \"#46039f\"], [0.2222222222222222, \"#7201a8\"], [0.3333333333333333, \"#9c179e\"], [0.4444444444444444, \"#bd3786\"], [0.5555555555555556, \"#d8576b\"], [0.6666666666666666, \"#ed7953\"], [0.7777777777777778, \"#fb9f3a\"], [0.8888888888888888, \"#fdca26\"], [1.0, \"#f0f921\"]], \"type\": \"heatmap\"}], \"heatmapgl\": [{\"colorbar\": {\"outlinewidth\": 0, \"ticks\": \"\"}, \"colorscale\": [[0.0, \"#0d0887\"], [0.1111111111111111, \"#46039f\"], [0.2222222222222222, \"#7201a8\"], [0.3333333333333333, \"#9c179e\"], [0.4444444444444444, \"#bd3786\"], [0.5555555555555556, \"#d8576b\"], [0.6666666666666666, \"#ed7953\"], [0.7777777777777778, \"#fb9f3a\"], [0.8888888888888888, \"#fdca26\"], [1.0, \"#f0f921\"]], \"type\": \"heatmapgl\"}], \"histogram\": [{\"marker\": {\"colorbar\": {\"outlinewidth\": 0, \"ticks\": \"\"}}, \"type\": \"histogram\"}], \"histogram2d\": [{\"colorbar\": {\"outlinewidth\": 0, \"ticks\": \"\"}, \"colorscale\": [[0.0, \"#0d0887\"], [0.1111111111111111, \"#46039f\"], [0.2222222222222222, \"#7201a8\"], [0.3333333333333333, \"#9c179e\"], [0.4444444444444444, \"#bd3786\"], [0.5555555555555556, \"#d8576b\"], [0.6666666666666666, \"#ed7953\"], [0.7777777777777778, \"#fb9f3a\"], [0.8888888888888888, \"#fdca26\"], [1.0, \"#f0f921\"]], \"type\": \"histogram2d\"}], \"histogram2dcontour\": [{\"colorbar\": {\"outlinewidth\": 0, \"ticks\": \"\"}, \"colorscale\": [[0.0, \"#0d0887\"], [0.1111111111111111, \"#46039f\"], [0.2222222222222222, \"#7201a8\"], [0.3333333333333333, \"#9c179e\"], [0.4444444444444444, \"#bd3786\"], [0.5555555555555556, \"#d8576b\"], [0.6666666666666666, \"#ed7953\"], [0.7777777777777778, \"#fb9f3a\"], [0.8888888888888888, \"#fdca26\"], [1.0, \"#f0f921\"]], \"type\": \"histogram2dcontour\"}], \"mesh3d\": [{\"colorbar\": {\"outlinewidth\": 0, \"ticks\": \"\"}, \"type\": \"mesh3d\"}], \"parcoords\": [{\"line\": {\"colorbar\": {\"outlinewidth\": 0, \"ticks\": \"\"}}, \"type\": \"parcoords\"}], \"pie\": [{\"automargin\": true, \"type\": \"pie\"}], \"scatter\": [{\"marker\": {\"colorbar\": {\"outlinewidth\": 0, \"ticks\": \"\"}}, \"type\": \"scatter\"}], \"scatter3d\": [{\"line\": {\"colorbar\": {\"outlinewidth\": 0, \"ticks\": \"\"}}, \"marker\": {\"colorbar\": {\"outlinewidth\": 0, \"ticks\": \"\"}}, \"type\": \"scatter3d\"}], \"scattercarpet\": [{\"marker\": {\"colorbar\": {\"outlinewidth\": 0, \"ticks\": \"\"}}, \"type\": \"scattercarpet\"}], \"scattergeo\": [{\"marker\": {\"colorbar\": {\"outlinewidth\": 0, \"ticks\": \"\"}}, \"type\": \"scattergeo\"}], \"scattergl\": [{\"marker\": {\"colorbar\": {\"outlinewidth\": 0, \"ticks\": \"\"}}, \"type\": \"scattergl\"}], \"scattermapbox\": [{\"marker\": {\"colorbar\": {\"outlinewidth\": 0, \"ticks\": \"\"}}, \"type\": \"scattermapbox\"}], \"scatterpolar\": [{\"marker\": {\"colorbar\": {\"outlinewidth\": 0, \"ticks\": \"\"}}, \"type\": \"scatterpolar\"}], \"scatterpolargl\": [{\"marker\": {\"colorbar\": {\"outlinewidth\": 0, \"ticks\": \"\"}}, \"type\": \"scatterpolargl\"}], \"scatterternary\": [{\"marker\": {\"colorbar\": {\"outlinewidth\": 0, \"ticks\": \"\"}}, \"type\": \"scatterternary\"}], \"surface\": [{\"colorbar\": {\"outlinewidth\": 0, \"ticks\": \"\"}, \"colorscale\": [[0.0, \"#0d0887\"], [0.1111111111111111, \"#46039f\"], [0.2222222222222222, \"#7201a8\"], [0.3333333333333333, \"#9c179e\"], [0.4444444444444444, \"#bd3786\"], [0.5555555555555556, \"#d8576b\"], [0.6666666666666666, \"#ed7953\"], [0.7777777777777778, \"#fb9f3a\"], [0.8888888888888888, \"#fdca26\"], [1.0, \"#f0f921\"]], \"type\": \"surface\"}], \"table\": [{\"cells\": {\"fill\": {\"color\": \"#EBF0F8\"}, \"line\": {\"color\": \"white\"}}, \"header\": {\"fill\": {\"color\": \"#C8D4E3\"}, \"line\": {\"color\": \"white\"}}, \"type\": \"table\"}]}, \"layout\": {\"annotationdefaults\": {\"arrowcolor\": \"#2a3f5f\", \"arrowhead\": 0, \"arrowwidth\": 1}, \"autotypenumbers\": \"strict\", \"coloraxis\": {\"colorbar\": {\"outlinewidth\": 0, \"ticks\": \"\"}}, \"colorscale\": {\"diverging\": [[0, \"#8e0152\"], [0.1, \"#c51b7d\"], [0.2, \"#de77ae\"], [0.3, \"#f1b6da\"], [0.4, \"#fde0ef\"], [0.5, \"#f7f7f7\"], [0.6, \"#e6f5d0\"], [0.7, \"#b8e186\"], [0.8, \"#7fbc41\"], [0.9, \"#4d9221\"], [1, \"#276419\"]], \"sequential\": [[0.0, \"#0d0887\"], [0.1111111111111111, \"#46039f\"], [0.2222222222222222, \"#7201a8\"], [0.3333333333333333, \"#9c179e\"], [0.4444444444444444, \"#bd3786\"], [0.5555555555555556, \"#d8576b\"], [0.6666666666666666, \"#ed7953\"], [0.7777777777777778, \"#fb9f3a\"], [0.8888888888888888, \"#fdca26\"], [1.0, \"#f0f921\"]], \"sequentialminus\": [[0.0, \"#0d0887\"], [0.1111111111111111, \"#46039f\"], [0.2222222222222222, \"#7201a8\"], [0.3333333333333333, \"#9c179e\"], [0.4444444444444444, \"#bd3786\"], [0.5555555555555556, \"#d8576b\"], [0.6666666666666666, \"#ed7953\"], [0.7777777777777778, \"#fb9f3a\"], [0.8888888888888888, \"#fdca26\"], [1.0, \"#f0f921\"]]}, \"colorway\": [\"#636efa\", \"#EF553B\", \"#00cc96\", \"#ab63fa\", \"#FFA15A\", \"#19d3f3\", \"#FF6692\", \"#B6E880\", \"#FF97FF\", \"#FECB52\"], \"font\": {\"color\": \"#2a3f5f\"}, \"geo\": {\"bgcolor\": \"white\", \"lakecolor\": \"white\", \"landcolor\": \"#E5ECF6\", \"showlakes\": true, \"showland\": true, \"subunitcolor\": \"white\"}, \"hoverlabel\": {\"align\": \"left\"}, \"hovermode\": \"closest\", \"mapbox\": {\"style\": \"light\"}, \"paper_bgcolor\": \"white\", \"plot_bgcolor\": \"#E5ECF6\", \"polar\": {\"angularaxis\": {\"gridcolor\": \"white\", \"linecolor\": \"white\", \"ticks\": \"\"}, \"bgcolor\": \"#E5ECF6\", \"radialaxis\": {\"gridcolor\": \"white\", \"linecolor\": \"white\", \"ticks\": \"\"}}, \"scene\": {\"xaxis\": {\"backgroundcolor\": \"#E5ECF6\", \"gridcolor\": \"white\", \"gridwidth\": 2, \"linecolor\": \"white\", \"showbackground\": true, \"ticks\": \"\", \"zerolinecolor\": \"white\"}, \"yaxis\": {\"backgroundcolor\": \"#E5ECF6\", \"gridcolor\": \"white\", \"gridwidth\": 2, \"linecolor\": \"white\", \"showbackground\": true, \"ticks\": \"\", \"zerolinecolor\": \"white\"}, \"zaxis\": {\"backgroundcolor\": \"#E5ECF6\", \"gridcolor\": \"white\", \"gridwidth\": 2, \"linecolor\": \"white\", \"showbackground\": true, \"ticks\": \"\", \"zerolinecolor\": \"white\"}}, \"shapedefaults\": {\"line\": {\"color\": \"#2a3f5f\"}}, \"ternary\": {\"aaxis\": {\"gridcolor\": \"white\", \"linecolor\": \"white\", \"ticks\": \"\"}, \"baxis\": {\"gridcolor\": \"white\", \"linecolor\": \"white\", \"ticks\": \"\"}, \"bgcolor\": \"#E5ECF6\", \"caxis\": {\"gridcolor\": \"white\", \"linecolor\": \"white\", \"ticks\": \"\"}}, \"title\": {\"x\": 0.05}, \"xaxis\": {\"automargin\": true, \"gridcolor\": \"white\", \"linecolor\": \"white\", \"ticks\": \"\", \"title\": {\"standoff\": 15}, \"zerolinecolor\": \"white\", \"zerolinewidth\": 2}, \"yaxis\": {\"automargin\": true, \"gridcolor\": \"white\", \"linecolor\": \"white\", \"ticks\": \"\", \"title\": {\"standoff\": 15}, \"zerolinecolor\": \"white\", \"zerolinewidth\": 2}}}},                        {\"responsive\": true}                    ).then(function(){\n",
       "                            \n",
       "var gd = document.getElementById('8ae582fe-0973-40e5-a2c6-1d81017ed8b2');\n",
       "var x = new MutationObserver(function (mutations, observer) {{\n",
       "        var display = window.getComputedStyle(gd).display;\n",
       "        if (!display || display === 'none') {{\n",
       "            console.log([gd, 'removed!']);\n",
       "            Plotly.purge(gd);\n",
       "            observer.disconnect();\n",
       "        }}\n",
       "}});\n",
       "\n",
       "// Listen for the removal of the full notebook cells\n",
       "var notebookContainer = gd.closest('#notebook-container');\n",
       "if (notebookContainer) {{\n",
       "    x.observe(notebookContainer, {childList: true});\n",
       "}}\n",
       "\n",
       "// Listen for the clearing of the current output cell\n",
       "var outputEl = gd.closest('.output');\n",
       "if (outputEl) {{\n",
       "    x.observe(outputEl, {childList: true});\n",
       "}}\n",
       "\n",
       "                        })                };                });            </script>        </div>"
      ]
     },
     "metadata": {},
     "output_type": "display_data"
    }
   ],
   "source": [
    "go.Figure(data=go.Bar(x=means[value1], y=means['duration'], marker_color=colors1[1]))"
   ]
  },
  {
   "cell_type": "code",
   "execution_count": 318,
   "id": "2fa958c3",
   "metadata": {},
   "outputs": [],
   "source": [
    "colors1 = ['#8fc0a9', '#68b0ab', '#c8d5b9']"
   ]
  },
  {
   "cell_type": "code",
   "execution_count": 320,
   "id": "be27b813",
   "metadata": {},
   "outputs": [
    {
     "data": {
      "text/html": [
       "<div>                            <div id=\"840e491f-d2c8-401f-8541-55442f475c37\" class=\"plotly-graph-div\" style=\"height:525px; width:100%;\"></div>            <script type=\"text/javascript\">                require([\"plotly\"], function(Plotly) {                    window.PLOTLYENV=window.PLOTLYENV || {};                                    if (document.getElementById(\"840e491f-d2c8-401f-8541-55442f475c37\")) {                    Plotly.newPlot(                        \"840e491f-d2c8-401f-8541-55442f475c37\",                        [{\"marker\": {\"color\": \"#68b0ab\"}, \"type\": \"bar\", \"x\": [0, 1, 2, 3, 4, 5, 6, 7, 8, 9, 10, 11, 12, 13, 14, 15, 16, 17, 18, 19, 20, 21, 22, 23], \"y\": [6150, 4136, 2298, 1121, 1069, 3789, 10841, 25805, 41795, 30211, 26304, 30303, 35247, 36271, 36494, 40875, 50542, 61922, 51750, 36472, 25226, 18494, 13733, 9152]}],                        {\"template\": {\"data\": {\"bar\": [{\"error_x\": {\"color\": \"#2a3f5f\"}, \"error_y\": {\"color\": \"#2a3f5f\"}, \"marker\": {\"line\": {\"color\": \"#E5ECF6\", \"width\": 0.5}}, \"type\": \"bar\"}], \"barpolar\": [{\"marker\": {\"line\": {\"color\": \"#E5ECF6\", \"width\": 0.5}}, \"type\": \"barpolar\"}], \"carpet\": [{\"aaxis\": {\"endlinecolor\": \"#2a3f5f\", \"gridcolor\": \"white\", \"linecolor\": \"white\", \"minorgridcolor\": \"white\", \"startlinecolor\": \"#2a3f5f\"}, \"baxis\": {\"endlinecolor\": \"#2a3f5f\", \"gridcolor\": \"white\", \"linecolor\": \"white\", \"minorgridcolor\": \"white\", \"startlinecolor\": \"#2a3f5f\"}, \"type\": \"carpet\"}], \"choropleth\": [{\"colorbar\": {\"outlinewidth\": 0, \"ticks\": \"\"}, \"type\": \"choropleth\"}], \"contour\": [{\"colorbar\": {\"outlinewidth\": 0, \"ticks\": \"\"}, \"colorscale\": [[0.0, \"#0d0887\"], [0.1111111111111111, \"#46039f\"], [0.2222222222222222, \"#7201a8\"], [0.3333333333333333, \"#9c179e\"], [0.4444444444444444, \"#bd3786\"], [0.5555555555555556, \"#d8576b\"], [0.6666666666666666, \"#ed7953\"], [0.7777777777777778, \"#fb9f3a\"], [0.8888888888888888, \"#fdca26\"], [1.0, \"#f0f921\"]], \"type\": \"contour\"}], \"contourcarpet\": [{\"colorbar\": {\"outlinewidth\": 0, \"ticks\": \"\"}, \"type\": \"contourcarpet\"}], \"heatmap\": [{\"colorbar\": {\"outlinewidth\": 0, \"ticks\": \"\"}, \"colorscale\": [[0.0, \"#0d0887\"], [0.1111111111111111, \"#46039f\"], [0.2222222222222222, \"#7201a8\"], [0.3333333333333333, \"#9c179e\"], [0.4444444444444444, \"#bd3786\"], [0.5555555555555556, \"#d8576b\"], [0.6666666666666666, \"#ed7953\"], [0.7777777777777778, \"#fb9f3a\"], [0.8888888888888888, \"#fdca26\"], [1.0, \"#f0f921\"]], \"type\": \"heatmap\"}], \"heatmapgl\": [{\"colorbar\": {\"outlinewidth\": 0, \"ticks\": \"\"}, \"colorscale\": [[0.0, \"#0d0887\"], [0.1111111111111111, \"#46039f\"], [0.2222222222222222, \"#7201a8\"], [0.3333333333333333, \"#9c179e\"], [0.4444444444444444, \"#bd3786\"], [0.5555555555555556, \"#d8576b\"], [0.6666666666666666, \"#ed7953\"], [0.7777777777777778, \"#fb9f3a\"], [0.8888888888888888, \"#fdca26\"], [1.0, \"#f0f921\"]], \"type\": \"heatmapgl\"}], \"histogram\": [{\"marker\": {\"colorbar\": {\"outlinewidth\": 0, \"ticks\": \"\"}}, \"type\": \"histogram\"}], \"histogram2d\": [{\"colorbar\": {\"outlinewidth\": 0, \"ticks\": \"\"}, \"colorscale\": [[0.0, \"#0d0887\"], [0.1111111111111111, \"#46039f\"], [0.2222222222222222, \"#7201a8\"], [0.3333333333333333, \"#9c179e\"], [0.4444444444444444, \"#bd3786\"], [0.5555555555555556, \"#d8576b\"], [0.6666666666666666, \"#ed7953\"], [0.7777777777777778, \"#fb9f3a\"], [0.8888888888888888, \"#fdca26\"], [1.0, \"#f0f921\"]], \"type\": \"histogram2d\"}], \"histogram2dcontour\": [{\"colorbar\": {\"outlinewidth\": 0, \"ticks\": \"\"}, \"colorscale\": [[0.0, \"#0d0887\"], [0.1111111111111111, \"#46039f\"], [0.2222222222222222, \"#7201a8\"], [0.3333333333333333, \"#9c179e\"], [0.4444444444444444, \"#bd3786\"], [0.5555555555555556, \"#d8576b\"], [0.6666666666666666, \"#ed7953\"], [0.7777777777777778, \"#fb9f3a\"], [0.8888888888888888, \"#fdca26\"], [1.0, \"#f0f921\"]], \"type\": \"histogram2dcontour\"}], \"mesh3d\": [{\"colorbar\": {\"outlinewidth\": 0, \"ticks\": \"\"}, \"type\": \"mesh3d\"}], \"parcoords\": [{\"line\": {\"colorbar\": {\"outlinewidth\": 0, \"ticks\": \"\"}}, \"type\": \"parcoords\"}], \"pie\": [{\"automargin\": true, \"type\": \"pie\"}], \"scatter\": [{\"marker\": {\"colorbar\": {\"outlinewidth\": 0, \"ticks\": \"\"}}, \"type\": \"scatter\"}], \"scatter3d\": [{\"line\": {\"colorbar\": {\"outlinewidth\": 0, \"ticks\": \"\"}}, \"marker\": {\"colorbar\": {\"outlinewidth\": 0, \"ticks\": \"\"}}, \"type\": \"scatter3d\"}], \"scattercarpet\": [{\"marker\": {\"colorbar\": {\"outlinewidth\": 0, \"ticks\": \"\"}}, \"type\": \"scattercarpet\"}], \"scattergeo\": [{\"marker\": {\"colorbar\": {\"outlinewidth\": 0, \"ticks\": \"\"}}, \"type\": \"scattergeo\"}], \"scattergl\": [{\"marker\": {\"colorbar\": {\"outlinewidth\": 0, \"ticks\": \"\"}}, \"type\": \"scattergl\"}], \"scattermapbox\": [{\"marker\": {\"colorbar\": {\"outlinewidth\": 0, \"ticks\": \"\"}}, \"type\": \"scattermapbox\"}], \"scatterpolar\": [{\"marker\": {\"colorbar\": {\"outlinewidth\": 0, \"ticks\": \"\"}}, \"type\": \"scatterpolar\"}], \"scatterpolargl\": [{\"marker\": {\"colorbar\": {\"outlinewidth\": 0, \"ticks\": \"\"}}, \"type\": \"scatterpolargl\"}], \"scatterternary\": [{\"marker\": {\"colorbar\": {\"outlinewidth\": 0, \"ticks\": \"\"}}, \"type\": \"scatterternary\"}], \"surface\": [{\"colorbar\": {\"outlinewidth\": 0, \"ticks\": \"\"}, \"colorscale\": [[0.0, \"#0d0887\"], [0.1111111111111111, \"#46039f\"], [0.2222222222222222, \"#7201a8\"], [0.3333333333333333, \"#9c179e\"], [0.4444444444444444, \"#bd3786\"], [0.5555555555555556, \"#d8576b\"], [0.6666666666666666, \"#ed7953\"], [0.7777777777777778, \"#fb9f3a\"], [0.8888888888888888, \"#fdca26\"], [1.0, \"#f0f921\"]], \"type\": \"surface\"}], \"table\": [{\"cells\": {\"fill\": {\"color\": \"#EBF0F8\"}, \"line\": {\"color\": \"white\"}}, \"header\": {\"fill\": {\"color\": \"#C8D4E3\"}, \"line\": {\"color\": \"white\"}}, \"type\": \"table\"}]}, \"layout\": {\"annotationdefaults\": {\"arrowcolor\": \"#2a3f5f\", \"arrowhead\": 0, \"arrowwidth\": 1}, \"autotypenumbers\": \"strict\", \"coloraxis\": {\"colorbar\": {\"outlinewidth\": 0, \"ticks\": \"\"}}, \"colorscale\": {\"diverging\": [[0, \"#8e0152\"], [0.1, \"#c51b7d\"], [0.2, \"#de77ae\"], [0.3, \"#f1b6da\"], [0.4, \"#fde0ef\"], [0.5, \"#f7f7f7\"], [0.6, \"#e6f5d0\"], [0.7, \"#b8e186\"], [0.8, \"#7fbc41\"], [0.9, \"#4d9221\"], [1, \"#276419\"]], \"sequential\": [[0.0, \"#0d0887\"], [0.1111111111111111, \"#46039f\"], [0.2222222222222222, \"#7201a8\"], [0.3333333333333333, \"#9c179e\"], [0.4444444444444444, \"#bd3786\"], [0.5555555555555556, \"#d8576b\"], [0.6666666666666666, \"#ed7953\"], [0.7777777777777778, \"#fb9f3a\"], [0.8888888888888888, \"#fdca26\"], [1.0, \"#f0f921\"]], \"sequentialminus\": [[0.0, \"#0d0887\"], [0.1111111111111111, \"#46039f\"], [0.2222222222222222, \"#7201a8\"], [0.3333333333333333, \"#9c179e\"], [0.4444444444444444, \"#bd3786\"], [0.5555555555555556, \"#d8576b\"], [0.6666666666666666, \"#ed7953\"], [0.7777777777777778, \"#fb9f3a\"], [0.8888888888888888, \"#fdca26\"], [1.0, \"#f0f921\"]]}, \"colorway\": [\"#636efa\", \"#EF553B\", \"#00cc96\", \"#ab63fa\", \"#FFA15A\", \"#19d3f3\", \"#FF6692\", \"#B6E880\", \"#FF97FF\", \"#FECB52\"], \"font\": {\"color\": \"#2a3f5f\"}, \"geo\": {\"bgcolor\": \"white\", \"lakecolor\": \"white\", \"landcolor\": \"#E5ECF6\", \"showlakes\": true, \"showland\": true, \"subunitcolor\": \"white\"}, \"hoverlabel\": {\"align\": \"left\"}, \"hovermode\": \"closest\", \"mapbox\": {\"style\": \"light\"}, \"paper_bgcolor\": \"white\", \"plot_bgcolor\": \"#E5ECF6\", \"polar\": {\"angularaxis\": {\"gridcolor\": \"white\", \"linecolor\": \"white\", \"ticks\": \"\"}, \"bgcolor\": \"#E5ECF6\", \"radialaxis\": {\"gridcolor\": \"white\", \"linecolor\": \"white\", \"ticks\": \"\"}}, \"scene\": {\"xaxis\": {\"backgroundcolor\": \"#E5ECF6\", \"gridcolor\": \"white\", \"gridwidth\": 2, \"linecolor\": \"white\", \"showbackground\": true, \"ticks\": \"\", \"zerolinecolor\": \"white\"}, \"yaxis\": {\"backgroundcolor\": \"#E5ECF6\", \"gridcolor\": \"white\", \"gridwidth\": 2, \"linecolor\": \"white\", \"showbackground\": true, \"ticks\": \"\", \"zerolinecolor\": \"white\"}, \"zaxis\": {\"backgroundcolor\": \"#E5ECF6\", \"gridcolor\": \"white\", \"gridwidth\": 2, \"linecolor\": \"white\", \"showbackground\": true, \"ticks\": \"\", \"zerolinecolor\": \"white\"}}, \"shapedefaults\": {\"line\": {\"color\": \"#2a3f5f\"}}, \"ternary\": {\"aaxis\": {\"gridcolor\": \"white\", \"linecolor\": \"white\", \"ticks\": \"\"}, \"baxis\": {\"gridcolor\": \"white\", \"linecolor\": \"white\", \"ticks\": \"\"}, \"bgcolor\": \"#E5ECF6\", \"caxis\": {\"gridcolor\": \"white\", \"linecolor\": \"white\", \"ticks\": \"\"}}, \"title\": {\"x\": 0.05}, \"xaxis\": {\"automargin\": true, \"gridcolor\": \"white\", \"linecolor\": \"white\", \"ticks\": \"\", \"title\": {\"standoff\": 15}, \"zerolinecolor\": \"white\", \"zerolinewidth\": 2}, \"yaxis\": {\"automargin\": true, \"gridcolor\": \"white\", \"linecolor\": \"white\", \"ticks\": \"\", \"title\": {\"standoff\": 15}, \"zerolinecolor\": \"white\", \"zerolinewidth\": 2}}}},                        {\"responsive\": true}                    ).then(function(){\n",
       "                            \n",
       "var gd = document.getElementById('840e491f-d2c8-401f-8541-55442f475c37');\n",
       "var x = new MutationObserver(function (mutations, observer) {{\n",
       "        var display = window.getComputedStyle(gd).display;\n",
       "        if (!display || display === 'none') {{\n",
       "            console.log([gd, 'removed!']);\n",
       "            Plotly.purge(gd);\n",
       "            observer.disconnect();\n",
       "        }}\n",
       "}});\n",
       "\n",
       "// Listen for the removal of the full notebook cells\n",
       "var notebookContainer = gd.closest('#notebook-container');\n",
       "if (notebookContainer) {{\n",
       "    x.observe(notebookContainer, {childList: true});\n",
       "}}\n",
       "\n",
       "// Listen for the clearing of the current output cell\n",
       "var outputEl = gd.closest('.output');\n",
       "if (outputEl) {{\n",
       "    x.observe(outputEl, {childList: true});\n",
       "}}\n",
       "\n",
       "                        })                };                });            </script>        </div>"
      ]
     },
     "metadata": {},
     "output_type": "display_data"
    }
   ],
   "source": [
    "go.Figure(data=go.Bar(x=counts.index, y=counts.values, marker_color=colors1[1]))"
   ]
  },
  {
   "cell_type": "code",
   "execution_count": null,
   "id": "8626c231",
   "metadata": {},
   "outputs": [],
   "source": []
  }
 ],
 "metadata": {
  "kernelspec": {
   "display_name": "Python 3",
   "language": "python",
   "name": "python3"
  },
  "language_info": {
   "codemirror_mode": {
    "name": "ipython",
    "version": 3
   },
   "file_extension": ".py",
   "mimetype": "text/x-python",
   "name": "python",
   "nbconvert_exporter": "python",
   "pygments_lexer": "ipython3",
   "version": "3.8.3"
  }
 },
 "nbformat": 4,
 "nbformat_minor": 5
}
